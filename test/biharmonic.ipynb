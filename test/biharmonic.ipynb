{
 "cells": [
  {
   "cell_type": "code",
   "execution_count": 3,
   "metadata": {},
   "outputs": [],
   "source": [
    "import numpy as np\n",
    "import sympy as sp\n",
    "\n",
    "from sumpy.expansion.diff_op import (\n",
    "    make_identity_diff_op,\n",
    ")\n",
    "from collections import namedtuple\n",
    "DerivativeIdentifier = namedtuple(\"DerivativeIdentifier\", [\"mi\", \"vec_idx\"])\n",
    "\n",
    "from sumpy.recurrence import _make_sympy_vec, get_reindexed_and_center_origin_on_axis_recurrence\n",
    "\n",
    "from immutabledict import immutabledict\n",
    "from sumpy.expansion.diff_op import LinearPDESystemOperator"
   ]
  },
  {
   "cell_type": "code",
   "execution_count": 5,
   "metadata": {},
   "outputs": [],
   "source": [
    "var = _make_sympy_vec(\"x\", 2)\n",
    "var_t = _make_sympy_vec(\"t\", 2)\n",
    "abs_dist = sp.sqrt((var[0]-var_t[0])**2 + (var[1]-var_t[1])**2)\n",
    "w = make_identity_diff_op(2)\n",
    "\n",
    "partial_1x = DerivativeIdentifier((4,0), 0)\n",
    "partial_1y = DerivativeIdentifier((0,4), 0)\n",
    "biharmonic_op = {partial_1x: 1, partial_1y: 1}\n",
    "list_pde = immutabledict(biharmonic_op)\n",
    "\n",
    "biharmonic_pde = LinearPDESystemOperator(2, (list_pde,))\n",
    "g_x_y = abs_dist**2 * (sp.log(abs_dist)-1)\n",
    "\n",
    "n_init, _, r = get_reindexed_and_center_origin_on_axis_recurrence(biharmonic_pde)\n",
    "\n",
    "derivs = [sp.diff(g_x_y,\n",
    "                var_t[0], i).subs(var_t[0], 0).subs(var_t[1], 0)\n",
    "                                        for i in range(8)]\n",
    "\n",
    "x_coord = np.random.rand()  # noqa: NPY002\n",
    "y_coord = np.random.rand()  # noqa: NPY002\n",
    "coord_dict = {var[0]: var[0], var[1]: var[1]}\n",
    "derivs = [d.subs(coord_dict) for d in derivs]\n",
    "\n",
    "n = sp.symbols(\"n\")\n",
    "s = sp.Function(\"s\")\n",
    "\n",
    "# pylint: disable-next=not-callable\n",
    "subs_dict = {s(0): derivs[0], s(1): derivs[1], s(2): derivs[1], s(3): derivs[1]}\n",
    "check = []\n",
    "\n",
    "assert n_init == 4\n",
    "max_order_check = 8\n",
    "for i in range(n_init, max_order_check):\n",
    "    check.append(r.subs(n, i).subs(subs_dict) - derivs[i])\n",
    "    # pylint: disable-next=not-callable\n",
    "    subs_dict[s(i)] = derivs[i]"
   ]
  },
  {
   "cell_type": "code",
   "execution_count": 7,
   "metadata": {},
   "outputs": [],
   "source": [
    "max_order_check = 8\n",
    "for i in range(n_init, max_order_check):\n",
    "    check.append(r.subs(n, i).subs(subs_dict) - derivs[i])\n",
    "    # pylint: disable-next=not-callable\n",
    "    subs_dict[s(i)] = derivs[i]"
   ]
  },
  {
   "cell_type": "code",
   "execution_count": 14,
   "metadata": {},
   "outputs": [
    {
     "data": {
      "text/latex": [
       "$\\displaystyle 16.9964566798618$"
      ],
      "text/plain": [
       "16.9964566798618"
      ]
     },
     "execution_count": 14,
     "metadata": {},
     "output_type": "execute_result"
    }
   ],
   "source": [
    "r.subs(n, 4).subs(subs_dict).subs({var[0]: 1.2, var[1]: 2.3})"
   ]
  },
  {
   "cell_type": "code",
   "execution_count": 6,
   "metadata": {},
   "outputs": [
    {
     "data": {
      "text/plain": [
       "{s(0): (x0**2 + x1**2)*(log(sqrt(x0**2 + x1**2)) - 1),\n",
       " s(1): -2*x0*(log(sqrt(x0**2 + x1**2)) - 1) - x0,\n",
       " s(2): -2*x0*(log(sqrt(x0**2 + x1**2)) - 1) - x0,\n",
       " s(3): -2*x0*(log(sqrt(x0**2 + x1**2)) - 1) - x0,\n",
       " s(4): 2*(-24*x0**4/(x0**2 + x1**2)**2 + 8*x0**2*(4*x0**2/(x0**2 + x1**2) - 3)/(x0**2 + x1**2) + 12*x0**2/(x0**2 + x1**2) + 3)/(x0**2 + x1**2),\n",
       " s(5): -4*x0*(-24*x0**4/(x0**2 + x1**2)**2 + 40*x0**2/(x0**2 + x1**2) - 15)/(x0**2 + x1**2)**2,\n",
       " s(6): 12*(-320*x0**6/(x0**2 + x1**2)**3 + 360*x0**4/(x0**2 + x1**2)**2 + 24*x0**2*(16*x0**4/(x0**2 + x1**2)**2 - 20*x0**2/(x0**2 + x1**2) + 5)/(x0**2 + x1**2) - 60*x0**2/(x0**2 + x1**2) - 5)/(x0**2 + x1**2)**2,\n",
       " s(7): -48*x0*(-160*x0**6/(x0**2 + x1**2)**3 + 336*x0**4/(x0**2 + x1**2)**2 - 210*x0**2/(x0**2 + x1**2) + 35)/(x0**2 + x1**2)**3}"
      ]
     },
     "execution_count": 6,
     "metadata": {},
     "output_type": "execute_result"
    }
   ],
   "source": [
    "subs_dict"
   ]
  },
  {
   "cell_type": "code",
   "execution_count": null,
   "metadata": {},
   "outputs": [],
   "source": []
  }
 ],
 "metadata": {
  "kernelspec": {
   "display_name": "inteq",
   "language": "python",
   "name": "python3"
  },
  "language_info": {
   "codemirror_mode": {
    "name": "ipython",
    "version": 3
   },
   "file_extension": ".py",
   "mimetype": "text/x-python",
   "name": "python",
   "nbconvert_exporter": "python",
   "pygments_lexer": "ipython3",
   "version": "3.11.9"
  }
 },
 "nbformat": 4,
 "nbformat_minor": 2
}
