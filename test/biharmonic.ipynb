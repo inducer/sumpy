{
 "cells": [
  {
   "cell_type": "code",
   "execution_count": 1,
   "metadata": {},
   "outputs": [],
   "source": [
    "import numpy as np\n",
    "import sympy as sp\n",
    "\n",
    "from sumpy.expansion.diff_op import (\n",
    "    make_identity_diff_op,\n",
    ")\n",
    "from collections import namedtuple\n",
    "DerivativeIdentifier = namedtuple(\"DerivativeIdentifier\", [\"mi\", \"vec_idx\"])\n",
    "\n",
    "from sumpy.recurrence import _make_sympy_vec, get_reindexed_and_center_origin_on_axis_recurrence\n",
    "\n",
    "from immutabledict import immutabledict\n",
    "from sumpy.expansion.diff_op import LinearPDESystemOperator"
   ]
  },
  {
   "cell_type": "code",
   "execution_count": 10,
   "metadata": {},
   "outputs": [],
   "source": [
    "var = _make_sympy_vec(\"x\", 2)\n",
    "var_t = _make_sympy_vec(\"t\", 2)\n",
    "abs_dist = sp.sqrt((var[0]-var_t[0])**2 + (var[1]-var_t[1])**2)\n",
    "w = make_identity_diff_op(2)\n",
    "\n",
    "partial_4x = DerivativeIdentifier((4,0), 0)\n",
    "partial_4y = DerivativeIdentifier((0,4), 0)\n",
    "partial_2x2y = DerivativeIdentifier((2,2), 0)\n",
    "biharmonic_op = {partial_4x: 1, partial_4y: 1, partial_2x2y:2}\n",
    "list_pde = immutabledict(biharmonic_op)\n",
    "\n",
    "biharmonic_pde = LinearPDESystemOperator(2, (list_pde,))\n",
    "g_x_y = abs_dist**2 * (sp.log(abs_dist))\n",
    "\n",
    "n_init, _, r = get_reindexed_and_center_origin_on_axis_recurrence(biharmonic_pde)\n",
    "\n",
    "derivs = [sp.diff(g_x_y,\n",
    "                var_t[0], i).subs(var_t[0], 0).subs(var_t[1], 0)\n",
    "                                        for i in range(8)]\n",
    "\n",
    "x_coord = np.random.rand()  # noqa: NPY002\n",
    "y_coord = np.random.rand()  # noqa: NPY002\n",
    "coord_dict = {var[0]: var[0], var[1]: var[1]}\n",
    "derivs = [d.subs(coord_dict) for d in derivs]\n",
    "\n",
    "n = sp.symbols(\"n\")\n",
    "s = sp.Function(\"s\")\n",
    "\n",
    "# pylint: disable-next=not-callable\n",
    "subs_dict = {s(0): derivs[0], s(1): derivs[1], s(2): derivs[2], s(3): derivs[3]}\n",
    "check = []\n",
    "\n",
    "assert n_init == 4\n",
    "max_order_check = 8\n",
    "for i in range(n_init, max_order_check):\n",
    "    check.append(r.subs(n, i).subs(subs_dict) - derivs[i])\n",
    "    # pylint: disable-next=not-callable\n",
    "    subs_dict[s(i)] = derivs[i]"
   ]
  },
  {
   "cell_type": "code",
   "execution_count": 11,
   "metadata": {},
   "outputs": [],
   "source": [
    "max_order_check = 8\n",
    "for i in range(n_init, max_order_check):\n",
    "    check.append(r.subs(n, i).subs(subs_dict) - derivs[i])\n",
    "    # pylint: disable-next=not-callable\n",
    "    subs_dict[s(i)] = derivs[i]"
   ]
  },
  {
   "cell_type": "code",
   "execution_count": 18,
   "metadata": {},
   "outputs": [
    {
     "data": {
      "text/latex": [
       "$\\displaystyle -0.00388859878925869$"
      ],
      "text/plain": [
       "-0.00388859878925869"
      ]
     },
     "execution_count": 18,
     "metadata": {},
     "output_type": "execute_result"
    }
   ],
   "source": [
    "r.subs(n, 4).subs(subs_dict).subs({var[0]: 23, var[1]: 2.3})"
   ]
  },
  {
   "cell_type": "code",
   "execution_count": 19,
   "metadata": {},
   "outputs": [
    {
     "data": {
      "text/latex": [
       "$\\displaystyle - \\frac{\\left(- 2 x_{0}^{2} + 6 x_{1}^{2}\\right) s{\\left(3 \\right)}}{x_{0}^{3} + x_{0} x_{1}^{2}} - \\frac{\\left(- x_{0}^{4} + 6 x_{0}^{2} x_{1}^{2} + 15 x_{1}^{4}\\right) s{\\left(1 \\right)}}{x_{0}^{7} + 2 x_{0}^{5} x_{1}^{2} + x_{0}^{3} x_{1}^{4}} + \\frac{\\left(x_{0}^{4} - 6 x_{0}^{2} x_{1}^{2} - 15 x_{1}^{4}\\right) s{\\left(2 \\right)}}{x_{0}^{6} + 2 x_{0}^{4} x_{1}^{2} + x_{0}^{2} x_{1}^{4}}$"
      ],
      "text/plain": [
       "-(-2*x0**2 + 6*x1**2)*s(3)/(x0**3 + x0*x1**2) - (-x0**4 + 6*x0**2*x1**2 + 15*x1**4)*s(1)/(x0**7 + 2*x0**5*x1**2 + x0**3*x1**4) + (x0**4 - 6*x0**2*x1**2 - 15*x1**4)*s(2)/(x0**6 + 2*x0**4*x1**2 + x0**2*x1**4)"
      ]
     },
     "execution_count": 19,
     "metadata": {},
     "output_type": "execute_result"
    }
   ],
   "source": [
    "r.subs(n, 4)"
   ]
  }
 ],
 "metadata": {
  "kernelspec": {
   "display_name": "inteq",
   "language": "python",
   "name": "python3"
  },
  "language_info": {
   "codemirror_mode": {
    "name": "ipython",
    "version": 3
   },
   "file_extension": ".py",
   "mimetype": "text/x-python",
   "name": "python",
   "nbconvert_exporter": "python",
   "pygments_lexer": "ipython3",
   "version": "3.11.9"
  }
 },
 "nbformat": 4,
 "nbformat_minor": 2
}
