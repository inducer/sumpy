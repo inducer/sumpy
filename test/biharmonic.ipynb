{
 "cells": [
  {
   "cell_type": "code",
   "execution_count": 5,
   "metadata": {},
   "outputs": [],
   "source": [
    "import numpy as np\n",
    "import sympy as sp\n",
    "\n",
    "from sumpy.expansion.diff_op import (\n",
    "    make_identity_diff_op,\n",
    ")\n",
    "from collections import namedtuple\n",
    "DerivativeIdentifier = namedtuple(\"DerivativeIdentifier\", [\"mi\", \"vec_idx\"])\n",
    "\n",
    "from sumpy.recurrence import _make_sympy_vec, get_reindexed_and_center_origin_on_axis_recurrence\n",
    "\n",
    "from immutabledict import immutabledict\n",
    "from sumpy.expansion.diff_op import LinearPDESystemOperator\n",
    "\n",
    "import sympy as sp\n",
    "\n",
    "from sumpy.recurrence import recurrence_from_coeff_array, ode_in_x_to_coeff_array, pde_to_ode_in_r, ode_in_r_to_x\n",
    "\n",
    "\n",
    "from sumpy.expansion.diff_op import (\n",
    "    DerivativeIdentifier,\n",
    "    LinearPDESystemOperator,\n",
    "    make_identity_diff_op,\n",
    "    laplacian\n",
    ")"
   ]
  },
  {
   "cell_type": "code",
   "execution_count": 7,
   "metadata": {},
   "outputs": [
    {
     "data": {
      "text/latex": [
       "$\\displaystyle 3 n x_{0}^{2} s{\\left(n + 1 \\right)} + 3 n x_{0} \\left(n - 1\\right) s{\\left(n \\right)} + 2 n x_{0} s{\\left(n \\right)} + n \\left(n - 2\\right) \\left(n - 1\\right) s{\\left(n - 1 \\right)} + n \\left(n - 1\\right) s{\\left(n - 1 \\right)} + x_{0}^{3} s{\\left(n + 2 \\right)} + x_{0}^{2} s{\\left(n + 1 \\right)} + x_{1}^{2} \\left(n s{\\left(n + 1 \\right)} + x_{0} s{\\left(n + 2 \\right)}\\right) - x_{1}^{2} s{\\left(n + 1 \\right)}$"
      ],
      "text/plain": [
       "3*n*x0**2*s(n + 1) + 3*n*x0*(n - 1)*s(n) + 2*n*x0*s(n) + n*(n - 2)*(n - 1)*s(n - 1) + n*(n - 1)*s(n - 1) + x0**3*s(n + 2) + x0**2*s(n + 1) + x1**2*(n*s(n + 1) + x0*s(n + 2)) - x1**2*s(n + 1)"
      ]
     },
     "execution_count": 7,
     "metadata": {},
     "output_type": "execute_result"
    }
   ],
   "source": [
    "w = make_identity_diff_op(2)\n",
    "laplace2d = laplacian(w)\n",
    "pde = laplace2d\n",
    "ode_in_r, var, ode_order = pde_to_ode_in_r(pde)\n",
    "ode_in_x = ode_in_r_to_x(ode_in_r, var, ode_order).simplify()\n",
    "ode_in_x_cleared = (ode_in_x * var[0]**(pde.order*2-1)).simplify()\n",
    "# ode_in_x_cleared shouldn't have rational function coefficients\n",
    "assert sp.together(ode_in_x_cleared) == ode_in_x_cleared\n",
    "f_x_derivs = _make_sympy_vec(\"f_x\", ode_order+1)\n",
    "poly = sp.Poly(ode_in_x_cleared, *f_x_derivs)\n",
    "coeffs = ode_in_x_to_coeff_array(poly, ode_order, var)\n",
    "recurrence_from_coeff_array(coeffs, var)"
   ]
  },
  {
   "cell_type": "code",
   "execution_count": 20,
   "metadata": {},
   "outputs": [
    {
     "data": {
      "text/latex": [
       "$\\displaystyle f_{x0} x_{0}^{2}$"
      ],
      "text/plain": [
       "f_x0*x0**2"
      ]
     },
     "execution_count": 20,
     "metadata": {},
     "output_type": "execute_result"
    }
   ],
   "source": [
    "fake_ode_in_x = f_x_derivs[0] * (var[0]**2)\n",
    "fake_ode_in_x"
   ]
  },
  {
   "cell_type": "code",
   "execution_count": 21,
   "metadata": {},
   "outputs": [
    {
     "data": {
      "text/latex": [
       "$\\displaystyle n^{2} s{\\left(n - 2 \\right)} + 2 n x_{0} s{\\left(n - 1 \\right)} - n s{\\left(n - 2 \\right)} + x_{0}^{2} s{\\left(n \\right)}$"
      ],
      "text/plain": [
       "n**2*s(n - 2) + 2*n*x0*s(n - 1) - n*s(n - 2) + x0**2*s(n)"
      ]
     },
     "execution_count": 21,
     "metadata": {},
     "output_type": "execute_result"
    }
   ],
   "source": [
    "poly = sp.Poly(fake_ode_in_x, *f_x_derivs)\n",
    "coeffs = ode_in_x_to_coeff_array(poly, ode_order, var)\n",
    "recurrence_from_coeff_array(coeffs, var).expand()"
   ]
  },
  {
   "cell_type": "code",
   "execution_count": null,
   "metadata": {},
   "outputs": [],
   "source": []
  }
 ],
 "metadata": {
  "kernelspec": {
   "display_name": "inteq",
   "language": "python",
   "name": "python3"
  },
  "language_info": {
   "codemirror_mode": {
    "name": "ipython",
    "version": 3
   },
   "file_extension": ".py",
   "mimetype": "text/x-python",
   "name": "python",
   "nbconvert_exporter": "python",
   "pygments_lexer": "ipython3",
   "version": "3.11.9"
  }
 },
 "nbformat": 4,
 "nbformat_minor": 2
}
