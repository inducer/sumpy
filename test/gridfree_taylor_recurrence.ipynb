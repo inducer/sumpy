{
 "cells": [
  {
   "cell_type": "markdown",
   "metadata": {},
   "source": [
    "# Generalizing a Taylor Recurrence"
   ]
  },
  {
   "cell_type": "code",
   "execution_count": 2,
   "metadata": {},
   "outputs": [],
   "source": [
    "from sumpy.recurrence import _make_sympy_vec, get_processed_and_shifted_recurrence\n",
    "\n",
    "from sumpy.expansion.diff_op import (\n",
    "    laplacian,\n",
    "    make_identity_diff_op,\n",
    ")\n",
    "\n",
    "from sumpy.recurrence import get_recurrence, recurrence_from_pde, shift_recurrence, get_shifted_recurrence_exp_from_pde, _extract_idx_terms_from_recurrence, process_recurrence_relation, get_taylor_recurrence\n",
    "\n",
    "import sympy as sp\n",
    "from sympy import hankel1\n",
    "\n",
    "import numpy as np\n",
    "\n",
    "import math\n",
    "\n",
    "import matplotlib.pyplot as plt\n",
    "from matplotlib import cm, ticker"
   ]
  },
  {
   "cell_type": "code",
   "execution_count": 3,
   "metadata": {},
   "outputs": [],
   "source": [
    "var = _make_sympy_vec(\"x\", 2)\n",
    "s = sp.Function(\"s\")\n",
    "n = sp.symbols(\"n\")\n",
    "i = sp.symbols(\"i\")"
   ]
  },
  {
   "cell_type": "code",
   "execution_count": 4,
   "metadata": {},
   "outputs": [],
   "source": [
    "def compute_derivatives(p):\n",
    "    var = _make_sympy_vec(\"x\", 2)\n",
    "    var_t = _make_sympy_vec(\"t\", 2)\n",
    "    g_x_y = sp.log(sp.sqrt((var[0]-var_t[0])**2 + (var[1]-var_t[1])**2))\n",
    "    derivs = [sp.diff(g_x_y,\n",
    "                        var_t[0], i).subs(var_t[0], 0).subs(var_t[1], 0)\n",
    "                        for i in range(p)]\n",
    "    return derivs"
   ]
  },
  {
   "cell_type": "code",
   "execution_count": 5,
   "metadata": {},
   "outputs": [],
   "source": [
    "def compute_derivatives_h2d(p, k=1.0):\n",
    "    var = _make_sympy_vec(\"x\", 2)\n",
    "    var_t = _make_sympy_vec(\"t\", 2)\n",
    "    abs_dist = sp.sqrt((var[0]-var_t[0])**2 +\n",
    "                        (var[1]-var_t[1])**2)\n",
    "    g_x_y = (1j/4) * hankel1(0, k * abs_dist)\n",
    "    derivs_helmholtz = [sp.diff(g_x_y,\n",
    "                        var_t[0], i).subs(var_t[0], 0).subs(var_t[1], 0)\n",
    "                                                for i in range(p)]\n",
    "    return derivs_helmholtz"
   ]
  },
  {
   "cell_type": "code",
   "execution_count": 6,
   "metadata": {},
   "outputs": [],
   "source": [
    "w = make_identity_diff_op(2)\n",
    "laplace2d = laplacian(w)\n",
    "\n",
    "w = make_identity_diff_op(2)\n",
    "helmholtz2d = laplacian(w) + w\n",
    "\n",
    "derivs_lap = compute_derivatives(8)\n",
    "derivs_helm = compute_derivatives_h2d(8)"
   ]
  },
  {
   "cell_type": "code",
   "execution_count": 10,
   "metadata": {},
   "outputs": [
    {
     "data": {
      "text/latex": [
       "$\\displaystyle \\frac{\\left(- 5 n + \\left(n + 1\\right)^{2} + 1\\right) s{\\left(n - 2 \\right)}}{x_{1}^{2}}$"
      ],
      "text/plain": [
       "(-5*n + (n + 1)**2 + 1)*s(n - 2)/x1**2"
      ]
     },
     "execution_count": 10,
     "metadata": {},
     "output_type": "execute_result"
    }
   ],
   "source": [
    "t_recurrence = get_taylor_recurrence(laplace2d)[1]\n",
    "t_recurrence"
   ]
  },
  {
   "cell_type": "code",
   "execution_count": 11,
   "metadata": {},
   "outputs": [],
   "source": [
    "coord_dict = {var[0]: np.random.rand(), var[1]: np.random.rand()}"
   ]
  },
  {
   "cell_type": "code",
   "execution_count": 22,
   "metadata": {},
   "outputs": [],
   "source": [
    "def eval_taylor_recurrence(deriv_order, taylor_order=4):\n",
    "    terms_to_compute = taylor_order + deriv_order\n",
    "    exp = 0\n",
    "    for i in range(taylor_order):\n",
    "        exp += t_recurrence.subs(n, deriv_order+i)/math.factorial(i) * var[0]**i\n",
    "    return exp"
   ]
  },
  {
   "cell_type": "code",
   "execution_count": 26,
   "metadata": {},
   "outputs": [
    {
     "data": {
      "text/latex": [
       "$\\displaystyle \\frac{10 x_{0}^{3} s{\\left(4 \\right)}}{3 x_{1}^{2}} + \\frac{6 x_{0}^{2} s{\\left(3 \\right)}}{x_{1}^{2}} + \\frac{6 x_{0} s{\\left(2 \\right)}}{x_{1}^{2}} + \\frac{2 s{\\left(1 \\right)}}{x_{1}^{2}}$"
      ],
      "text/plain": [
       "10*x0**3*s(4)/(3*x1**2) + 6*x0**2*s(3)/x1**2 + 6*x0*s(2)/x1**2 + 2*s(1)/x1**2"
      ]
     },
     "execution_count": 26,
     "metadata": {},
     "output_type": "execute_result"
    }
   ],
   "source": [
    "eval_taylor_recurrence(3)"
   ]
  },
  {
   "cell_type": "code",
   "execution_count": null,
   "metadata": {},
   "outputs": [
    {
     "data": {
      "text/latex": [
       "$\\displaystyle \\frac{x_{0}^{3} \\left(- 5 n + \\left(n + 4\\right)^{2} - 14\\right) s{\\left(n + 1 \\right)}}{6 x_{1}^{2}} + \\frac{x_{0}^{2} \\left(- 5 n + \\left(n + 3\\right)^{2} - 9\\right) s{\\left(n \\right)}}{2 x_{1}^{2}} + \\frac{x_{0} \\left(- 5 n + \\left(n + 2\\right)^{2} - 4\\right) s{\\left(n - 1 \\right)}}{x_{1}^{2}} + \\frac{\\left(- 5 n + \\left(n + 1\\right)^{2} + 1\\right) s{\\left(n - 2 \\right)}}{x_{1}^{2}}$"
      ],
      "text/plain": [
       "x0**3*(-5*n + (n + 4)**2 - 14)*s(n + 1)/(6*x1**2) + x0**2*(-5*n + (n + 3)**2 - 9)*s(n)/(2*x1**2) + x0*(-5*n + (n + 2)**2 - 4)*s(n - 1)/x1**2 + (-5*n + (n + 1)**2 + 1)*s(n - 2)/x1**2"
      ]
     },
     "execution_count": 27,
     "metadata": {},
     "output_type": "execute_result"
    }
   ],
   "source": [
    "eval_taylor_recurrence(n).subs(s(n+1), )"
   ]
  },
  {
   "cell_type": "code",
   "execution_count": 31,
   "metadata": {},
   "outputs": [
    {
     "data": {
      "text/latex": [
       "$\\displaystyle \\frac{x_{0}^{3} \\left(- 5 n + \\left(n + 2\\right)^{2} - 4\\right) \\left(- 5 n + \\left(n + 4\\right)^{2} - 14\\right) s{\\left(n - 1 \\right)}}{6 x_{1}^{4}} + \\frac{x_{0}^{2} \\left(- 5 n + \\left(n + 3\\right)^{2} - 9\\right) s{\\left(n \\right)}}{2 x_{1}^{2}} + \\frac{x_{0} \\left(- 5 n + \\left(n + 2\\right)^{2} - 4\\right) s{\\left(n - 1 \\right)}}{x_{1}^{2}} + \\frac{\\left(- 5 n + \\left(n + 1\\right)^{2} + 1\\right) s{\\left(n - 2 \\right)}}{x_{1}^{2}}$"
      ],
      "text/plain": [
       "x0**3*(-5*n + (n + 2)**2 - 4)*(-5*n + (n + 4)**2 - 14)*s(n - 1)/(6*x1**4) + x0**2*(-5*n + (n + 3)**2 - 9)*s(n)/(2*x1**2) + x0*(-5*n + (n + 2)**2 - 4)*s(n - 1)/x1**2 + (-5*n + (n + 1)**2 + 1)*s(n - 2)/x1**2"
      ]
     },
     "execution_count": 31,
     "metadata": {},
     "output_type": "execute_result"
    }
   ],
   "source": [
    "eval_taylor_recurrence(n).subs(s(n+1), t_recurrence.subs(n,n+1))"
   ]
  },
  {
   "cell_type": "code",
   "execution_count": 43,
   "metadata": {},
   "outputs": [
    {
     "data": {
      "text/latex": [
       "$\\displaystyle \\log{\\left(\\sqrt{x_{1}^{2}} \\right)}$"
      ],
      "text/plain": [
       "log(sqrt(x1**2))"
      ]
     },
     "execution_count": 43,
     "metadata": {},
     "output_type": "execute_result"
    }
   ],
   "source": [
    "derivs_lap[0].subs(var[0],0)"
   ]
  },
  {
   "cell_type": "code",
   "execution_count": 42,
   "metadata": {},
   "outputs": [
    {
     "data": {
      "text/latex": [
       "$\\displaystyle 0$"
      ],
      "text/plain": [
       "0"
      ]
     },
     "execution_count": 42,
     "metadata": {},
     "output_type": "execute_result"
    }
   ],
   "source": [
    "derivs_lap[1].subs(var[0],0)"
   ]
  },
  {
   "cell_type": "code",
   "execution_count": 44,
   "metadata": {},
   "outputs": [
    {
     "data": {
      "text/latex": [
       "$\\displaystyle \\frac{1}{x_{1}^{2}}$"
      ],
      "text/plain": [
       "x1**(-2)"
      ]
     },
     "execution_count": 44,
     "metadata": {},
     "output_type": "execute_result"
    }
   ],
   "source": [
    "derivs_lap[2].subs(var[0],0)"
   ]
  },
  {
   "cell_type": "code",
   "execution_count": 45,
   "metadata": {},
   "outputs": [
    {
     "data": {
      "text/latex": [
       "$\\displaystyle 0$"
      ],
      "text/plain": [
       "0"
      ]
     },
     "execution_count": 45,
     "metadata": {},
     "output_type": "execute_result"
    }
   ],
   "source": [
    "t_recurrence.subs(n, 2)"
   ]
  },
  {
   "cell_type": "code",
   "execution_count": null,
   "metadata": {},
   "outputs": [],
   "source": []
  }
 ],
 "metadata": {
  "kernelspec": {
   "display_name": "inteq",
   "language": "python",
   "name": "python3"
  },
  "language_info": {
   "codemirror_mode": {
    "name": "ipython",
    "version": 3
   },
   "file_extension": ".py",
   "mimetype": "text/x-python",
   "name": "python",
   "nbconvert_exporter": "python",
   "pygments_lexer": "ipython3",
   "version": "3.11.9"
  }
 },
 "nbformat": 4,
 "nbformat_minor": 2
}
