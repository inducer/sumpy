{
 "cells": [
  {
   "cell_type": "code",
   "execution_count": 1,
   "metadata": {},
   "outputs": [],
   "source": [
    "from sumpy.recurrence import _make_sympy_vec, get_reindexed_and_center_origin_on_axis_recurrence, pde_to_ode_in_r, ode_in_r_to_x\n",
    "\n",
    "from sumpy.expansion.diff_op import (\n",
    "    laplacian,\n",
    "    make_identity_diff_op,\n",
    ")\n",
    "\n",
    "\n",
    "import sympy as sp\n",
    "from sympy import hankel1\n",
    "\n",
    "import numpy as np\n",
    "\n",
    "import math\n",
    "\n",
    "import matplotlib.pyplot as plt\n",
    "from matplotlib import cm, ticker"
   ]
  },
  {
   "cell_type": "code",
   "execution_count": 2,
   "metadata": {},
   "outputs": [],
   "source": [
    "w = make_identity_diff_op(2)\n",
    "laplace2d = laplacian(w)\n",
    "n_init_lap, order_lap, recur_laplace = get_reindexed_and_center_origin_on_axis_recurrence(laplace2d)\n",
    "\n",
    "w = make_identity_diff_op(2)\n",
    "helmholtz2d = laplacian(w) + w\n",
    "n_init_helm, order_helm, recur_helmholtz = get_reindexed_and_center_origin_on_axis_recurrence(helmholtz2d)"
   ]
  },
  {
   "cell_type": "code",
   "execution_count": 3,
   "metadata": {},
   "outputs": [
    {
     "data": {
      "text/latex": [
       "$\\displaystyle \\frac{f_{r1}}{\\sqrt{x_{0}^{2} + x_{1}^{2}}} + f_{r2}$"
      ],
      "text/plain": [
       "f_r1/sqrt(x0**2 + x1**2) + f_r2"
      ]
     },
     "execution_count": 3,
     "metadata": {},
     "output_type": "execute_result"
    }
   ],
   "source": [
    "pde_to_ode_in_r(laplace2d)[0].simplify()"
   ]
  },
  {
   "cell_type": "code",
   "execution_count": 4,
   "metadata": {},
   "outputs": [
    {
     "data": {
      "text/latex": [
       "$\\displaystyle \\frac{f_{x1}}{x_{0}} - \\frac{f_{x1} x_{1}^{2}}{x_{0}^{3}} + f_{x2} + \\frac{f_{x2} x_{1}^{2}}{x_{0}^{2}}$"
      ],
      "text/plain": [
       "f_x1/x0 - f_x1*x1**2/x0**3 + f_x2 + f_x2*x1**2/x0**2"
      ]
     },
     "execution_count": 4,
     "metadata": {},
     "output_type": "execute_result"
    }
   ],
   "source": [
    "ode_in_r_to_x(pde_to_ode_in_r(laplace2d)[0].simplify(), _make_sympy_vec(\"x\",2), 2).simplify()"
   ]
  },
  {
   "cell_type": "code",
   "execution_count": 5,
   "metadata": {},
   "outputs": [],
   "source": [
    "var = _make_sympy_vec(\"x\", 2)\n",
    "rct = sp.symbols(\"r_{ct}\")\n",
    "s = sp.Function(\"s\")\n",
    "n = sp.symbols(\"n\")"
   ]
  },
  {
   "cell_type": "code",
   "execution_count": 6,
   "metadata": {},
   "outputs": [],
   "source": [
    "def compute_derivatives(p):\n",
    "    var = _make_sympy_vec(\"x\", 2)\n",
    "    var_t = _make_sympy_vec(\"t\", 2)\n",
    "    g_x_y = sp.log(sp.sqrt((var[0]-var_t[0])**2 + (var[1]-var_t[1])**2))\n",
    "    derivs = [sp.diff(g_x_y,\n",
    "                        var_t[0], i).subs(var_t[0], 0).subs(var_t[1], 0)\n",
    "                        for i in range(p)]\n",
    "    return derivs\n",
    "l_max = 15\n",
    "derivs_laplace = compute_derivatives(l_max)\n",
    "derivs_laplace_dict = dict(zip([s(i) for i in range(l_max)], [derivs_laplace[i] for i in range(l_max)]))"
   ]
  },
  {
   "cell_type": "code",
   "execution_count": 7,
   "metadata": {},
   "outputs": [],
   "source": [
    "def compute_rel_err(nsub, coord_dict):\n",
    "    return abs((recur_laplace.subs(n, nsub).subs(derivs_laplace_dict).subs(coord_dict) - derivs_laplace[nsub].subs(coord_dict))/derivs_laplace[nsub].subs(coord_dict))"
   ]
  },
  {
   "cell_type": "code",
   "execution_count": 8,
   "metadata": {},
   "outputs": [
    {
     "name": "stdout",
     "output_type": "stream",
     "text": [
      "[62589959594642.0, 17776743927062.7, -73824491792606.5]\n",
      "ratio:  3.52088998139626 ||||| digits:  0.546652454715453 |||| pred error: 1e-15\n",
      "rel. error:  3.58250404763811e-15\n"
     ]
    }
   ],
   "source": [
    "nsub = 14\n",
    "coord_dict = {var[0]: 0.1 * np.random.rand(), var[1]: np.random.rand()}\n",
    "recur_coeffs_lap = sp.poly(recur_laplace.subs(n, nsub), [s(i) for i in range(nsub - order_lap, nsub)]).coeffs()\n",
    "#[i+nsub-order_lap for i in range(len(recur_coeffs_lap))]\n",
    "coeffs_sub = [(recur_coeffs_lap[i]*derivs_laplace[i+nsub-order_lap]).subs(coord_dict) for i in range(len(recur_coeffs_lap))]\n",
    "print(coeffs_sub)\n",
    "ratio = np.abs(coeffs_sub[0]/coeffs_sub[1])\n",
    "print(\"ratio: \", ratio, \"||||| digits: \",np.log10(float(ratio)), \"|||| pred error: 1e-\"+str(int(16-np.ceil(np.log10(float(ratio))))))\n",
    "print(\"rel. error: \", compute_rel_err(nsub, coord_dict))"
   ]
  },
  {
   "cell_type": "code",
   "execution_count": 9,
   "metadata": {},
   "outputs": [],
   "source": [
    "c = sp.symbols(\"c\")"
   ]
  },
  {
   "cell_type": "code",
   "execution_count": 10,
   "metadata": {},
   "outputs": [],
   "source": [
    "nsub = 11\n",
    "coord_dict_var = {var[0]: var[0], var[1]: c*var[0]}\n",
    "recur_coeffs_lap_var = sp.poly(recur_laplace.subs(n, nsub), [s(i) for i in range(nsub - order_lap, nsub)]).coeffs()\n",
    "#[i+nsub-order_lap for i in range(len(recur_coeffs_lap))]\n",
    "coeffs_sub_var = [(recur_coeffs_lap_var[i]*derivs_laplace[i+nsub-order_lap]).subs(coord_dict_var) for i in range(len(recur_coeffs_lap_var))]"
   ]
  },
  {
   "cell_type": "code",
   "execution_count": 11,
   "metadata": {},
   "outputs": [
    {
     "data": {
      "text/latex": [
       "$\\displaystyle \\frac{4 \\left(- c^{10} + 27 c^{8} - 42 c^{6} - 42 c^{4} + 27 c^{2} - 1\\right)}{13 \\left(9 c^{8} - 84 c^{6} + 126 c^{4} - 36 c^{2} + 1\\right)}$"
      ],
      "text/plain": [
       "4*(-c**10 + 27*c**8 - 42*c**6 - 42*c**4 + 27*c**2 - 1)/(13*(9*c**8 - 84*c**6 + 126*c**4 - 36*c**2 + 1))"
      ]
     },
     "execution_count": 11,
     "metadata": {},
     "output_type": "execute_result"
    }
   ],
   "source": [
    "(coeffs_sub_var[0]/coeffs_sub_var[1]).subs(var[0], 1).simplify()"
   ]
  },
  {
   "cell_type": "code",
   "execution_count": 20,
   "metadata": {},
   "outputs": [],
   "source": [
    "def create_list_of_points(param):\n",
    "    list_of_points = [{var[0]: param, var[1]: 10**(pw) * param} for pw in range(1, 10)]\n",
    "    return list_of_points"
   ]
  },
  {
   "cell_type": "code",
   "execution_count": 32,
   "metadata": {},
   "outputs": [],
   "source": [
    "long_list_points = []\n",
    "n_p = 1\n",
    "for i in range(n_p):\n",
    "    long_list_points += create_list_of_points(np.random.rand())"
   ]
  },
  {
   "cell_type": "code",
   "execution_count": 33,
   "metadata": {},
   "outputs": [],
   "source": [
    "errors = np.array([compute_rel_err(nsub,l) for l in long_list_points], dtype='float')"
   ]
  },
  {
   "cell_type": "code",
   "execution_count": 34,
   "metadata": {},
   "outputs": [],
   "source": [
    "c_errors = np.array([10**(pw) for pw in range(1, 10)]*n_p)"
   ]
  },
  {
   "cell_type": "code",
   "execution_count": 35,
   "metadata": {},
   "outputs": [
    {
     "data": {
      "text/plain": [
       "array([  2.02429577, -17.42652671])"
      ]
     },
     "execution_count": 35,
     "metadata": {},
     "output_type": "execute_result"
    }
   ],
   "source": [
    "bf = np.polyfit(np.log10(c_errors), np.log10(errors),1)\n",
    "bf"
   ]
  },
  {
   "cell_type": "code",
   "execution_count": 42,
   "metadata": {},
   "outputs": [
    {
     "data": {
      "text/plain": [
       "Text(0.5, 1.0, 'Relative error in derivative evaluation using recurrence expression when $c \\\\gg 1$')"
      ]
     },
     "execution_count": 42,
     "metadata": {},
     "output_type": "execute_result"
    },
    {
     "data": {
      "image/png": "[encoded data removed]",
      "text/plain": [
       "<Figure size 600x600 with 1 Axes>"
      ]
     },
     "metadata": {},
     "output_type": "display_data"
    }
   ],
   "source": [
    "fig, ax = plt.subplots(figsize = (6, 6))\n",
    "ax.set_xscale(\"log\")\n",
    "ax.set_yscale(\"log\")\n",
    "ax.scatter(c_errors, errors,label='Relative Error')\n",
    "ax.plot(c_errors, 10**bf[1] * (c_errors**bf[0]), color='r')\n",
    "ax.set_xlabel(\"Parameter c\")\n",
    "ax.set_ylabel(\"Relative error\")\n",
    "ax.set_title(\"Relative error in derivative evaluation using recurrence expression when $c \\gg 1$\")"
   ]
  },
  {
   "cell_type": "code",
   "execution_count": null,
   "metadata": {},
   "outputs": [],
   "source": []
  }
 ],
 "metadata": {
  "kernelspec": {
   "display_name": "inteq",
   "language": "python",
   "name": "python3"
  },
  "language_info": {
   "codemirror_mode": {
    "name": "ipython",
    "version": 3
   },
   "file_extension": ".py",
   "mimetype": "text/x-python",
   "name": "python",
   "nbconvert_exporter": "python",
   "pygments_lexer": "ipython3",
   "version": "3.11.9"
  }
 },
 "nbformat": 4,
 "nbformat_minor": 2
}
