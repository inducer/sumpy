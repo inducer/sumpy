{
 "cells": [
  {
   "cell_type": "code",
   "execution_count": 7,
   "metadata": {},
   "outputs": [],
   "source": [
    "import sympy as sp\n",
    "import numpy as np\n",
    "\n",
    "from sumpy.expansion.diff_op import (\n",
    "    laplacian,\n",
    "    make_identity_diff_op,\n",
    ")\n",
    "\n",
    "from sumpy.recurrence import _make_sympy_vec\n"
   ]
  },
  {
   "cell_type": "code",
   "execution_count": 8,
   "metadata": {},
   "outputs": [],
   "source": [
    "#Create Hankel Function\n",
    "\n",
    "from sympy import hankel1\n",
    "z = sp.symbols(\"z\")\n",
    "f = hankel1(0, z)"
   ]
  },
  {
   "cell_type": "code",
   "execution_count": 9,
   "metadata": {},
   "outputs": [
    {
     "data": {
      "text/latex": [
       "$\\displaystyle \\frac{H^{(1)}_{-1}\\left(z\\right)}{2} - \\frac{H^{(1)}_{1}\\left(z\\right)}{2}$"
      ],
      "text/plain": [
       "hankel1(-1, z)/2 - hankel1(1, z)/2"
      ]
     },
     "execution_count": 9,
     "metadata": {},
     "output_type": "execute_result"
    }
   ],
   "source": [
    "f.diff(z)"
   ]
  },
  {
   "cell_type": "code",
   "execution_count": 10,
   "metadata": {},
   "outputs": [],
   "source": [
    "var = _make_sympy_vec(\"x\", 2)\n",
    "var_t = _make_sympy_vec(\"t\", 2)\n",
    "k = 1\n",
    "abs_dist = sp.sqrt((var[0]-var_t[0])**2 + (var[1]-var_t[1])**2)\n",
    "g_x_y = (1j/4) * hankel1(0, k * abs_dist)\n"
   ]
  },
  {
   "cell_type": "code",
   "execution_count": 12,
   "metadata": {},
   "outputs": [
    {
     "data": {
      "text/latex": [
       "$\\displaystyle 0.25 i H^{(1)}_{0}\\left(\\sqrt{\\left(- t_{0} + x_{0}\\right)^{2} + \\left(- t_{1} + x_{1}\\right)^{2}}\\right)$"
      ],
      "text/plain": [
       "0.25*I*hankel1(0, sqrt((-t0 + x0)**2 + (-t1 + x1)**2))"
      ]
     },
     "execution_count": 12,
     "metadata": {},
     "output_type": "execute_result"
    }
   ],
   "source": [
    "g_x_y"
   ]
  },
  {
   "cell_type": "code",
   "execution_count": 13,
   "metadata": {},
   "outputs": [],
   "source": [
    "derivs = [sp.diff(g_x_y, var_t[0], i).subs(var_t[0], 0).subs(var_t[1], 0) for i in range(6)]"
   ]
  },
  {
   "cell_type": "code",
   "execution_count": 14,
   "metadata": {},
   "outputs": [
    {
     "data": {
      "text/plain": [
       "[0.25*I*hankel1(0, sqrt(x0**2 + x1**2)),\n",
       " -0.25*I*x0*(hankel1(-1, sqrt(x0**2 + x1**2))/2 - hankel1(1, sqrt(x0**2 + x1**2))/2)/sqrt(x0**2 + x1**2),\n",
       " 0.0625*I*(x0**2*(hankel1(-2, sqrt(x0**2 + x1**2)) - 2*hankel1(0, sqrt(x0**2 + x1**2)) + hankel1(2, sqrt(x0**2 + x1**2)))/(x0**2 + x1**2) - 2*x0**2*(hankel1(-1, sqrt(x0**2 + x1**2)) - hankel1(1, sqrt(x0**2 + x1**2)))/(x0**2 + x1**2)**(3/2) + 2*(hankel1(-1, sqrt(x0**2 + x1**2)) - hankel1(1, sqrt(x0**2 + x1**2)))/sqrt(x0**2 + x1**2)),\n",
       " 0.03125*I*x0*(4*x0**2*(hankel1(-2, sqrt(x0**2 + x1**2)) - 2*hankel1(0, sqrt(x0**2 + x1**2)) + hankel1(2, sqrt(x0**2 + x1**2)))/(x0**2 + x1**2)**2 - 12*x0**2*(hankel1(-1, sqrt(x0**2 + x1**2)) - hankel1(1, sqrt(x0**2 + x1**2)))/(x0**2 + x1**2)**(5/2) - 4*(hankel1(-2, sqrt(x0**2 + x1**2)) - 2*hankel1(0, sqrt(x0**2 + x1**2)) + hankel1(2, sqrt(x0**2 + x1**2)))/(x0**2 + x1**2) - (x0**2*(hankel1(-3, sqrt(x0**2 + x1**2)) - 2*hankel1(-1, sqrt(x0**2 + x1**2)) + hankel1(1, sqrt(x0**2 + x1**2)))/(x0**2 + x1**2) - x0**2*(hankel1(-1, sqrt(x0**2 + x1**2)) - 2*hankel1(1, sqrt(x0**2 + x1**2)) + hankel1(3, sqrt(x0**2 + x1**2)))/(x0**2 + x1**2) - 2*x0**2*(hankel1(-2, sqrt(x0**2 + x1**2)) - hankel1(0, sqrt(x0**2 + x1**2)))/(x0**2 + x1**2)**(3/2) + 2*x0**2*(hankel1(0, sqrt(x0**2 + x1**2)) - hankel1(2, sqrt(x0**2 + x1**2)))/(x0**2 + x1**2)**(3/2) + 2*(hankel1(-2, sqrt(x0**2 + x1**2)) - hankel1(0, sqrt(x0**2 + x1**2)))/sqrt(x0**2 + x1**2) - 2*(hankel1(0, sqrt(x0**2 + x1**2)) - hankel1(2, sqrt(x0**2 + x1**2)))/sqrt(x0**2 + x1**2))/sqrt(x0**2 + x1**2) + 12*(hankel1(-1, sqrt(x0**2 + x1**2)) - hankel1(1, sqrt(x0**2 + x1**2)))/(x0**2 + x1**2)**(3/2)),\n",
       " -0.25*I*(-9*x0**4*(hankel1(-2, sqrt(x0**2 + x1**2)) - 2*hankel1(0, sqrt(x0**2 + x1**2)) + hankel1(2, sqrt(x0**2 + x1**2)))/(4*(x0**2 + x1**2)**3) + 15*x0**4*(hankel1(-1, sqrt(x0**2 + x1**2)) - hankel1(1, sqrt(x0**2 + x1**2)))/(2*(x0**2 + x1**2)**(7/2)) + 9*x0**2*(hankel1(-2, sqrt(x0**2 + x1**2)) - 2*hankel1(0, sqrt(x0**2 + x1**2)) + hankel1(2, sqrt(x0**2 + x1**2)))/(4*(x0**2 + x1**2)**2) + x0**2*(4*x0**2*(hankel1(-3, sqrt(x0**2 + x1**2)) - 2*hankel1(-1, sqrt(x0**2 + x1**2)) + hankel1(1, sqrt(x0**2 + x1**2)))/(x0**2 + x1**2)**2 - 4*x0**2*(hankel1(-1, sqrt(x0**2 + x1**2)) - 2*hankel1(1, sqrt(x0**2 + x1**2)) + hankel1(3, sqrt(x0**2 + x1**2)))/(x0**2 + x1**2)**2 - 12*x0**2*(hankel1(-2, sqrt(x0**2 + x1**2)) - hankel1(0, sqrt(x0**2 + x1**2)))/(x0**2 + x1**2)**(5/2) + 12*x0**2*(hankel1(0, sqrt(x0**2 + x1**2)) - hankel1(2, sqrt(x0**2 + x1**2)))/(x0**2 + x1**2)**(5/2) - 4*(hankel1(-3, sqrt(x0**2 + x1**2)) - 2*hankel1(-1, sqrt(x0**2 + x1**2)) + hankel1(1, sqrt(x0**2 + x1**2)))/(x0**2 + x1**2) + 4*(hankel1(-1, sqrt(x0**2 + x1**2)) - 2*hankel1(1, sqrt(x0**2 + x1**2)) + hankel1(3, sqrt(x0**2 + x1**2)))/(x0**2 + x1**2) + (-x0**2*(hankel1(-4, sqrt(x0**2 + x1**2)) - 2*hankel1(-2, sqrt(x0**2 + x1**2)) + hankel1(0, sqrt(x0**2 + x1**2)))/(x0**2 + x1**2) + x0**2*(hankel1(-2, sqrt(x0**2 + x1**2)) - 2*hankel1(0, sqrt(x0**2 + x1**2)) + hankel1(2, sqrt(x0**2 + x1**2)))/(x0**2 + x1**2) + 2*x0**2*(hankel1(-3, sqrt(x0**2 + x1**2)) - hankel1(-1, sqrt(x0**2 + x1**2)))/(x0**2 + x1**2)**(3/2) - 2*x0**2*(hankel1(-1, sqrt(x0**2 + x1**2)) - hankel1(1, sqrt(x0**2 + x1**2)))/(x0**2 + x1**2)**(3/2) - 2*(hankel1(-3, sqrt(x0**2 + x1**2)) - hankel1(-1, sqrt(x0**2 + x1**2)))/sqrt(x0**2 + x1**2) + 2*(hankel1(-1, sqrt(x0**2 + x1**2)) - hankel1(1, sqrt(x0**2 + x1**2)))/sqrt(x0**2 + x1**2))/sqrt(x0**2 + x1**2) - (-x0**2*(hankel1(-2, sqrt(x0**2 + x1**2)) - 2*hankel1(0, sqrt(x0**2 + x1**2)) + hankel1(2, sqrt(x0**2 + x1**2)))/(x0**2 + x1**2) + x0**2*(hankel1(0, sqrt(x0**2 + x1**2)) - 2*hankel1(2, sqrt(x0**2 + x1**2)) + hankel1(4, sqrt(x0**2 + x1**2)))/(x0**2 + x1**2) + 2*x0**2*(hankel1(-1, sqrt(x0**2 + x1**2)) - hankel1(1, sqrt(x0**2 + x1**2)))/(x0**2 + x1**2)**(3/2) - 2*x0**2*(hankel1(1, sqrt(x0**2 + x1**2)) - hankel1(3, sqrt(x0**2 + x1**2)))/(x0**2 + x1**2)**(3/2) - 2*(hankel1(-1, sqrt(x0**2 + x1**2)) - hankel1(1, sqrt(x0**2 + x1**2)))/sqrt(x0**2 + x1**2) + 2*(hankel1(1, sqrt(x0**2 + x1**2)) - hankel1(3, sqrt(x0**2 + x1**2)))/sqrt(x0**2 + x1**2))/sqrt(x0**2 + x1**2) + 12*(hankel1(-2, sqrt(x0**2 + x1**2)) - hankel1(0, sqrt(x0**2 + x1**2)))/(x0**2 + x1**2)**(3/2) - 12*(hankel1(0, sqrt(x0**2 + x1**2)) - hankel1(2, sqrt(x0**2 + x1**2)))/(x0**2 + x1**2)**(3/2))/(16*sqrt(x0**2 + x1**2)) + 3*x0**2*(x0**2*(hankel1(-3, sqrt(x0**2 + x1**2)) - 2*hankel1(-1, sqrt(x0**2 + x1**2)) + hankel1(1, sqrt(x0**2 + x1**2)))/(x0**2 + x1**2) - x0**2*(hankel1(-1, sqrt(x0**2 + x1**2)) - 2*hankel1(1, sqrt(x0**2 + x1**2)) + hankel1(3, sqrt(x0**2 + x1**2)))/(x0**2 + x1**2) - 2*x0**2*(hankel1(-2, sqrt(x0**2 + x1**2)) - hankel1(0, sqrt(x0**2 + x1**2)))/(x0**2 + x1**2)**(3/2) + 2*x0**2*(hankel1(0, sqrt(x0**2 + x1**2)) - hankel1(2, sqrt(x0**2 + x1**2)))/(x0**2 + x1**2)**(3/2) + 2*(hankel1(-2, sqrt(x0**2 + x1**2)) - hankel1(0, sqrt(x0**2 + x1**2)))/sqrt(x0**2 + x1**2) - 2*(hankel1(0, sqrt(x0**2 + x1**2)) - hankel1(2, sqrt(x0**2 + x1**2)))/sqrt(x0**2 + x1**2))/(8*(x0**2 + x1**2)**(3/2)) - 9*x0**2*(hankel1(-1, sqrt(x0**2 + x1**2)) - hankel1(1, sqrt(x0**2 + x1**2)))/(x0**2 + x1**2)**(5/2) - 3*(x0**2*(hankel1(-3, sqrt(x0**2 + x1**2)) - 2*hankel1(-1, sqrt(x0**2 + x1**2)) + hankel1(1, sqrt(x0**2 + x1**2)))/(x0**2 + x1**2) - x0**2*(hankel1(-1, sqrt(x0**2 + x1**2)) - 2*hankel1(1, sqrt(x0**2 + x1**2)) + hankel1(3, sqrt(x0**2 + x1**2)))/(x0**2 + x1**2) - 2*x0**2*(hankel1(-2, sqrt(x0**2 + x1**2)) - hankel1(0, sqrt(x0**2 + x1**2)))/(x0**2 + x1**2)**(3/2) + 2*x0**2*(hankel1(0, sqrt(x0**2 + x1**2)) - hankel1(2, sqrt(x0**2 + x1**2)))/(x0**2 + x1**2)**(3/2) + 2*(hankel1(-2, sqrt(x0**2 + x1**2)) - hankel1(0, sqrt(x0**2 + x1**2)))/sqrt(x0**2 + x1**2) - 2*(hankel1(0, sqrt(x0**2 + x1**2)) - hankel1(2, sqrt(x0**2 + x1**2)))/sqrt(x0**2 + x1**2))/(8*sqrt(x0**2 + x1**2)) + 3*(hankel1(-1, sqrt(x0**2 + x1**2)) - hankel1(1, sqrt(x0**2 + x1**2)))/(2*(x0**2 + x1**2)**(3/2))),\n",
       " 0.0078125*I*x0*(480*x0**4*(hankel1(-2, sqrt(x0**2 + x1**2)) - 2*hankel1(0, sqrt(x0**2 + x1**2)) + hankel1(2, sqrt(x0**2 + x1**2)))/(x0**2 + x1**2)**4 - 1680*x0**4*(hankel1(-1, sqrt(x0**2 + x1**2)) - hankel1(1, sqrt(x0**2 + x1**2)))/(x0**2 + x1**2)**(9/2) - 576*x0**2*(hankel1(-2, sqrt(x0**2 + x1**2)) - 2*hankel1(0, sqrt(x0**2 + x1**2)) + hankel1(2, sqrt(x0**2 + x1**2)))/(x0**2 + x1**2)**3 - 8*x0**2*(4*x0**2*(hankel1(-3, sqrt(x0**2 + x1**2)) - 2*hankel1(-1, sqrt(x0**2 + x1**2)) + hankel1(1, sqrt(x0**2 + x1**2)))/(x0**2 + x1**2)**2 - 4*x0**2*(hankel1(-1, sqrt(x0**2 + x1**2)) - 2*hankel1(1, sqrt(x0**2 + x1**2)) + hankel1(3, sqrt(x0**2 + x1**2)))/(x0**2 + x1**2)**2 - 12*x0**2*(hankel1(-2, sqrt(x0**2 + x1**2)) - hankel1(0, sqrt(x0**2 + x1**2)))/(x0**2 + x1**2)**(5/2) + 12*x0**2*(hankel1(0, sqrt(x0**2 + x1**2)) - hankel1(2, sqrt(x0**2 + x1**2)))/(x0**2 + x1**2)**(5/2) - 4*(hankel1(-3, sqrt(x0**2 + x1**2)) - 2*hankel1(-1, sqrt(x0**2 + x1**2)) + hankel1(1, sqrt(x0**2 + x1**2)))/(x0**2 + x1**2) + 4*(hankel1(-1, sqrt(x0**2 + x1**2)) - 2*hankel1(1, sqrt(x0**2 + x1**2)) + hankel1(3, sqrt(x0**2 + x1**2)))/(x0**2 + x1**2) + (-x0**2*(hankel1(-4, sqrt(x0**2 + x1**2)) - 2*hankel1(-2, sqrt(x0**2 + x1**2)) + hankel1(0, sqrt(x0**2 + x1**2)))/(x0**2 + x1**2) + x0**2*(hankel1(-2, sqrt(x0**2 + x1**2)) - 2*hankel1(0, sqrt(x0**2 + x1**2)) + hankel1(2, sqrt(x0**2 + x1**2)))/(x0**2 + x1**2) + 2*x0**2*(hankel1(-3, sqrt(x0**2 + x1**2)) - hankel1(-1, sqrt(x0**2 + x1**2)))/(x0**2 + x1**2)**(3/2) - 2*x0**2*(hankel1(-1, sqrt(x0**2 + x1**2)) - hankel1(1, sqrt(x0**2 + x1**2)))/(x0**2 + x1**2)**(3/2) - 2*(hankel1(-3, sqrt(x0**2 + x1**2)) - hankel1(-1, sqrt(x0**2 + x1**2)))/sqrt(x0**2 + x1**2) + 2*(hankel1(-1, sqrt(x0**2 + x1**2)) - hankel1(1, sqrt(x0**2 + x1**2)))/sqrt(x0**2 + x1**2))/sqrt(x0**2 + x1**2) - (-x0**2*(hankel1(-2, sqrt(x0**2 + x1**2)) - 2*hankel1(0, sqrt(x0**2 + x1**2)) + hankel1(2, sqrt(x0**2 + x1**2)))/(x0**2 + x1**2) + x0**2*(hankel1(0, sqrt(x0**2 + x1**2)) - 2*hankel1(2, sqrt(x0**2 + x1**2)) + hankel1(4, sqrt(x0**2 + x1**2)))/(x0**2 + x1**2) + 2*x0**2*(hankel1(-1, sqrt(x0**2 + x1**2)) - hankel1(1, sqrt(x0**2 + x1**2)))/(x0**2 + x1**2)**(3/2) - 2*x0**2*(hankel1(1, sqrt(x0**2 + x1**2)) - hankel1(3, sqrt(x0**2 + x1**2)))/(x0**2 + x1**2)**(3/2) - 2*(hankel1(-1, sqrt(x0**2 + x1**2)) - hankel1(1, sqrt(x0**2 + x1**2)))/sqrt(x0**2 + x1**2) + 2*(hankel1(1, sqrt(x0**2 + x1**2)) - hankel1(3, sqrt(x0**2 + x1**2)))/sqrt(x0**2 + x1**2))/sqrt(x0**2 + x1**2) + 12*(hankel1(-2, sqrt(x0**2 + x1**2)) - hankel1(0, sqrt(x0**2 + x1**2)))/(x0**2 + x1**2)**(3/2) - 12*(hankel1(0, sqrt(x0**2 + x1**2)) - hankel1(2, sqrt(x0**2 + x1**2)))/(x0**2 + x1**2)**(3/2))/(x0**2 + x1**2)**(3/2) - 72*x0**2*(x0**2*(hankel1(-3, sqrt(x0**2 + x1**2)) - 2*hankel1(-1, sqrt(x0**2 + x1**2)) + hankel1(1, sqrt(x0**2 + x1**2)))/(x0**2 + x1**2) - x0**2*(hankel1(-1, sqrt(x0**2 + x1**2)) - 2*hankel1(1, sqrt(x0**2 + x1**2)) + hankel1(3, sqrt(x0**2 + x1**2)))/(x0**2 + x1**2) - 2*x0**2*(hankel1(-2, sqrt(x0**2 + x1**2)) - hankel1(0, sqrt(x0**2 + x1**2)))/(x0**2 + x1**2)**(3/2) + 2*x0**2*(hankel1(0, sqrt(x0**2 + x1**2)) - hankel1(2, sqrt(x0**2 + x1**2)))/(x0**2 + x1**2)**(3/2) + 2*(hankel1(-2, sqrt(x0**2 + x1**2)) - hankel1(0, sqrt(x0**2 + x1**2)))/sqrt(x0**2 + x1**2) - 2*(hankel1(0, sqrt(x0**2 + x1**2)) - hankel1(2, sqrt(x0**2 + x1**2)))/sqrt(x0**2 + x1**2))/(x0**2 + x1**2)**(5/2) + 2400*x0**2*(hankel1(-1, sqrt(x0**2 + x1**2)) - hankel1(1, sqrt(x0**2 + x1**2)))/(x0**2 + x1**2)**(7/2) + 96*(hankel1(-2, sqrt(x0**2 + x1**2)) - 2*hankel1(0, sqrt(x0**2 + x1**2)) + hankel1(2, sqrt(x0**2 + x1**2)))/(x0**2 + x1**2)**2 + 8*(4*x0**2*(hankel1(-3, sqrt(x0**2 + x1**2)) - 2*hankel1(-1, sqrt(x0**2 + x1**2)) + hankel1(1, sqrt(x0**2 + x1**2)))/(x0**2 + x1**2)**2 - 4*x0**2*(hankel1(-1, sqrt(x0**2 + x1**2)) - 2*hankel1(1, sqrt(x0**2 + x1**2)) + hankel1(3, sqrt(x0**2 + x1**2)))/(x0**2 + x1**2)**2 - 12*x0**2*(hankel1(-2, sqrt(x0**2 + x1**2)) - hankel1(0, sqrt(x0**2 + x1**2)))/(x0**2 + x1**2)**(5/2) + 12*x0**2*(hankel1(0, sqrt(x0**2 + x1**2)) - hankel1(2, sqrt(x0**2 + x1**2)))/(x0**2 + x1**2)**(5/2) - 4*(hankel1(-3, sqrt(x0**2 + x1**2)) - 2*hankel1(-1, sqrt(x0**2 + x1**2)) + hankel1(1, sqrt(x0**2 + x1**2)))/(x0**2 + x1**2) + 4*(hankel1(-1, sqrt(x0**2 + x1**2)) - 2*hankel1(1, sqrt(x0**2 + x1**2)) + hankel1(3, sqrt(x0**2 + x1**2)))/(x0**2 + x1**2) + (-x0**2*(hankel1(-4, sqrt(x0**2 + x1**2)) - 2*hankel1(-2, sqrt(x0**2 + x1**2)) + hankel1(0, sqrt(x0**2 + x1**2)))/(x0**2 + x1**2) + x0**2*(hankel1(-2, sqrt(x0**2 + x1**2)) - 2*hankel1(0, sqrt(x0**2 + x1**2)) + hankel1(2, sqrt(x0**2 + x1**2)))/(x0**2 + x1**2) + 2*x0**2*(hankel1(-3, sqrt(x0**2 + x1**2)) - hankel1(-1, sqrt(x0**2 + x1**2)))/(x0**2 + x1**2)**(3/2) - 2*x0**2*(hankel1(-1, sqrt(x0**2 + x1**2)) - hankel1(1, sqrt(x0**2 + x1**2)))/(x0**2 + x1**2)**(3/2) - 2*(hankel1(-3, sqrt(x0**2 + x1**2)) - hankel1(-1, sqrt(x0**2 + x1**2)))/sqrt(x0**2 + x1**2) + 2*(hankel1(-1, sqrt(x0**2 + x1**2)) - hankel1(1, sqrt(x0**2 + x1**2)))/sqrt(x0**2 + x1**2))/sqrt(x0**2 + x1**2) - (-x0**2*(hankel1(-2, sqrt(x0**2 + x1**2)) - 2*hankel1(0, sqrt(x0**2 + x1**2)) + hankel1(2, sqrt(x0**2 + x1**2)))/(x0**2 + x1**2) + x0**2*(hankel1(0, sqrt(x0**2 + x1**2)) - 2*hankel1(2, sqrt(x0**2 + x1**2)) + hankel1(4, sqrt(x0**2 + x1**2)))/(x0**2 + x1**2) + 2*x0**2*(hankel1(-1, sqrt(x0**2 + x1**2)) - hankel1(1, sqrt(x0**2 + x1**2)))/(x0**2 + x1**2)**(3/2) - 2*x0**2*(hankel1(1, sqrt(x0**2 + x1**2)) - hankel1(3, sqrt(x0**2 + x1**2)))/(x0**2 + x1**2)**(3/2) - 2*(hankel1(-1, sqrt(x0**2 + x1**2)) - hankel1(1, sqrt(x0**2 + x1**2)))/sqrt(x0**2 + x1**2) + 2*(hankel1(1, sqrt(x0**2 + x1**2)) - hankel1(3, sqrt(x0**2 + x1**2)))/sqrt(x0**2 + x1**2))/sqrt(x0**2 + x1**2) + 12*(hankel1(-2, sqrt(x0**2 + x1**2)) - hankel1(0, sqrt(x0**2 + x1**2)))/(x0**2 + x1**2)**(3/2) - 12*(hankel1(0, sqrt(x0**2 + x1**2)) - hankel1(2, sqrt(x0**2 + x1**2)))/(x0**2 + x1**2)**(3/2))/sqrt(x0**2 + x1**2) - (36*x0**4*(hankel1(-3, sqrt(x0**2 + x1**2)) - 2*hankel1(-1, sqrt(x0**2 + x1**2)) + hankel1(1, sqrt(x0**2 + x1**2)))/(x0**2 + x1**2)**3 - 36*x0**4*(hankel1(-1, sqrt(x0**2 + x1**2)) - 2*hankel1(1, sqrt(x0**2 + x1**2)) + hankel1(3, sqrt(x0**2 + x1**2)))/(x0**2 + x1**2)**3 - 120*x0**4*(hankel1(-2, sqrt(x0**2 + x1**2)) - hankel1(0, sqrt(x0**2 + x1**2)))/(x0**2 + x1**2)**(7/2) + 120*x0**4*(hankel1(0, sqrt(x0**2 + x1**2)) - hankel1(2, sqrt(x0**2 + x1**2)))/(x0**2 + x1**2)**(7/2) - 36*x0**2*(hankel1(-3, sqrt(x0**2 + x1**2)) - 2*hankel1(-1, sqrt(x0**2 + x1**2)) + hankel1(1, sqrt(x0**2 + x1**2)))/(x0**2 + x1**2)**2 + 36*x0**2*(hankel1(-1, sqrt(x0**2 + x1**2)) - 2*hankel1(1, sqrt(x0**2 + x1**2)) + hankel1(3, sqrt(x0**2 + x1**2)))/(x0**2 + x1**2)**2 + x0**2*(-4*x0**2*(hankel1(-4, sqrt(x0**2 + x1**2)) - 2*hankel1(-2, sqrt(x0**2 + x1**2)) + hankel1(0, sqrt(x0**2 + x1**2)))/(x0**2 + x1**2)**2 + 4*x0**2*(hankel1(-2, sqrt(x0**2 + x1**2)) - 2*hankel1(0, sqrt(x0**2 + x1**2)) + hankel1(2, sqrt(x0**2 + x1**2)))/(x0**2 + x1**2)**2 + 12*x0**2*(hankel1(-3, sqrt(x0**2 + x1**2)) - hankel1(-1, sqrt(x0**2 + x1**2)))/(x0**2 + x1**2)**(5/2) - 12*x0**2*(hankel1(-1, sqrt(x0**2 + x1**2)) - hankel1(1, sqrt(x0**2 + x1**2)))/(x0**2 + x1**2)**(5/2) + 4*(hankel1(-4, sqrt(x0**2 + x1**2)) - 2*hankel1(-2, sqrt(x0**2 + x1**2)) + hankel1(0, sqrt(x0**2 + x1**2)))/(x0**2 + x1**2) - 4*(hankel1(-2, sqrt(x0**2 + x1**2)) - 2*hankel1(0, sqrt(x0**2 + x1**2)) + hankel1(2, sqrt(x0**2 + x1**2)))/(x0**2 + x1**2) - (-x0**2*(hankel1(-5, sqrt(x0**2 + x1**2)) - 2*hankel1(-3, sqrt(x0**2 + x1**2)) + hankel1(-1, sqrt(x0**2 + x1**2)))/(x0**2 + x1**2) + x0**2*(hankel1(-3, sqrt(x0**2 + x1**2)) - 2*hankel1(-1, sqrt(x0**2 + x1**2)) + hankel1(1, sqrt(x0**2 + x1**2)))/(x0**2 + x1**2) + 2*x0**2*(hankel1(-4, sqrt(x0**2 + x1**2)) - hankel1(-2, sqrt(x0**2 + x1**2)))/(x0**2 + x1**2)**(3/2) - 2*x0**2*(hankel1(-2, sqrt(x0**2 + x1**2)) - hankel1(0, sqrt(x0**2 + x1**2)))/(x0**2 + x1**2)**(3/2) - 2*(hankel1(-4, sqrt(x0**2 + x1**2)) - hankel1(-2, sqrt(x0**2 + x1**2)))/sqrt(x0**2 + x1**2) + 2*(hankel1(-2, sqrt(x0**2 + x1**2)) - hankel1(0, sqrt(x0**2 + x1**2)))/sqrt(x0**2 + x1**2))/sqrt(x0**2 + x1**2) + (-x0**2*(hankel1(-3, sqrt(x0**2 + x1**2)) - 2*hankel1(-1, sqrt(x0**2 + x1**2)) + hankel1(1, sqrt(x0**2 + x1**2)))/(x0**2 + x1**2) + x0**2*(hankel1(-1, sqrt(x0**2 + x1**2)) - 2*hankel1(1, sqrt(x0**2 + x1**2)) + hankel1(3, sqrt(x0**2 + x1**2)))/(x0**2 + x1**2) + 2*x0**2*(hankel1(-2, sqrt(x0**2 + x1**2)) - hankel1(0, sqrt(x0**2 + x1**2)))/(x0**2 + x1**2)**(3/2) - 2*x0**2*(hankel1(0, sqrt(x0**2 + x1**2)) - hankel1(2, sqrt(x0**2 + x1**2)))/(x0**2 + x1**2)**(3/2) - 2*(hankel1(-2, sqrt(x0**2 + x1**2)) - hankel1(0, sqrt(x0**2 + x1**2)))/sqrt(x0**2 + x1**2) + 2*(hankel1(0, sqrt(x0**2 + x1**2)) - hankel1(2, sqrt(x0**2 + x1**2)))/sqrt(x0**2 + x1**2))/sqrt(x0**2 + x1**2) - 12*(hankel1(-3, sqrt(x0**2 + x1**2)) - hankel1(-1, sqrt(x0**2 + x1**2)))/(x0**2 + x1**2)**(3/2) + 12*(hankel1(-1, sqrt(x0**2 + x1**2)) - hankel1(1, sqrt(x0**2 + x1**2)))/(x0**2 + x1**2)**(3/2))/sqrt(x0**2 + x1**2) - x0**2*(-4*x0**2*(hankel1(-2, sqrt(x0**2 + x1**2)) - 2*hankel1(0, sqrt(x0**2 + x1**2)) + hankel1(2, sqrt(x0**2 + x1**2)))/(x0**2 + x1**2)**2 + 4*x0**2*(hankel1(0, sqrt(x0**2 + x1**2)) - 2*hankel1(2, sqrt(x0**2 + x1**2)) + hankel1(4, sqrt(x0**2 + x1**2)))/(x0**2 + x1**2)**2 + 12*x0**2*(hankel1(-1, sqrt(x0**2 + x1**2)) - hankel1(1, sqrt(x0**2 + x1**2)))/(x0**2 + x1**2)**(5/2) - 12*x0**2*(hankel1(1, sqrt(x0**2 + x1**2)) - hankel1(3, sqrt(x0**2 + x1**2)))/(x0**2 + x1**2)**(5/2) + 4*(hankel1(-2, sqrt(x0**2 + x1**2)) - 2*hankel1(0, sqrt(x0**2 + x1**2)) + hankel1(2, sqrt(x0**2 + x1**2)))/(x0**2 + x1**2) - 4*(hankel1(0, sqrt(x0**2 + x1**2)) - 2*hankel1(2, sqrt(x0**2 + x1**2)) + hankel1(4, sqrt(x0**2 + x1**2)))/(x0**2 + x1**2) - (-x0**2*(hankel1(-3, sqrt(x0**2 + x1**2)) - 2*hankel1(-1, sqrt(x0**2 + x1**2)) + hankel1(1, sqrt(x0**2 + x1**2)))/(x0**2 + x1**2) + x0**2*(hankel1(-1, sqrt(x0**2 + x1**2)) - 2*hankel1(1, sqrt(x0**2 + x1**2)) + hankel1(3, sqrt(x0**2 + x1**2)))/(x0**2 + x1**2) + 2*x0**2*(hankel1(-2, sqrt(x0**2 + x1**2)) - hankel1(0, sqrt(x0**2 + x1**2)))/(x0**2 + x1**2)**(3/2) - 2*x0**2*(hankel1(0, sqrt(x0**2 + x1**2)) - hankel1(2, sqrt(x0**2 + x1**2)))/(x0**2 + x1**2)**(3/2) - 2*(hankel1(-2, sqrt(x0**2 + x1**2)) - hankel1(0, sqrt(x0**2 + x1**2)))/sqrt(x0**2 + x1**2) + 2*(hankel1(0, sqrt(x0**2 + x1**2)) - hankel1(2, sqrt(x0**2 + x1**2)))/sqrt(x0**2 + x1**2))/sqrt(x0**2 + x1**2) + (-x0**2*(hankel1(-1, sqrt(x0**2 + x1**2)) - 2*hankel1(1, sqrt(x0**2 + x1**2)) + hankel1(3, sqrt(x0**2 + x1**2)))/(x0**2 + x1**2) + x0**2*(hankel1(1, sqrt(x0**2 + x1**2)) - 2*hankel1(3, sqrt(x0**2 + x1**2)) + hankel1(5, sqrt(x0**2 + x1**2)))/(x0**2 + x1**2) + 2*x0**2*(hankel1(0, sqrt(x0**2 + x1**2)) - hankel1(2, sqrt(x0**2 + x1**2)))/(x0**2 + x1**2)**(3/2) - 2*x0**2*(hankel1(2, sqrt(x0**2 + x1**2)) - hankel1(4, sqrt(x0**2 + x1**2)))/(x0**2 + x1**2)**(3/2) - 2*(hankel1(0, sqrt(x0**2 + x1**2)) - hankel1(2, sqrt(x0**2 + x1**2)))/sqrt(x0**2 + x1**2) + 2*(hankel1(2, sqrt(x0**2 + x1**2)) - hankel1(4, sqrt(x0**2 + x1**2)))/sqrt(x0**2 + x1**2))/sqrt(x0**2 + x1**2) - 12*(hankel1(-1, sqrt(x0**2 + x1**2)) - hankel1(1, sqrt(x0**2 + x1**2)))/(x0**2 + x1**2)**(3/2) + 12*(hankel1(1, sqrt(x0**2 + x1**2)) - hankel1(3, sqrt(x0**2 + x1**2)))/(x0**2 + x1**2)**(3/2))/sqrt(x0**2 + x1**2) + 6*x0**2*(-x0**2*(hankel1(-4, sqrt(x0**2 + x1**2)) - 2*hankel1(-2, sqrt(x0**2 + x1**2)) + hankel1(0, sqrt(x0**2 + x1**2)))/(x0**2 + x1**2) + x0**2*(hankel1(-2, sqrt(x0**2 + x1**2)) - 2*hankel1(0, sqrt(x0**2 + x1**2)) + hankel1(2, sqrt(x0**2 + x1**2)))/(x0**2 + x1**2) + 2*x0**2*(hankel1(-3, sqrt(x0**2 + x1**2)) - hankel1(-1, sqrt(x0**2 + x1**2)))/(x0**2 + x1**2)**(3/2) - 2*x0**2*(hankel1(-1, sqrt(x0**2 + x1**2)) - hankel1(1, sqrt(x0**2 + x1**2)))/(x0**2 + x1**2)**(3/2) - 2*(hankel1(-3, sqrt(x0**2 + x1**2)) - hankel1(-1, sqrt(x0**2 + x1**2)))/sqrt(x0**2 + x1**2) + 2*(hankel1(-1, sqrt(x0**2 + x1**2)) - hankel1(1, sqrt(x0**2 + x1**2)))/sqrt(x0**2 + x1**2))/(x0**2 + x1**2)**(3/2) - 6*x0**2*(-x0**2*(hankel1(-2, sqrt(x0**2 + x1**2)) - 2*hankel1(0, sqrt(x0**2 + x1**2)) + hankel1(2, sqrt(x0**2 + x1**2)))/(x0**2 + x1**2) + x0**2*(hankel1(0, sqrt(x0**2 + x1**2)) - 2*hankel1(2, sqrt(x0**2 + x1**2)) + hankel1(4, sqrt(x0**2 + x1**2)))/(x0**2 + x1**2) + 2*x0**2*(hankel1(-1, sqrt(x0**2 + x1**2)) - hankel1(1, sqrt(x0**2 + x1**2)))/(x0**2 + x1**2)**(3/2) - 2*x0**2*(hankel1(1, sqrt(x0**2 + x1**2)) - hankel1(3, sqrt(x0**2 + x1**2)))/(x0**2 + x1**2)**(3/2) - 2*(hankel1(-1, sqrt(x0**2 + x1**2)) - hankel1(1, sqrt(x0**2 + x1**2)))/sqrt(x0**2 + x1**2) + 2*(hankel1(1, sqrt(x0**2 + x1**2)) - hankel1(3, sqrt(x0**2 + x1**2)))/sqrt(x0**2 + x1**2))/(x0**2 + x1**2)**(3/2) + 144*x0**2*(hankel1(-2, sqrt(x0**2 + x1**2)) - hankel1(0, sqrt(x0**2 + x1**2)))/(x0**2 + x1**2)**(5/2) - 144*x0**2*(hankel1(0, sqrt(x0**2 + x1**2)) - hankel1(2, sqrt(x0**2 + x1**2)))/(x0**2 + x1**2)**(5/2) - 6*(-x0**2*(hankel1(-4, sqrt(x0**2 + x1**2)) - 2*hankel1(-2, sqrt(x0**2 + x1**2)) + hankel1(0, sqrt(x0**2 + x1**2)))/(x0**2 + x1**2) + x0**2*(hankel1(-2, sqrt(x0**2 + x1**2)) - 2*hankel1(0, sqrt(x0**2 + x1**2)) + hankel1(2, sqrt(x0**2 + x1**2)))/(x0**2 + x1**2) + 2*x0**2*(hankel1(-3, sqrt(x0**2 + x1**2)) - hankel1(-1, sqrt(x0**2 + x1**2)))/(x0**2 + x1**2)**(3/2) - 2*x0**2*(hankel1(-1, sqrt(x0**2 + x1**2)) - hankel1(1, sqrt(x0**2 + x1**2)))/(x0**2 + x1**2)**(3/2) - 2*(hankel1(-3, sqrt(x0**2 + x1**2)) - hankel1(-1, sqrt(x0**2 + x1**2)))/sqrt(x0**2 + x1**2) + 2*(hankel1(-1, sqrt(x0**2 + x1**2)) - hankel1(1, sqrt(x0**2 + x1**2)))/sqrt(x0**2 + x1**2))/sqrt(x0**2 + x1**2) + 6*(-x0**2*(hankel1(-2, sqrt(x0**2 + x1**2)) - 2*hankel1(0, sqrt(x0**2 + x1**2)) + hankel1(2, sqrt(x0**2 + x1**2)))/(x0**2 + x1**2) + x0**2*(hankel1(0, sqrt(x0**2 + x1**2)) - 2*hankel1(2, sqrt(x0**2 + x1**2)) + hankel1(4, sqrt(x0**2 + x1**2)))/(x0**2 + x1**2) + 2*x0**2*(hankel1(-1, sqrt(x0**2 + x1**2)) - hankel1(1, sqrt(x0**2 + x1**2)))/(x0**2 + x1**2)**(3/2) - 2*x0**2*(hankel1(1, sqrt(x0**2 + x1**2)) - hankel1(3, sqrt(x0**2 + x1**2)))/(x0**2 + x1**2)**(3/2) - 2*(hankel1(-1, sqrt(x0**2 + x1**2)) - hankel1(1, sqrt(x0**2 + x1**2)))/sqrt(x0**2 + x1**2) + 2*(hankel1(1, sqrt(x0**2 + x1**2)) - hankel1(3, sqrt(x0**2 + x1**2)))/sqrt(x0**2 + x1**2))/sqrt(x0**2 + x1**2) - 24*(hankel1(-2, sqrt(x0**2 + x1**2)) - hankel1(0, sqrt(x0**2 + x1**2)))/(x0**2 + x1**2)**(3/2) + 24*(hankel1(0, sqrt(x0**2 + x1**2)) - hankel1(2, sqrt(x0**2 + x1**2)))/(x0**2 + x1**2)**(3/2))/sqrt(x0**2 + x1**2) + 72*(x0**2*(hankel1(-3, sqrt(x0**2 + x1**2)) - 2*hankel1(-1, sqrt(x0**2 + x1**2)) + hankel1(1, sqrt(x0**2 + x1**2)))/(x0**2 + x1**2) - x0**2*(hankel1(-1, sqrt(x0**2 + x1**2)) - 2*hankel1(1, sqrt(x0**2 + x1**2)) + hankel1(3, sqrt(x0**2 + x1**2)))/(x0**2 + x1**2) - 2*x0**2*(hankel1(-2, sqrt(x0**2 + x1**2)) - hankel1(0, sqrt(x0**2 + x1**2)))/(x0**2 + x1**2)**(3/2) + 2*x0**2*(hankel1(0, sqrt(x0**2 + x1**2)) - hankel1(2, sqrt(x0**2 + x1**2)))/(x0**2 + x1**2)**(3/2) + 2*(hankel1(-2, sqrt(x0**2 + x1**2)) - hankel1(0, sqrt(x0**2 + x1**2)))/sqrt(x0**2 + x1**2) - 2*(hankel1(0, sqrt(x0**2 + x1**2)) - hankel1(2, sqrt(x0**2 + x1**2)))/sqrt(x0**2 + x1**2))/(x0**2 + x1**2)**(3/2) - 720*(hankel1(-1, sqrt(x0**2 + x1**2)) - hankel1(1, sqrt(x0**2 + x1**2)))/(x0**2 + x1**2)**(5/2))]"
      ]
     },
     "execution_count": 14,
     "metadata": {},
     "output_type": "execute_result"
    }
   ],
   "source": [
    "derivs"
   ]
  },
  {
   "cell_type": "code",
   "execution_count": null,
   "metadata": {},
   "outputs": [],
   "source": []
  }
 ],
 "metadata": {
  "kernelspec": {
   "display_name": "Python 3",
   "language": "python",
   "name": "python3"
  },
  "language_info": {
   "codemirror_mode": {
    "name": "ipython",
    "version": 3
   },
   "file_extension": ".py",
   "mimetype": "text/x-python",
   "name": "python",
   "nbconvert_exporter": "python",
   "pygments_lexer": "ipython3",
   "version": "3.11.9"
  }
 },
 "nbformat": 4,
 "nbformat_minor": 2
}
