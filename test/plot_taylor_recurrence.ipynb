{
 "cells": [
  {
   "cell_type": "markdown",
   "metadata": {},
   "source": [
    "# Generalizing a Taylor Recurrence"
   ]
  },
  {
   "cell_type": "code",
   "execution_count": 28,
   "metadata": {},
   "outputs": [],
   "source": [
    "from sumpy.recurrence import _make_sympy_vec, get_processed_and_shifted_recurrence\n",
    "\n",
    "from sumpy.expansion.diff_op import (\n",
    "    laplacian,\n",
    "    make_identity_diff_op,\n",
    ")\n",
    "\n",
    "from sumpy.recurrence import get_recurrence, recurrence_from_pde, shift_recurrence, get_shifted_recurrence_exp_from_pde, _extract_idx_terms_from_recurrence\n",
    "\n",
    "import sympy as sp\n",
    "from sympy import hankel1\n",
    "\n",
    "import numpy as np\n",
    "\n",
    "import math\n",
    "\n",
    "import matplotlib.pyplot as plt\n",
    "from matplotlib import cm, ticker"
   ]
  },
  {
   "cell_type": "code",
   "execution_count": 29,
   "metadata": {},
   "outputs": [],
   "source": [
    "var = _make_sympy_vec(\"x\", 2)\n",
    "s = sp.Function(\"s\")\n",
    "n = sp.symbols(\"n\")\n",
    "i = sp.symbols(\"i\")"
   ]
  },
  {
   "cell_type": "code",
   "execution_count": 30,
   "metadata": {},
   "outputs": [],
   "source": [
    "w = make_identity_diff_op(2)\n",
    "laplace2d = laplacian(w)\n",
    "\n",
    "w = make_identity_diff_op(2)\n",
    "helmholtz2d = laplacian(w) + w"
   ]
  },
  {
   "cell_type": "code",
   "execution_count": 31,
   "metadata": {},
   "outputs": [],
   "source": [
    "def compute_derivatives(p):\n",
    "    var = _make_sympy_vec(\"x\", 2)\n",
    "    var_t = _make_sympy_vec(\"t\", 2)\n",
    "    g_x_y = sp.log(sp.sqrt((var[0]-var_t[0])**2 + (var[1]-var_t[1])**2))\n",
    "    derivs = [sp.diff(g_x_y,\n",
    "                        var_t[0], i).subs(var_t[0], 0).subs(var_t[1], 0)\n",
    "                        for i in range(p)]\n",
    "    return derivs"
   ]
  },
  {
   "cell_type": "code",
   "execution_count": 32,
   "metadata": {},
   "outputs": [],
   "source": [
    "def compute_derivatives_h2d(p):\n",
    "    var = _make_sympy_vec(\"x\", 2)\n",
    "    var_t = _make_sympy_vec(\"t\", 2)\n",
    "    abs_dist = sp.sqrt((var[0]-var_t[0])**2 +\n",
    "                        (var[1]-var_t[1])**2)\n",
    "    g_x_y = (1j/4) * hankel1(0, k * abs_dist)\n",
    "    derivs_helmholtz = [sp.diff(g_x_y,\n",
    "                        var_t[0], i).subs(var_t[0], 0).subs(var_t[1], 0)\n",
    "                                                for i in range(p)]\n",
    "    return derivs_helmholtz"
   ]
  },
  {
   "cell_type": "markdown",
   "metadata": {},
   "source": [
    "# Step 1: Get recurrence as expression that evaluates to 0 and sanity check it"
   ]
  },
  {
   "cell_type": "code",
   "execution_count": 33,
   "metadata": {},
   "outputs": [
    {
     "data": {
      "text/plain": [
       "4"
      ]
     },
     "execution_count": 33,
     "metadata": {},
     "output_type": "execute_result"
    }
   ],
   "source": [
    "recur, order = get_shifted_recurrence_exp_from_pde(laplace2d)\n",
    "order"
   ]
  },
  {
   "cell_type": "code",
   "execution_count": 34,
   "metadata": {},
   "outputs": [
    {
     "data": {
      "text/latex": [
       "$\\displaystyle 7.21644966006352 \\cdot 10^{-16}$"
      ],
      "text/plain": [
       "7.21644966006352e-16"
      ]
     },
     "execution_count": 34,
     "metadata": {},
     "output_type": "execute_result"
    }
   ],
   "source": [
    "#Sanity check that recurrence is correct\n",
    "derivs_lap = compute_derivatives(5)\n",
    "exp = recur.subs(n, 4)\n",
    "exp.subs(s(4), derivs_lap[4]).subs(s(3), derivs_lap[3]).subs(s(2), derivs_lap[2]).subs(s(1), derivs_lap[1]).subs(var[0],np.random.rand()).subs(var[1],np.random.rand())"
   ]
  },
  {
   "cell_type": "markdown",
   "metadata": {},
   "source": [
    "## Step 2: After performing a Taylor expansion of the $s(n), s(n-1), \\dots$ in the 1D recurrence we need to create a 2D grid of coefficients \n",
    "$$\n",
    "grid[i, j]\n",
    "$$\n",
    "Where $i = 0$ represents the coefficient attached to $s(n)$ and $i = 1$ represents $s(n-1)$, etc. and the $j$ is for the polynomial in $x_0$."
   ]
  },
  {
   "cell_type": "code",
   "execution_count": 35,
   "metadata": {},
   "outputs": [],
   "source": [
    "def get_grid(recur):\n",
    "    poly_in_s_n = sp.poly(recur, [s(n-i) for i in range(order)])\n",
    "    coeff_s_n = [poly_in_s_n.coeff_monomial(poly_in_s_n.gens[i]) for i in range(order)]\n",
    "\n",
    "    table = []\n",
    "    for i in range(len(coeff_s_n)):\n",
    "        table.append(sp.poly(coeff_s_n[i], var[0]).all_coeffs()[::-1])\n",
    "\n",
    "    return table"
   ]
  },
  {
   "cell_type": "code",
   "execution_count": 36,
   "metadata": {},
   "outputs": [
    {
     "data": {
      "text/plain": [
       "[[0, (-1)**n*x1**2, 0, (-1)**n],\n",
       " [-(-1)**n*n*x1**2 + 3*(-1)**n*x1**2, 0, -3*(-1)**n*n + 5*(-1)**n],\n",
       " [0, 3*(-1)**n*n**2 - 13*(-1)**n*n + 14*(-1)**n],\n",
       " [-(-1)**n*n**3 + 8*(-1)**n*n**2 - 21*(-1)**n*n + 18*(-1)**n]]"
      ]
     },
     "execution_count": 36,
     "metadata": {},
     "output_type": "execute_result"
    }
   ],
   "source": [
    "grid = get_grid(recur)\n",
    "grid"
   ]
  },
  {
   "cell_type": "markdown",
   "metadata": {},
   "source": [
    "# Step 3: Grid of Coefficient to Grid Recurrence\n",
    "$$\n",
    "f(x_1) x_0^k s(n-j) \\to f(x_1) x_0^k \\sum_{i=0}^{\\infty} s_{n-j,i} \\frac{x_0^i}{i!} = f(x_1) \\sum_{i=k}^{\\infty} s_{n-j,i-k} \\frac{x_0^i}{(i-k)!} \n",
    "$$"
   ]
  },
  {
   "cell_type": "code",
   "execution_count": 37,
   "metadata": {},
   "outputs": [
    {
     "data": {
      "text/latex": [
       "$\\displaystyle \\frac{\\left(-1\\right)^{n} x_{1}^{2} s{\\left(n,i - 1 \\right)}}{\\left(i - 1\\right)!} + \\frac{\\left(-1\\right)^{n} s{\\left(n,i - 3 \\right)}}{\\left(i - 3\\right)!} + \\frac{\\left(- 3 \\left(-1\\right)^{n} n + 5 \\left(-1\\right)^{n}\\right) s{\\left(n - 1,i - 2 \\right)}}{\\left(i - 2\\right)!} + \\frac{\\left(- \\left(-1\\right)^{n} n x_{1}^{2} + 3 \\left(-1\\right)^{n} x_{1}^{2}\\right) s{\\left(n - 1,i \\right)}}{i!} + \\frac{\\left(3 \\left(-1\\right)^{n} n^{2} - 13 \\left(-1\\right)^{n} n + 14 \\left(-1\\right)^{n}\\right) s{\\left(n - 2,i - 1 \\right)}}{\\left(i - 1\\right)!} + \\frac{\\left(- \\left(-1\\right)^{n} n^{3} + 8 \\left(-1\\right)^{n} n^{2} - 21 \\left(-1\\right)^{n} n + 18 \\left(-1\\right)^{n}\\right) s{\\left(n - 3,i \\right)}}{i!}$"
      ],
      "text/plain": [
       "(-1)**n*x1**2*s(n, i - 1)/factorial(i - 1) + (-1)**n*s(n, i - 3)/factorial(i - 3) + (-3*(-1)**n*n + 5*(-1)**n)*s(n - 1, i - 2)/factorial(i - 2) + (-(-1)**n*n*x1**2 + 3*(-1)**n*x1**2)*s(n - 1, i)/factorial(i) + (3*(-1)**n*n**2 - 13*(-1)**n*n + 14*(-1)**n)*s(n - 2, i - 1)/factorial(i - 1) + (-(-1)**n*n**3 + 8*(-1)**n*n**2 - 21*(-1)**n*n + 18*(-1)**n)*s(n - 3, i)/factorial(i)"
      ]
     },
     "execution_count": 37,
     "metadata": {},
     "output_type": "execute_result"
    }
   ],
   "source": [
    "def convert(grid):\n",
    "    recur_exp = 0\n",
    "    i = sp.symbols(\"i\")\n",
    "    s_terms = []\n",
    "    for j in range(len(grid)):\n",
    "        for k in range(len(grid[j])):\n",
    "            recur_exp += grid[j][k] * s(n-j,i-k)/sp.factorial(i-k)\n",
    "            if grid[j][k] != 0:\n",
    "                s_terms.append((j,k))\n",
    "    return recur_exp, s_terms\n",
    "grid_recur, s_terms = convert(grid)\n",
    "s_terms\n",
    "grid_recur"
   ]
  },
  {
   "cell_type": "markdown",
   "metadata": {},
   "source": [
    "# Step 4: Translate grid recurrence to column recurrence\n",
    "We can use the fact\n",
    "$$\n",
    "s_{n, i} = s_{n-j, i+j} (-1)^j\n",
    "$$\n",
    "to perform the following translation:\n",
    "$$\n",
    "s_{x, i-l} \\to s_{x+l, i} (-1)^l\n",
    "$$"
   ]
  },
  {
   "cell_type": "code",
   "execution_count": 38,
   "metadata": {},
   "outputs": [],
   "source": [
    "def grid_recur_to_column_recur(grid_recur, s_terms):\n",
    "    grid_recur_simp = grid_recur\n",
    "    bag = set()\n",
    "    for s_t in s_terms:\n",
    "        bag.add(-((0-s_t[0])-s_t[1]))\n",
    "        grid_recur_simp = grid_recur_simp.subs(s(n-s_t[0],i-s_t[1]), (-1)**(s_t[1])*s((n-s_t[0])-s_t[1],(i-s_t[1])+s_t[1]))\n",
    "    shift = min(bag)\n",
    "    return sp.solve(sp.simplify(grid_recur_simp * sp.factorial(i)).subs(n, n+shift), s(n,i))[0]"
   ]
  },
  {
   "cell_type": "code",
   "execution_count": 39,
   "metadata": {},
   "outputs": [
    {
     "data": {
      "text/latex": [
       "$\\displaystyle \\frac{\\left(- i^{2} - 2 i n + 3 i - n^{2} + 3 n - 2\\right) s{\\left(n - 2,i \\right)}}{x_{1}^{2}}$"
      ],
      "text/plain": [
       "(-i**2 - 2*i*n + 3*i - n**2 + 3*n - 2)*s(n - 2, i)/x1**2"
      ]
     },
     "execution_count": 39,
     "metadata": {},
     "output_type": "execute_result"
    }
   ],
   "source": [
    "column_recur = grid_recur_to_column_recur(grid_recur, s_terms)\n",
    "column_recur"
   ]
  },
  {
   "cell_type": "markdown",
   "metadata": {},
   "source": [
    "# Part 5: Package into Big Function:"
   ]
  },
  {
   "cell_type": "code",
   "execution_count": 40,
   "metadata": {},
   "outputs": [],
   "source": [
    "def get_taylor_recurrence(pde):\n",
    "    recur, order = get_shifted_recurrence_exp_from_pde(pde)\n",
    "    grid = get_grid(recur)\n",
    "    grid_recur, s_terms = convert(grid)\n",
    "    column_recur = grid_recur_to_column_recur(grid_recur, s_terms)\n",
    "    return column_recur"
   ]
  },
  {
   "cell_type": "code",
   "execution_count": 41,
   "metadata": {},
   "outputs": [
    {
     "data": {
      "text/latex": [
       "$\\displaystyle \\frac{\\left(- i^{2} - 2 i n + 3 i - n^{2} + 3 n - 2\\right) s{\\left(n - 2,i \\right)}}{x_{1}^{2}}$"
      ],
      "text/plain": [
       "(-i**2 - 2*i*n + 3*i - n**2 + 3*n - 2)*s(n - 2, i)/x1**2"
      ]
     },
     "execution_count": 41,
     "metadata": {},
     "output_type": "execute_result"
    }
   ],
   "source": [
    "get_taylor_recurrence(laplace2d)"
   ]
  },
  {
   "cell_type": "code",
   "execution_count": 46,
   "metadata": {},
   "outputs": [
    {
     "data": {
      "text/latex": [
       "$\\displaystyle \\frac{- 12 s{\\left(-1,2 \\right)} - 36 s{\\left(1,2 \\right)}}{3 x_{1}^{2}}$"
      ],
      "text/plain": [
       "(-12*s(-1, 2) - 36*s(1, 2))/(3*x1**2)"
      ]
     },
     "execution_count": 46,
     "metadata": {},
     "output_type": "execute_result"
    }
   ],
   "source": [
    "get_taylor_recurrence(helmholtz2d).subs(i, 2).subs(n, 3)"
   ]
  },
  {
   "cell_type": "markdown",
   "metadata": {},
   "source": [
    "# Part 6: Check Edge Cases for Grid Recurrence"
   ]
  },
  {
   "cell_type": "markdown",
   "metadata": {},
   "source": []
  }
 ],
 "metadata": {
  "kernelspec": {
   "display_name": "inteq",
   "language": "python",
   "name": "python3"
  },
  "language_info": {
   "codemirror_mode": {
    "name": "ipython",
    "version": 3
   },
   "file_extension": ".py",
   "mimetype": "text/x-python",
   "name": "python",
   "nbconvert_exporter": "python",
   "pygments_lexer": "ipython3",
   "version": "3.11.9"
  }
 },
 "nbformat": 4,
 "nbformat_minor": 2
}
