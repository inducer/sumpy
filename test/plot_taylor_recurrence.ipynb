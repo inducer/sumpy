{
 "cells": [
  {
   "cell_type": "markdown",
   "metadata": {},
   "source": [
    "# Generalizing a Taylor Recurrence"
   ]
  },
  {
   "cell_type": "code",
   "execution_count": 1,
   "metadata": {},
   "outputs": [],
   "source": [
    "from sumpy.recurrence import _make_sympy_vec, get_processed_and_shifted_recurrence\n",
    "\n",
    "from sumpy.expansion.diff_op import (\n",
    "    laplacian,\n",
    "    make_identity_diff_op,\n",
    ")\n",
    "\n",
    "from sumpy.recurrence import get_recurrence, recurrence_from_pde, shift_recurrence, get_shifted_recurrence_exp_from_pde, _extract_idx_terms_from_recurrence\n",
    "\n",
    "import sympy as sp\n",
    "from sympy import hankel1\n",
    "\n",
    "import numpy as np\n",
    "\n",
    "import math\n",
    "\n",
    "import matplotlib.pyplot as plt\n",
    "from matplotlib import cm, ticker"
   ]
  },
  {
   "cell_type": "code",
   "execution_count": 2,
   "metadata": {},
   "outputs": [],
   "source": [
    "var = _make_sympy_vec(\"x\", 2)\n",
    "s = sp.Function(\"s\")\n",
    "n = sp.symbols(\"n\")\n",
    "i = sp.symbols(\"i\")"
   ]
  },
  {
   "cell_type": "code",
   "execution_count": 3,
   "metadata": {},
   "outputs": [],
   "source": [
    "def compute_derivatives(p):\n",
    "    var = _make_sympy_vec(\"x\", 2)\n",
    "    var_t = _make_sympy_vec(\"t\", 2)\n",
    "    g_x_y = sp.log(sp.sqrt((var[0]-var_t[0])**2 + (var[1]-var_t[1])**2))\n",
    "    derivs = [sp.diff(g_x_y,\n",
    "                        var_t[0], i).subs(var_t[0], 0).subs(var_t[1], 0)\n",
    "                        for i in range(p)]\n",
    "    return derivs"
   ]
  },
  {
   "cell_type": "code",
   "execution_count": 4,
   "metadata": {},
   "outputs": [],
   "source": [
    "def compute_derivatives_h2d(p, k=1.0):\n",
    "    var = _make_sympy_vec(\"x\", 2)\n",
    "    var_t = _make_sympy_vec(\"t\", 2)\n",
    "    abs_dist = sp.sqrt((var[0]-var_t[0])**2 +\n",
    "                        (var[1]-var_t[1])**2)\n",
    "    g_x_y = (1j/4) * hankel1(0, k * abs_dist)\n",
    "    derivs_helmholtz = [sp.diff(g_x_y,\n",
    "                        var_t[0], i).subs(var_t[0], 0).subs(var_t[1], 0)\n",
    "                                                for i in range(p)]\n",
    "    return derivs_helmholtz"
   ]
  },
  {
   "cell_type": "code",
   "execution_count": 5,
   "metadata": {},
   "outputs": [],
   "source": [
    "w = make_identity_diff_op(2)\n",
    "laplace2d = laplacian(w)\n",
    "\n",
    "w = make_identity_diff_op(2)\n",
    "helmholtz2d = laplacian(w) + w\n",
    "\n",
    "derivs_lap = compute_derivatives(8)\n",
    "derivs_helm = compute_derivatives_h2d(8)"
   ]
  },
  {
   "cell_type": "code",
   "execution_count": 6,
   "metadata": {},
   "outputs": [],
   "source": [
    "def get_grid(recur, order):\n",
    "    poly_in_s_n = sp.poly(recur, [s(n-i) for i in range(order)])\n",
    "    coeff_s_n = [poly_in_s_n.coeff_monomial(poly_in_s_n.gens[i]) for i in range(order)]\n",
    "\n",
    "    table = []\n",
    "    for i in range(len(coeff_s_n)):\n",
    "        table.append(sp.poly(coeff_s_n[i], var[0]).all_coeffs()[::-1])\n",
    "\n",
    "    return table\n",
    "\n",
    "def convert(grid):\n",
    "    recur_exp = 0\n",
    "    i = sp.symbols(\"i\")\n",
    "    s_terms = []\n",
    "    for j in range(len(grid)):\n",
    "        for k in range(len(grid[j])):\n",
    "            recur_exp += grid[j][k] * s(n-j,i-k)/sp.factorial(i-k)\n",
    "            if grid[j][k] != 0:\n",
    "                s_terms.append((j,k))\n",
    "    return recur_exp, s_terms\n",
    "\n",
    "def grid_recur_to_column_recur(grid_recur, s_terms):\n",
    "    grid_recur_simp = grid_recur\n",
    "    bag = set()\n",
    "    for s_t in s_terms:\n",
    "        bag.add(-((0-s_t[0])-s_t[1]))\n",
    "        grid_recur_simp = grid_recur_simp.subs(s(n-s_t[0],i-s_t[1]), (-1)**(s_t[1])*s((n-s_t[0])-s_t[1],(i-s_t[1])+s_t[1]))\n",
    "    shift = min(bag)\n",
    "    return sp.solve(sp.simplify(grid_recur_simp * sp.factorial(i)).subs(n, n+shift), s(n,i))[0]\n",
    "\n",
    "def get_taylor_recurrence(pde):\n",
    "    recur, order = get_shifted_recurrence_exp_from_pde(pde)\n",
    "    grid = get_grid(recur, order)\n",
    "    grid_recur, s_terms = convert(grid)\n",
    "    column_recur = grid_recur_to_column_recur(grid_recur, s_terms)\n",
    "    return column_recur"
   ]
  },
  {
   "cell_type": "code",
   "execution_count": 7,
   "metadata": {},
   "outputs": [],
   "source": [
    "def create_subs_grid(width, length, derivs, coord_dict):\n",
    "    initial_grid = [[sp.diff(derivs[i], var[0], j).subs(var[0], 0) for j in range(width)] for i in range(length)]\n",
    "\n",
    "    # assume len(initial_grid) >= 1\n",
    "    initial_grid_subs = []\n",
    "    initial_grid_width = len(initial_grid[0])\n",
    "    initial_grid_length = len(initial_grid)\n",
    "\n",
    "    for i_x in range(initial_grid_length):\n",
    "        tmp = []\n",
    "        for j_x in range(initial_grid_width):\n",
    "            tmp.append((initial_grid[i_x][j_x].subs(var[1],coord_dict[var[1]])).evalf())\n",
    "        initial_grid_subs.append(tmp)\n",
    "    \n",
    "    return initial_grid_subs\n"
   ]
  },
  {
   "cell_type": "code",
   "execution_count": 8,
   "metadata": {},
   "outputs": [],
   "source": [
    "def extend_grid(initial_grid_in, grid_recur, coord_dict, n_derivs_compute, order_grid_recur):\n",
    "    initial_grid_subs = [row[:] for row in initial_grid_in] #deep copy\n",
    "\n",
    "    initial_grid_width = len(initial_grid_subs[0])\n",
    "    initial_grid_length = len(initial_grid_subs)\n",
    "\n",
    "    for n_x in range(initial_grid_length, n_derivs_compute):\n",
    "        appMe = []\n",
    "        for i_x in range(initial_grid_width):\n",
    "            exp_i_n = grid_recur.subs(n, n_x).subs(i, i_x)\n",
    "            if exp_i_n == 0:\n",
    "                exp_i_n = sp.diff(derivs_lap[n_x], var[0], i_x).subs(var[0], 0)\n",
    "            assert n_x-order_grid_recur >= 0\n",
    "            kys = [s(n_x-k,i_x) for k in range(1,order_grid_recur+1)]\n",
    "            vals = [initial_grid_subs[n_x-k][i_x] for k in range(1, order_grid_recur+1)]\n",
    "            my_dict = dict(zip(kys, vals))\n",
    "            res = exp_i_n.subs(my_dict).subs(coord_dict)\n",
    "            appMe.append(res)\n",
    "\n",
    "        initial_grid_subs.append(appMe)\n",
    "\n",
    "    return initial_grid_subs\n"
   ]
  },
  {
   "cell_type": "code",
   "execution_count": 9,
   "metadata": {},
   "outputs": [],
   "source": [
    "def compute_taylor_lp(inp_grid, coord_dict):\n",
    "    inp_grid = np.array(inp_grid)\n",
    "    _, c = inp_grid.shape\n",
    "    return np.sum(inp_grid * np.reshape(np.array([coord_dict[var[0]]**i/math.factorial(i) for i in range(c)]), (1, c)), axis = 1)"
   ]
  },
  {
   "cell_type": "code",
   "execution_count": 10,
   "metadata": {},
   "outputs": [],
   "source": [
    "def compute_lp_orders(pde, loc, num_of_derivs, derivs_list, recur_order, taylor_order):\n",
    "    var = _make_sympy_vec(\"x\", 2)\n",
    "    coord_dict_t = {var[0]: loc[0], var[1]: loc[1]}\n",
    "\n",
    "    initial_grid_subs = create_subs_grid(taylor_order, recur_order, derivs_list, coord_dict_t)\n",
    "\n",
    "    extended_grid = extend_grid(initial_grid_subs, get_taylor_recurrence(pde), coord_dict_t, num_of_derivs, recur_order)\n",
    "\n",
    "    return compute_taylor_lp(extended_grid, coord_dict_t)"
   ]
  },
  {
   "cell_type": "code",
   "execution_count": 11,
   "metadata": {},
   "outputs": [],
   "source": [
    "def evaluate_true(coord_dict, p, derivs_list):\n",
    "    retMe = []\n",
    "    for i in range(p):\n",
    "        exp = derivs_list[i]\n",
    "        f = sp.lambdify(var, exp)\n",
    "        retMe.append(f(coord_dict[var[0]], coord_dict[var[1]]))\n",
    "    return np.array(retMe)"
   ]
  },
  {
   "cell_type": "code",
   "execution_count": 12,
   "metadata": {},
   "outputs": [],
   "source": [
    "def compute_error_coord_tg(loc, pde, derivs_list, n_of_derivs, taylor_order, recur_order):\n",
    "    exp = compute_lp_orders(pde, loc, n_of_derivs+1, derivs_list, recur_order, taylor_order)\n",
    "    coord_dict_test = {var[0]: loc[0], var[1]: loc[1]}\n",
    "    true = evaluate_true(coord_dict_test, n_of_derivs+1, derivs_list)\n",
    "\n",
    "    print((np.abs(exp[-1]-true[-1]).evalf()/np.abs(true[-1])).evalf())\n",
    "\n",
    "    return (np.abs(exp[-1]-true[-1]).evalf()/np.abs(true[-1])).evalf()"
   ]
  },
  {
   "cell_type": "code",
   "execution_count": 13,
   "metadata": {},
   "outputs": [],
   "source": [
    "def generate_error_grid(res, order_plot, pde, derivs, taylor_order, recur_order):\n",
    "    x_grid = [10**(pw) for pw in np.linspace(-8, 0, res)]\n",
    "    y_grid = [10**(pw) for pw in np.linspace(-8, 0, res)]\n",
    "    res=len(x_grid)\n",
    "    plot_me = np.empty((res, res))\n",
    "    for i in range(res):\n",
    "        for j in range(res):\n",
    "            if abs(x_grid[i]) == abs(y_grid[j]):\n",
    "                plot_me[i, j] = 1e-16\n",
    "            else:\n",
    "                plot_me[i,j] = compute_error_coord_tg(np.array([x_grid[i],y_grid[j]]), pde, derivs, order_plot, taylor_order, recur_order)\n",
    "                if plot_me[i,j] == 0:\n",
    "                    plot_me[i, j] = 1e-16\n",
    "    return x_grid, y_grid, plot_me"
   ]
  },
  {
   "cell_type": "code",
   "execution_count": 14,
   "metadata": {},
   "outputs": [
    {
     "name": "stdout",
     "output_type": "stream",
     "text": [
      "0.00184871819382009\n",
      "4.75098133319462e-8\n",
      "1.27376775023898e-12\n",
      "1.24084614178700e-16\n",
      "1.60573991798823e-16\n",
      "6.23381244320551e-16\n",
      "5.37798696669397e-16\n",
      "26177090592573.4\n",
      "0.00184871819382012\n",
      "4.75098141342560e-8\n",
      "1.27451910300311e-12\n",
      "0\n",
      "8.37458627366846e-16\n",
      "0\n",
      "6.04988962786002e+24\n",
      "26177090592573.7\n",
      "0.00184871819381942\n",
      "4.75098135453250e-8\n",
      "1.27428262748819e-12\n",
      "2.75523191325844e-16\n",
      "3.56545885702053e-16\n",
      "1.62179238320148e+36\n",
      "6.04988962786031e+24\n",
      "26177090592574.3\n",
      "0.00184871819382027\n",
      "4.75098138141641e-8\n",
      "1.27461083449562e-12\n",
      "0\n",
      "4.35075881796626e+47\n",
      "1.62179238320148e+36\n",
      "6.04988962786018e+24\n",
      "26177090592573.2\n",
      "0.00184871819382014\n",
      "4.75098142305268e-8\n",
      "1.27420964404018e-12\n",
      "1.16717621539488e+59\n",
      "4.35075881796630e+47\n",
      "1.62179238320142e+36\n",
      "6.04988962785993e+24\n",
      "26177090592573.6\n",
      "0.00184871819382024\n",
      "4.75098137391397e-8\n",
      "3.13117872506618e+70\n",
      "1.16717621539492e+59\n",
      "4.35075881796626e+47\n",
      "1.62179238320144e+36\n",
      "6.04988962786018e+24\n",
      "26177090592574.3\n",
      "0.00184871819381974\n",
      "8.40000000000000e+81\n",
      "3.13117872506629e+70\n",
      "1.16717621539490e+59\n",
      "4.35075881796626e+47\n",
      "1.62179238320148e+36\n",
      "6.04988962786026e+24\n",
      "26177090592573.7\n"
     ]
    }
   ],
   "source": [
    "x_grid, y_grid, plot_me_lap = generate_error_grid(8, 7, laplace2d, derivs_lap, 4, 2)"
   ]
  },
  {
   "cell_type": "code",
   "execution_count": 15,
   "metadata": {},
   "outputs": [],
   "source": [
    "#x_grid, y_grid, plot_me_helm = generate_error_grid(8, 7, helmholtz2d, derivs_helm, 4, 4)"
   ]
  },
  {
   "cell_type": "code",
   "execution_count": 16,
   "metadata": {},
   "outputs": [
    {
     "data": {
      "text/plain": [
       "' import matplotlib.pyplot as plt\\nfig, (ax1, ax2) = plt.subplots(1, 2, figsize=(15, 8))\\ncs1 = ax1.contourf(x_grid, y_grid,plot_me_lap.T, locator=ticker.LogLocator(), cmap=cm.PuBu_r)\\n\\ncs2 = ax2.contourf(x_grid, y_grid, plot_me_helm.T, locator=ticker.LogLocator(), cmap=cm.PuBu_r)\\n\\nfig.subplots_adjust(right=0.8)\\ncbar_ax = fig.add_axes([0.85, 0.15, 0.05, 0.7])\\nfig.colorbar(cs1, cax=cbar_ax)\\n\\n\\nax1.set_xscale(\\'log\\')\\nax1.set_yscale(\\'log\\')\\nax1.set_xlabel(\"source x-coord\")\\nax1.set_ylabel(\"source y-coord\")\\n\\n\\nax2.set_xscale(\\'log\\')\\nax2.set_yscale(\\'log\\')\\nax2.set_xlabel(\"source x-coord\")\\nax2.set_ylabel(\"source y-coord\")\\n\\nax1.set_title(\\'4-Term Taylor Series, Order 7, Laplace\\')\\nax2.set_title(\\'4-Term Taylor Series, Order 7, Helmholtz\\')\\n\\nplt.show() '"
      ]
     },
     "execution_count": 16,
     "metadata": {},
     "output_type": "execute_result"
    }
   ],
   "source": [
    "\"\"\" import matplotlib.pyplot as plt\n",
    "fig, (ax1, ax2) = plt.subplots(1, 2, figsize=(15, 8))\n",
    "cs1 = ax1.contourf(x_grid, y_grid,plot_me_lap.T, locator=ticker.LogLocator(), cmap=cm.PuBu_r)\n",
    "\n",
    "cs2 = ax2.contourf(x_grid, y_grid, plot_me_helm.T, locator=ticker.LogLocator(), cmap=cm.PuBu_r)\n",
    "\n",
    "fig.subplots_adjust(right=0.8)\n",
    "cbar_ax = fig.add_axes([0.85, 0.15, 0.05, 0.7])\n",
    "fig.colorbar(cs1, cax=cbar_ax)\n",
    "\n",
    "\n",
    "ax1.set_xscale('log')\n",
    "ax1.set_yscale('log')\n",
    "ax1.set_xlabel(\"source x-coord\")\n",
    "ax1.set_ylabel(\"source y-coord\")\n",
    "\n",
    "\n",
    "ax2.set_xscale('log')\n",
    "ax2.set_yscale('log')\n",
    "ax2.set_xlabel(\"source x-coord\")\n",
    "ax2.set_ylabel(\"source y-coord\")\n",
    "\n",
    "ax1.set_title('4-Term Taylor Series, Order 7, Laplace')\n",
    "ax2.set_title('4-Term Taylor Series, Order 7, Helmholtz')\n",
    "\n",
    "plt.show() \"\"\""
   ]
  },
  {
   "cell_type": "code",
   "execution_count": 17,
   "metadata": {},
   "outputs": [],
   "source": [
    "from sumpy.recurrence import get_recurrence\n",
    "w = make_identity_diff_op(2)\n",
    "laplace2d = laplacian(w)\n",
    "n_init_lap, order_lap, recur_laplace = get_processed_and_shifted_recurrence(laplace2d)\n",
    "\n",
    "def compute_derivatives(p):\n",
    "    var = _make_sympy_vec(\"x\", 2)\n",
    "    var_t = _make_sympy_vec(\"t\", 2)\n",
    "    g_x_y = sp.log(sp.sqrt((var[0]-var_t[0])**2 + (var[1]-var_t[1])**2))\n",
    "    derivs = [sp.diff(g_x_y,\n",
    "                        var_t[0], i).subs(var_t[0], 0).subs(var_t[1], 0)\n",
    "                        for i in range(p)]\n",
    "    return derivs\n",
    "l_max = 10\n",
    "derivs_laplace = compute_derivatives(l_max)\n",
    "\n",
    "def evaluate_recurrence_lamb1(coord_dict, recur, p, derivs_list, n_initial, n_order):\n",
    "    subs_dict = {}\n",
    "    for i in range(n_initial-n_order, 0):\n",
    "        subs_dict[s(i)] = 0\n",
    "    for i in range(n_initial):\n",
    "        subs_dict[s(i)] = derivs_list[i].subs(coord_dict)\n",
    "    var = _make_sympy_vec(\"x\", 2)\n",
    "    for i in range(n_initial, p):\n",
    "        exp = get_recurrence(recur, i)\n",
    "        f = sp.lambdify([var[0], var[1]] + [s(i-(1+k)) for k in range(n_order-1)], exp)\n",
    "        subs_dict[s(i)] = f(*([coord_dict[var[0]], coord_dict[var[1]]] + [subs_dict[s(i-(1+k))] for k in range(n_order-1)]))\n",
    "    for i in range(n_initial-n_order, 0):\n",
    "        subs_dict.pop(s(i))\n",
    "    return np.array(list(subs_dict.values()))\n",
    "\n",
    "def compute_error_coord1(recur, loc, order, derivs_list, n_initial, n_order):\n",
    "    var = _make_sympy_vec(\"x\", 2)\n",
    "    coord_dict = {var[0]: loc[0], var[1]: loc[1]}\n",
    "\n",
    "    exp = evaluate_recurrence_lamb1(coord_dict, recur, order+1, derivs_list, n_initial, n_order)[order].evalf()\n",
    "    \n",
    "    true = derivs_list[order].subs(coord_dict).evalf()\n",
    "\n",
    "    \n",
    "\n",
    "    return (np.abs(exp-true)/np.abs(true))\n",
    "def generate_error_grid1(res, order_plot, recur, derivs, n_initial, n_order):\n",
    "    x_grid = [10**(pw) for pw in np.linspace(-8, 0, res)]\n",
    "    y_grid = [10**(pw) for pw in np.linspace(-8, 0, res)]\n",
    "    res=len(x_grid)\n",
    "    plot_me = np.empty((res, res))\n",
    "    for i in range(res):\n",
    "        for j in range(res):\n",
    "            if abs(x_grid[i]) == abs(y_grid[j]):\n",
    "                plot_me[i, j] = 1e-16\n",
    "            else:\n",
    "                plot_me[i,j] = compute_error_coord1(recur, np.array([x_grid[i],y_grid[j]]), order_plot, derivs, n_initial, n_order)\n",
    "                if plot_me[i,j] == 0:\n",
    "                    plot_me[i, j] = 1e-16\n",
    "    return x_grid, y_grid, plot_me\n",
    "x_grid, y_grid, plot_me_lap2  = generate_error_grid1(res=8, order_plot=7, recur=recur_laplace, derivs=derivs_laplace, n_initial=n_init_lap, n_order=order_lap)"
   ]
  },
  {
   "cell_type": "code",
   "execution_count": 20,
   "metadata": {},
   "outputs": [
    {
     "data": {
      "image/png": "[encoded data removed]",
      "text/plain": [
       "<Figure size 1500x800 with 3 Axes>"
      ]
     },
     "metadata": {},
     "output_type": "display_data"
    }
   ],
   "source": [
    "import matplotlib.pyplot as plt\n",
    "fig, (ax1, ax2) = plt.subplots(1, 2, figsize=(15, 8))\n",
    "cs1 = ax1.contourf(x_grid, y_grid,plot_me_lap.T, locator=ticker.LogLocator(), cmap=cm.PuBu_r)\n",
    "\n",
    "cs2 = ax2.contourf(x_grid, y_grid, plot_me_lap2.T, locator=ticker.LogLocator(), cmap=cm.PuBu_r)\n",
    "\n",
    "fig.subplots_adjust(right=0.8)\n",
    "cbar_ax = fig.add_axes([0.85, 0.15, 0.05, 0.7])\n",
    "fig.colorbar(cs1, cax=cbar_ax)\n",
    "\n",
    "\n",
    "ax1.set_xscale('log')\n",
    "ax1.set_yscale('log')\n",
    "ax1.set_xlabel(\"source x-coord\", fontsize=15)\n",
    "ax1.set_ylabel(\"source y-coord\", fontsize=15)\n",
    "\n",
    "\n",
    "ax2.set_xscale('log')\n",
    "ax2.set_yscale('log')\n",
    "ax2.set_xlabel(\"source x-coord\", fontsize=15)\n",
    "ax2.set_ylabel(\"source y-coord\", fontsize=15)\n",
    "\n",
    "ax1.set_title('4-Term Off-Axis Recurrence, Order 7, Laplace, rel. err.', fontsize=15)\n",
    "ax2.set_title('On-Axis Recurrence, Order 7, Laplace, rel. err.', fontsize=15)\n",
    "\n",
    "plt.show()"
   ]
  },
  {
   "cell_type": "code",
   "execution_count": null,
   "metadata": {},
   "outputs": [],
   "source": []
  }
 ],
 "metadata": {
  "kernelspec": {
   "display_name": "inteq",
   "language": "python",
   "name": "python3"
  },
  "language_info": {
   "codemirror_mode": {
    "name": "ipython",
    "version": 3
   },
   "file_extension": ".py",
   "mimetype": "text/x-python",
   "name": "python",
   "nbconvert_exporter": "python",
   "pygments_lexer": "ipython3",
   "version": "3.11.9"
  }
 },
 "nbformat": 4,
 "nbformat_minor": 2
}
