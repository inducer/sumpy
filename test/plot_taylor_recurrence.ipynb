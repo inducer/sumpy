{
 "cells": [
  {
   "cell_type": "markdown",
   "metadata": {},
   "source": [
    "# Generalizing a Taylor Recurrence"
   ]
  },
  {
   "cell_type": "code",
   "execution_count": 1,
   "metadata": {},
   "outputs": [],
   "source": [
    "from sumpy.recurrence import _make_sympy_vec, get_processed_and_shifted_recurrence\n",
    "\n",
    "from sumpy.expansion.diff_op import (\n",
    "    laplacian,\n",
    "    make_identity_diff_op,\n",
    ")\n",
    "\n",
    "from sumpy.recurrence import get_recurrence, recurrence_from_pde, shift_recurrence, get_shifted_recurrence_exp_from_pde, _extract_idx_terms_from_recurrence\n",
    "\n",
    "import sympy as sp\n",
    "from sympy import hankel1\n",
    "\n",
    "import numpy as np\n",
    "\n",
    "import math\n",
    "\n",
    "import matplotlib.pyplot as plt\n",
    "from matplotlib import cm, ticker"
   ]
  },
  {
   "cell_type": "code",
   "execution_count": 2,
   "metadata": {},
   "outputs": [],
   "source": [
    "var = _make_sympy_vec(\"x\", 2)\n",
    "s = sp.Function(\"s\")\n",
    "n = sp.symbols(\"n\")\n",
    "i = sp.symbols(\"i\")"
   ]
  },
  {
   "cell_type": "code",
   "execution_count": 3,
   "metadata": {},
   "outputs": [],
   "source": [
    "w = make_identity_diff_op(2)\n",
    "laplace2d = laplacian(w)\n",
    "\n",
    "w = make_identity_diff_op(2)\n",
    "helmholtz2d = laplacian(w) + w"
   ]
  },
  {
   "cell_type": "code",
   "execution_count": 4,
   "metadata": {},
   "outputs": [],
   "source": [
    "def compute_derivatives(p):\n",
    "    var = _make_sympy_vec(\"x\", 2)\n",
    "    var_t = _make_sympy_vec(\"t\", 2)\n",
    "    g_x_y = sp.log(sp.sqrt((var[0]-var_t[0])**2 + (var[1]-var_t[1])**2))\n",
    "    derivs = [sp.diff(g_x_y,\n",
    "                        var_t[0], i).subs(var_t[0], 0).subs(var_t[1], 0)\n",
    "                        for i in range(p)]\n",
    "    return derivs"
   ]
  },
  {
   "cell_type": "code",
   "execution_count": 5,
   "metadata": {},
   "outputs": [],
   "source": [
    "def compute_derivatives_h2d(p, k=1.0):\n",
    "    var = _make_sympy_vec(\"x\", 2)\n",
    "    var_t = _make_sympy_vec(\"t\", 2)\n",
    "    abs_dist = sp.sqrt((var[0]-var_t[0])**2 +\n",
    "                        (var[1]-var_t[1])**2)\n",
    "    g_x_y = (1j/4) * hankel1(0, k * abs_dist)\n",
    "    derivs_helmholtz = [sp.diff(g_x_y,\n",
    "                        var_t[0], i).subs(var_t[0], 0).subs(var_t[1], 0)\n",
    "                                                for i in range(p)]\n",
    "    return derivs_helmholtz"
   ]
  },
  {
   "cell_type": "markdown",
   "metadata": {},
   "source": [
    "# Step 1: Get recurrence as expression that evaluates to 0 and sanity check it"
   ]
  },
  {
   "cell_type": "code",
   "execution_count": 6,
   "metadata": {},
   "outputs": [
    {
     "data": {
      "text/plain": [
       "4"
      ]
     },
     "execution_count": 6,
     "metadata": {},
     "output_type": "execute_result"
    }
   ],
   "source": [
    "recur_lap, order_lap = get_shifted_recurrence_exp_from_pde(laplace2d)\n",
    "order_lap"
   ]
  },
  {
   "cell_type": "code",
   "execution_count": 7,
   "metadata": {},
   "outputs": [
    {
     "data": {
      "text/latex": [
       "$\\displaystyle -1.02418074021671 \\cdot 10^{-14}$"
      ],
      "text/plain": [
       "-1.02418074021671e-14"
      ]
     },
     "execution_count": 7,
     "metadata": {},
     "output_type": "execute_result"
    }
   ],
   "source": [
    "#Sanity check that recurrence is correct\n",
    "derivs_lap = compute_derivatives(15)\n",
    "exp = recur_lap.subs(n, 4)\n",
    "exp.subs(s(4), derivs_lap[4]).subs(s(3), derivs_lap[3]).subs(s(2), derivs_lap[2]).subs(s(1), derivs_lap[1]).subs(var[0],np.random.rand()).subs(var[1],np.random.rand())"
   ]
  },
  {
   "cell_type": "markdown",
   "metadata": {},
   "source": [
    "## Step 2: After performing a Taylor expansion of the $s(n), s(n-1), \\dots$ in the 1D recurrence we need to create a 2D grid of coefficients \n",
    "$$\n",
    "grid[i, j]\n",
    "$$\n",
    "Where $i = 0$ represents the coefficient attached to $s(n)$ and $i = 1$ represents $s(n-1)$, etc. and the $j$ is for the polynomial in $x_0$."
   ]
  },
  {
   "cell_type": "code",
   "execution_count": 8,
   "metadata": {},
   "outputs": [],
   "source": [
    "def get_grid(recur, order):\n",
    "    poly_in_s_n = sp.poly(recur, [s(n-i) for i in range(order)])\n",
    "    coeff_s_n = [poly_in_s_n.coeff_monomial(poly_in_s_n.gens[i]) for i in range(order)]\n",
    "\n",
    "    table = []\n",
    "    for i in range(len(coeff_s_n)):\n",
    "        table.append(sp.poly(coeff_s_n[i], var[0]).all_coeffs()[::-1])\n",
    "\n",
    "    return table"
   ]
  },
  {
   "cell_type": "code",
   "execution_count": 9,
   "metadata": {},
   "outputs": [
    {
     "data": {
      "text/plain": [
       "[[0, (-1)**n*x1**2, 0, (-1)**n],\n",
       " [-(-1)**n*n*x1**2 + 3*(-1)**n*x1**2, 0, -3*(-1)**n*n + 5*(-1)**n],\n",
       " [0, 3*(-1)**n*n**2 - 13*(-1)**n*n + 14*(-1)**n],\n",
       " [-(-1)**n*n**3 + 8*(-1)**n*n**2 - 21*(-1)**n*n + 18*(-1)**n]]"
      ]
     },
     "execution_count": 9,
     "metadata": {},
     "output_type": "execute_result"
    }
   ],
   "source": [
    "grid = get_grid(recur_lap, order_lap)\n",
    "grid"
   ]
  },
  {
   "cell_type": "markdown",
   "metadata": {},
   "source": [
    "# Step 3: Grid of Coefficient to Grid Recurrence\n",
    "$$\n",
    "f(x_1) x_0^k s(n-j) \\to f(x_1) x_0^k \\sum_{i=0}^{\\infty} s_{n-j,i} \\frac{x_0^i}{i!} = f(x_1) \\sum_{i=k}^{\\infty} s_{n-j,i-k} \\frac{x_0^i}{(i-k)!} \n",
    "$$"
   ]
  },
  {
   "cell_type": "code",
   "execution_count": 10,
   "metadata": {},
   "outputs": [
    {
     "data": {
      "text/latex": [
       "$\\displaystyle \\frac{\\left(-1\\right)^{n} x_{1}^{2} s{\\left(n,i - 1 \\right)}}{\\left(i - 1\\right)!} + \\frac{\\left(-1\\right)^{n} s{\\left(n,i - 3 \\right)}}{\\left(i - 3\\right)!} + \\frac{\\left(- 3 \\left(-1\\right)^{n} n + 5 \\left(-1\\right)^{n}\\right) s{\\left(n - 1,i - 2 \\right)}}{\\left(i - 2\\right)!} + \\frac{\\left(- \\left(-1\\right)^{n} n x_{1}^{2} + 3 \\left(-1\\right)^{n} x_{1}^{2}\\right) s{\\left(n - 1,i \\right)}}{i!} + \\frac{\\left(3 \\left(-1\\right)^{n} n^{2} - 13 \\left(-1\\right)^{n} n + 14 \\left(-1\\right)^{n}\\right) s{\\left(n - 2,i - 1 \\right)}}{\\left(i - 1\\right)!} + \\frac{\\left(- \\left(-1\\right)^{n} n^{3} + 8 \\left(-1\\right)^{n} n^{2} - 21 \\left(-1\\right)^{n} n + 18 \\left(-1\\right)^{n}\\right) s{\\left(n - 3,i \\right)}}{i!}$"
      ],
      "text/plain": [
       "(-1)**n*x1**2*s(n, i - 1)/factorial(i - 1) + (-1)**n*s(n, i - 3)/factorial(i - 3) + (-3*(-1)**n*n + 5*(-1)**n)*s(n - 1, i - 2)/factorial(i - 2) + (-(-1)**n*n*x1**2 + 3*(-1)**n*x1**2)*s(n - 1, i)/factorial(i) + (3*(-1)**n*n**2 - 13*(-1)**n*n + 14*(-1)**n)*s(n - 2, i - 1)/factorial(i - 1) + (-(-1)**n*n**3 + 8*(-1)**n*n**2 - 21*(-1)**n*n + 18*(-1)**n)*s(n - 3, i)/factorial(i)"
      ]
     },
     "execution_count": 10,
     "metadata": {},
     "output_type": "execute_result"
    }
   ],
   "source": [
    "def convert(grid):\n",
    "    recur_exp = 0\n",
    "    i = sp.symbols(\"i\")\n",
    "    s_terms = []\n",
    "    for j in range(len(grid)):\n",
    "        for k in range(len(grid[j])):\n",
    "            recur_exp += grid[j][k] * s(n-j,i-k)/sp.factorial(i-k)\n",
    "            if grid[j][k] != 0:\n",
    "                s_terms.append((j,k))\n",
    "    return recur_exp, s_terms\n",
    "grid_recur, s_terms = convert(grid)\n",
    "s_terms\n",
    "grid_recur"
   ]
  },
  {
   "cell_type": "markdown",
   "metadata": {},
   "source": [
    "# Step 4: Translate grid recurrence to column recurrence\n",
    "We can use the fact\n",
    "$$\n",
    "s_{n, i} = s_{n-j, i+j} (-1)^j\n",
    "$$\n",
    "to perform the following translation:\n",
    "$$\n",
    "s_{x, i-l} \\to s_{x+l, i} (-1)^l\n",
    "$$"
   ]
  },
  {
   "cell_type": "code",
   "execution_count": 11,
   "metadata": {},
   "outputs": [],
   "source": [
    "def grid_recur_to_column_recur(grid_recur, s_terms):\n",
    "    grid_recur_simp = grid_recur\n",
    "    bag = set()\n",
    "    for s_t in s_terms:\n",
    "        bag.add(-((0-s_t[0])-s_t[1]))\n",
    "        grid_recur_simp = grid_recur_simp.subs(s(n-s_t[0],i-s_t[1]), (-1)**(s_t[1])*s((n-s_t[0])-s_t[1],(i-s_t[1])+s_t[1]))\n",
    "    shift = min(bag)\n",
    "    return sp.solve(sp.simplify(grid_recur_simp * sp.factorial(i)).subs(n, n+shift), s(n,i))[0]"
   ]
  },
  {
   "cell_type": "code",
   "execution_count": 12,
   "metadata": {},
   "outputs": [
    {
     "data": {
      "text/latex": [
       "$\\displaystyle \\frac{\\left(- i^{2} - 2 i n + 3 i - n^{2} + 3 n - 2\\right) s{\\left(n - 2,i \\right)}}{x_{1}^{2}}$"
      ],
      "text/plain": [
       "(-i**2 - 2*i*n + 3*i - n**2 + 3*n - 2)*s(n - 2, i)/x1**2"
      ]
     },
     "execution_count": 12,
     "metadata": {},
     "output_type": "execute_result"
    }
   ],
   "source": [
    "column_recur = grid_recur_to_column_recur(grid_recur, s_terms)\n",
    "column_recur"
   ]
  },
  {
   "cell_type": "markdown",
   "metadata": {},
   "source": [
    "# Part 5: Package into Big Function:"
   ]
  },
  {
   "cell_type": "code",
   "execution_count": 13,
   "metadata": {},
   "outputs": [],
   "source": [
    "def get_taylor_recurrence(pde):\n",
    "    recur, order = get_shifted_recurrence_exp_from_pde(pde)\n",
    "    grid = get_grid(recur, order)\n",
    "    grid_recur, s_terms = convert(grid)\n",
    "    column_recur = grid_recur_to_column_recur(grid_recur, s_terms)\n",
    "    return column_recur"
   ]
  },
  {
   "cell_type": "code",
   "execution_count": 14,
   "metadata": {},
   "outputs": [
    {
     "data": {
      "text/latex": [
       "$\\displaystyle \\frac{\\left(- i^{2} - 2 i n + 3 i - n^{2} + 3 n - 2\\right) s{\\left(n - 2,i \\right)}}{x_{1}^{2}}$"
      ],
      "text/plain": [
       "(-i**2 - 2*i*n + 3*i - n**2 + 3*n - 2)*s(n - 2, i)/x1**2"
      ]
     },
     "execution_count": 14,
     "metadata": {},
     "output_type": "execute_result"
    }
   ],
   "source": [
    "get_taylor_recurrence(laplace2d)"
   ]
  },
  {
   "cell_type": "code",
   "execution_count": 15,
   "metadata": {},
   "outputs": [
    {
     "data": {
      "text/latex": [
       "$\\displaystyle \\frac{- 8 s{\\left(-1,2 \\right)} - 12 s{\\left(1,2 \\right)}}{x_{1}^{2}}$"
      ],
      "text/plain": [
       "(-8*s(-1, 2) - 12*s(1, 2))/x1**2"
      ]
     },
     "execution_count": 15,
     "metadata": {},
     "output_type": "execute_result"
    }
   ],
   "source": [
    "get_taylor_recurrence(helmholtz2d).subs(i, 2).subs(n, 3)"
   ]
  },
  {
   "cell_type": "markdown",
   "metadata": {},
   "source": [
    "# Part 6: Check Edge Cases for Grid Recurrence"
   ]
  },
  {
   "cell_type": "markdown",
   "metadata": {},
   "source": [
    "## Laplace"
   ]
  },
  {
   "cell_type": "code",
   "execution_count": 16,
   "metadata": {},
   "outputs": [
    {
     "data": {
      "text/plain": [
       "[[log(sqrt(x1**2)), 0, x1**(-2), 0, -6/x1**4, 0, 120/x1**6, 0],\n",
       " [0, -1/x1**2, 0, 6/x1**4, 0, -120/x1**6, 0, 5040/x1**8],\n",
       " [x1**(-2), 0, -6/x1**4, 0, 120/x1**6, 0, -5040/x1**8, 0],\n",
       " [0, 6/x1**4, 0, -120/x1**6, 0, 5040/x1**8, 0, -362880/x1**10],\n",
       " [-6/x1**4, 0, 120/x1**6, 0, -5040/x1**8, 0, 362880/x1**10, 0],\n",
       " [0, -120/x1**6, 0, 5040/x1**8, 0, -362880/x1**10, 0, 39916800/x1**12],\n",
       " [120/x1**6, 0, -5040/x1**8, 0, 362880/x1**10, 0, -39916800/x1**12, 0],\n",
       " [0, 5040/x1**8, 0, -362880/x1**10, 0, 39916800/x1**12, 0, -6227020800/x1**14]]"
      ]
     },
     "execution_count": 16,
     "metadata": {},
     "output_type": "execute_result"
    }
   ],
   "source": [
    "width_lap_grid = 8\n",
    "length_lap_grid = 8\n",
    "true_grid_lap = [[sp.diff(derivs_lap[i], var[0], j).subs(var[0], 0) for j in range(width_lap_grid)] for i in range(length_lap_grid)]\n",
    "true_grid_lap"
   ]
  },
  {
   "cell_type": "code",
   "execution_count": 17,
   "metadata": {},
   "outputs": [
    {
     "data": {
      "text/latex": [
       "$\\displaystyle \\frac{\\left(- i^{2} - 2 i n + 3 i - n^{2} + 3 n - 2\\right) s{\\left(n - 2,i \\right)}}{x_{1}^{2}}$"
      ],
      "text/plain": [
       "(-i**2 - 2*i*n + 3*i - n**2 + 3*n - 2)*s(n - 2, i)/x1**2"
      ]
     },
     "execution_count": 17,
     "metadata": {},
     "output_type": "execute_result"
    }
   ],
   "source": [
    "get_taylor_recurrence(laplace2d)"
   ]
  },
  {
   "cell_type": "code",
   "execution_count": 18,
   "metadata": {},
   "outputs": [
    {
     "data": {
      "text/latex": [
       "$\\displaystyle 0$"
      ],
      "text/plain": [
       "0"
      ]
     },
     "execution_count": 18,
     "metadata": {},
     "output_type": "execute_result"
    }
   ],
   "source": [
    "get_taylor_recurrence(laplace2d).subs(n, 2).subs(i, 0)"
   ]
  },
  {
   "cell_type": "code",
   "execution_count": 19,
   "metadata": {},
   "outputs": [
    {
     "data": {
      "text/plain": [
       "[[log(sqrt(x1**2)), 0, x1**(-2), 0, -6/x1**4, 0, 120/x1**6, 0],\n",
       " [0, -1/x1**2, 0, 6/x1**4, 0, -120/x1**6, 0, 5040/x1**8]]"
      ]
     },
     "execution_count": 19,
     "metadata": {},
     "output_type": "execute_result"
    }
   ],
   "source": [
    "initial_grid = true_grid_lap[0:2]\n",
    "initial_grid"
   ]
  },
  {
   "cell_type": "code",
   "execution_count": 30,
   "metadata": {},
   "outputs": [
    {
     "data": {
      "text/plain": [
       "[[-0.693147180559945,\n",
       "  0,\n",
       "  4.00000000000000,\n",
       "  0,\n",
       "  -96.0000000000000,\n",
       "  0,\n",
       "  7680.00000000000,\n",
       "  0],\n",
       " [0,\n",
       "  -4.00000000000000,\n",
       "  0,\n",
       "  96.0000000000000,\n",
       "  0,\n",
       "  -7680.00000000000,\n",
       "  0,\n",
       "  1290240.00000000]]"
      ]
     },
     "execution_count": 30,
     "metadata": {},
     "output_type": "execute_result"
    }
   ],
   "source": [
    "# assume len(initial_grid) >= 1\n",
    "initial_grid_subs = []\n",
    "initial_grid_width = len(initial_grid[0])\n",
    "initial_grid_length = len(initial_grid)\n",
    "coord_dict = {var[1]: 0.5}\n",
    "\n",
    "for i_x in range(initial_grid_length):\n",
    "    tmp = []\n",
    "    for j_x in range(initial_grid_width):\n",
    "        tmp.append(initial_grid[i_x][j_x].subs(var[1],coord_dict[var[1]]))\n",
    "    initial_grid_subs.append(tmp)\n",
    "\n",
    "initial_grid_subs"
   ]
  },
  {
   "cell_type": "code",
   "execution_count": 31,
   "metadata": {},
   "outputs": [],
   "source": [
    "grid_recurrence_laplace_2d = get_taylor_recurrence(laplace2d)"
   ]
  },
  {
   "cell_type": "code",
   "execution_count": 32,
   "metadata": {},
   "outputs": [],
   "source": [
    "n_derivs_compute = 5\n",
    "grid_recurrence_laplace_2d = get_taylor_recurrence(laplace2d)\n",
    "order_grid_recur = 2\n",
    "\n",
    "for n_x in range(initial_grid_length, n_derivs_compute):\n",
    "    appMe = []\n",
    "    for i_x in range(initial_grid_width):\n",
    "        exp_i_n = grid_recurrence_laplace_2d.subs(n, n_x).subs(i, i_x)\n",
    "        if exp_i_n == 0:\n",
    "            exp_i_n = sp.diff(derivs_lap[n_x], var[0], i_x).subs(var[0], 0)\n",
    "        kys = [s(n_x-k,i_x) for k in range(1,order_grid_recur+1)]\n",
    "        vals = [initial_grid_subs[n_x-k][i_x] for k in range(1, order_grid_recur+1)]\n",
    "        my_dict = dict(zip(kys, vals))\n",
    "        res = exp_i_n.subs(my_dict).subs(coord_dict)\n",
    "        appMe.append(res)\n",
    "\n",
    "\n",
    "    initial_grid_subs.append(appMe)\n"
   ]
  },
  {
   "cell_type": "code",
   "execution_count": 33,
   "metadata": {},
   "outputs": [
    {
     "data": {
      "text/plain": [
       "[[-0.693147180559945,\n",
       "  0,\n",
       "  4.00000000000000,\n",
       "  0,\n",
       "  -96.0000000000000,\n",
       "  0,\n",
       "  7680.00000000000,\n",
       "  0],\n",
       " [0,\n",
       "  -4.00000000000000,\n",
       "  0,\n",
       "  96.0000000000000,\n",
       "  0,\n",
       "  -7680.00000000000,\n",
       "  0,\n",
       "  1290240.00000000],\n",
       " [4.00000000000000,\n",
       "  0,\n",
       "  -96.0000000000000,\n",
       "  0,\n",
       "  7680.00000000000,\n",
       "  0,\n",
       "  -1290240.00000000,\n",
       "  0],\n",
       " [0,\n",
       "  96.0000000000000,\n",
       "  0,\n",
       "  -7680.00000000000,\n",
       "  0,\n",
       "  1290240.00000000,\n",
       "  0,\n",
       "  -371589120.000000],\n",
       " [-96.0000000000000,\n",
       "  0,\n",
       "  7680.00000000000,\n",
       "  0,\n",
       "  -1290240.00000000,\n",
       "  0,\n",
       "  371589120.000000,\n",
       "  0]]"
      ]
     },
     "execution_count": 33,
     "metadata": {},
     "output_type": "execute_result"
    }
   ],
   "source": [
    "initial_grid_subs"
   ]
  },
  {
   "cell_type": "markdown",
   "metadata": {},
   "source": [
    "## Helmholtz"
   ]
  },
  {
   "cell_type": "code",
   "execution_count": null,
   "metadata": {},
   "outputs": [
    {
     "data": {
      "text/plain": [
       "[[0.25*I*hankel1(0, 1.0*sqrt(x1**2)),\n",
       "  0,\n",
       "  0.25*I*(0.5*hankel1(-1, 1.0*sqrt(x1**2)) - 0.5*hankel1(1, 1.0*sqrt(x1**2)))/sqrt(x1**2),\n",
       "  0],\n",
       " [0,\n",
       "  -0.25*I*(hankel1(-1, 1.0*sqrt(x1**2))/2 - hankel1(1, 1.0*sqrt(x1**2))/2)/sqrt(x1**2),\n",
       "  0,\n",
       "  I*(-(0.75*(0.25*hankel1(-2, 1.0*sqrt(x1**2)) - 0.25*hankel1(0, 1.0*sqrt(x1**2)))/sqrt(x1**2) - 0.75*(0.25*hankel1(0, 1.0*sqrt(x1**2)) - 0.25*hankel1(2, 1.0*sqrt(x1**2)))/sqrt(x1**2))/sqrt(x1**2) + 0.375*(hankel1(-1, 1.0*sqrt(x1**2)) - hankel1(1, 1.0*sqrt(x1**2)))/(x1**2)**(3/2))],\n",
       " [0.25*I*(0.5*hankel1(-1, 1.0*sqrt(x1**2)) - 0.5*hankel1(1, 1.0*sqrt(x1**2)))/sqrt(x1**2),\n",
       "  0,\n",
       "  0.25*I*(((0.25*hankel1(-2, 1.0*sqrt(x1**2)) - 0.25*hankel1(0, 1.0*sqrt(x1**2)))/sqrt(x1**2) - (0.25*hankel1(0, 1.0*sqrt(x1**2)) - 0.25*hankel1(2, 1.0*sqrt(x1**2)))/sqrt(x1**2))/sqrt(x1**2) - (0.5*hankel1(-1, 1.0*sqrt(x1**2)) - 0.5*hankel1(1, 1.0*sqrt(x1**2)))/(x1**2)**(3/2) - (1.0*hankel1(-1, 1.0*sqrt(x1**2)) - 1.0*hankel1(1, 1.0*sqrt(x1**2)))/(x1**2)**(3/2) + (0.5*hankel1(-2, 1.0*sqrt(x1**2)) - 1.0*hankel1(0, 1.0*sqrt(x1**2)) + 0.5*hankel1(2, 1.0*sqrt(x1**2)))/x1**2),\n",
       "  0],\n",
       " [0,\n",
       "  0.25*I*(-(1.0*(0.25*hankel1(-2, 1.0*sqrt(x1**2)) - 0.25*hankel1(0, 1.0*sqrt(x1**2)))/sqrt(x1**2) - 1.0*(0.25*hankel1(0, 1.0*sqrt(x1**2)) - 0.25*hankel1(2, 1.0*sqrt(x1**2)))/sqrt(x1**2))/sqrt(x1**2) + (1.5*hankel1(-1, 1.0*sqrt(x1**2)) - 1.5*hankel1(1, 1.0*sqrt(x1**2)))/(x1**2)**(3/2) - (0.5*hankel1(-2, 1.0*sqrt(x1**2)) - 1.0*hankel1(0, 1.0*sqrt(x1**2)) + 0.5*hankel1(2, 1.0*sqrt(x1**2)))/x1**2),\n",
       "  0,\n",
       "  I*(0.75*((0.25*hankel1(-2, 1.0*sqrt(x1**2)) - 0.25*hankel1(0, 1.0*sqrt(x1**2)))/sqrt(x1**2) - (0.25*hankel1(0, 1.0*sqrt(x1**2)) - 0.25*hankel1(2, 1.0*sqrt(x1**2)))/sqrt(x1**2))/(x1**2)**(3/2) + 0.75*((0.75*hankel1(-2, 1.0*sqrt(x1**2)) - 0.75*hankel1(0, 1.0*sqrt(x1**2)))/sqrt(x1**2) - (0.75*hankel1(0, 1.0*sqrt(x1**2)) - 0.75*hankel1(2, 1.0*sqrt(x1**2)))/sqrt(x1**2))/(x1**2)**(3/2) - 0.75*(3.0*hankel1(-1, 1.0*sqrt(x1**2)) - 3.0*hankel1(1, 1.0*sqrt(x1**2)))/(x1**2)**(5/2) - 0.75*(4.5*hankel1(-1, 1.0*sqrt(x1**2)) - 4.5*hankel1(1, 1.0*sqrt(x1**2)))/(x1**2)**(5/2) - 0.75*(((0.125*hankel1(-3, 1.0*sqrt(x1**2)) - 0.125*hankel1(-1, 1.0*sqrt(x1**2)))/sqrt(x1**2) - (0.125*hankel1(-1, 1.0*sqrt(x1**2)) - 0.125*hankel1(1, 1.0*sqrt(x1**2)))/sqrt(x1**2))/sqrt(x1**2) - ((0.125*hankel1(-1, 1.0*sqrt(x1**2)) - 0.125*hankel1(1, 1.0*sqrt(x1**2)))/sqrt(x1**2) - (0.125*hankel1(1, 1.0*sqrt(x1**2)) - 0.125*hankel1(3, 1.0*sqrt(x1**2)))/sqrt(x1**2))/sqrt(x1**2) - (0.25*hankel1(-2, 1.0*sqrt(x1**2)) - 0.25*hankel1(0, 1.0*sqrt(x1**2)))/(x1**2)**(3/2) - (0.5*hankel1(-2, 1.0*sqrt(x1**2)) - 0.5*hankel1(0, 1.0*sqrt(x1**2)))/(x1**2)**(3/2) + (0.25*hankel1(0, 1.0*sqrt(x1**2)) - 0.25*hankel1(2, 1.0*sqrt(x1**2)))/(x1**2)**(3/2) + (0.5*hankel1(0, 1.0*sqrt(x1**2)) - 0.5*hankel1(2, 1.0*sqrt(x1**2)))/(x1**2)**(3/2) + (0.25*hankel1(-3, 1.0*sqrt(x1**2)) - 0.5*hankel1(-1, 1.0*sqrt(x1**2)) + 0.25*hankel1(1, 1.0*sqrt(x1**2)))/x1**2 - (0.25*hankel1(-1, 1.0*sqrt(x1**2)) - 0.5*hankel1(1, 1.0*sqrt(x1**2)) + 0.25*hankel1(3, 1.0*sqrt(x1**2)))/x1**2)/sqrt(x1**2) - 0.75*((0.25*hankel1(-3, 1.0*sqrt(x1**2)) - 0.25*hankel1(-1, 1.0*sqrt(x1**2)))/sqrt(x1**2) - (0.5*hankel1(-1, 1.0*sqrt(x1**2)) - 0.5*hankel1(1, 1.0*sqrt(x1**2)))/sqrt(x1**2) + (0.25*hankel1(1, 1.0*sqrt(x1**2)) - 0.25*hankel1(3, 1.0*sqrt(x1**2)))/sqrt(x1**2))/x1**2 + 1.5*(0.5*hankel1(-2, 1.0*sqrt(x1**2)) - 1.0*hankel1(0, 1.0*sqrt(x1**2)) + 0.5*hankel1(2, 1.0*sqrt(x1**2)))/x1**4 + 0.75*(1.0*hankel1(-2, 1.0*sqrt(x1**2)) - 2.0*hankel1(0, 1.0*sqrt(x1**2)) + 1.0*hankel1(2, 1.0*sqrt(x1**2)))/x1**4)]]"
      ]
     },
     "execution_count": 19,
     "metadata": {},
     "output_type": "execute_result"
    }
   ],
   "source": [
    "derivs_helm = compute_derivatives_h2d(5)\n",
    "width_helm_grid = 4\n",
    "length_helm_grid = 4\n",
    "true_grid_helm = [[sp.diff(derivs_helm[i], var[0], j).subs(var[0], 0) for j in range(width_helm_grid)] for i in range(length_helm_grid)]\n",
    "true_grid_helm"
   ]
  },
  {
   "cell_type": "code",
   "execution_count": null,
   "metadata": {},
   "outputs": [
    {
     "data": {
      "text/latex": [
       "$\\displaystyle \\frac{- i^{2} s{\\left(n - 4,i \\right)} - i^{2} s{\\left(n - 2,i \\right)} - 2 i n s{\\left(n - 4,i \\right)} - 2 i n s{\\left(n - 2,i \\right)} + 4 i s{\\left(n - 4,i \\right)} + 3 i s{\\left(n - 2,i \\right)} - n^{2} s{\\left(n - 4,i \\right)} - n^{2} s{\\left(n - 2,i \\right)} + 4 n s{\\left(n - 4,i \\right)} + 3 n s{\\left(n - 2,i \\right)} - 3 s{\\left(n - 4,i \\right)} - 2 s{\\left(n - 2,i \\right)}}{x_{1}^{2}}$"
      ],
      "text/plain": [
       "(-i**2*s(n - 4, i) - i**2*s(n - 2, i) - 2*i*n*s(n - 4, i) - 2*i*n*s(n - 2, i) + 4*i*s(n - 4, i) + 3*i*s(n - 2, i) - n**2*s(n - 4, i) - n**2*s(n - 2, i) + 4*n*s(n - 4, i) + 3*n*s(n - 2, i) - 3*s(n - 4, i) - 2*s(n - 2, i))/x1**2"
      ]
     },
     "execution_count": 20,
     "metadata": {},
     "output_type": "execute_result"
    }
   ],
   "source": [
    "get_taylor_recurrence(helmholtz2d)"
   ]
  },
  {
   "cell_type": "code",
   "execution_count": null,
   "metadata": {},
   "outputs": [
    {
     "data": {
      "text/latex": [
       "$\\displaystyle \\frac{- 3 s{\\left(0,0 \\right)} - 6 s{\\left(2,0 \\right)}}{x_{1}^{2}}$"
      ],
      "text/plain": [
       "(-3*s(0, 0) - 6*s(2, 0))/x1**2"
      ]
     },
     "execution_count": 21,
     "metadata": {},
     "output_type": "execute_result"
    }
   ],
   "source": [
    "get_taylor_recurrence(helmholtz2d).subs(n, 4).subs(i, 0)"
   ]
  },
  {
   "cell_type": "code",
   "execution_count": null,
   "metadata": {},
   "outputs": [
    {
     "data": {
      "text/latex": [
       "$\\displaystyle 38.8984483730777 + 0.0925062333610791 i$"
      ],
      "text/plain": [
       "38.8984483730777 + 0.0925062333610791*I"
      ]
     },
     "execution_count": 22,
     "metadata": {},
     "output_type": "execute_result"
    }
   ],
   "source": [
    "get_taylor_recurrence(helmholtz2d).subs(n, 4).subs(i, 0).subs(s(0,0), true_grid_helm[0][0]).subs(s(2,0), true_grid_helm[2][0]).subs(var[1], 0.4).evalf()"
   ]
  },
  {
   "cell_type": "code",
   "execution_count": null,
   "metadata": {},
   "outputs": [
    {
     "data": {
      "text/latex": [
       "$\\displaystyle 38.8984483730777 + 0.0925062333610797 i$"
      ],
      "text/plain": [
       "38.8984483730777 + 0.0925062333610797*I"
      ]
     },
     "execution_count": 23,
     "metadata": {},
     "output_type": "execute_result"
    }
   ],
   "source": [
    "sp.diff(derivs_helm[4], var[0], 0).subs(var[0], 0).subs(var[1], 0.4).evalf()"
   ]
  },
  {
   "cell_type": "code",
   "execution_count": null,
   "metadata": {},
   "outputs": [],
   "source": []
  }
 ],
 "metadata": {
  "kernelspec": {
   "display_name": "inteq",
   "language": "python",
   "name": "python3"
  },
  "language_info": {
   "codemirror_mode": {
    "name": "ipython",
    "version": 3
   },
   "file_extension": ".py",
   "mimetype": "text/x-python",
   "name": "python",
   "nbconvert_exporter": "python",
   "pygments_lexer": "ipython3",
   "version": "3.11.9"
  }
 },
 "nbformat": 4,
 "nbformat_minor": 2
}
