{
 "cells": [
  {
   "cell_type": "markdown",
   "metadata": {},
   "source": [
    "# Generalizing a Taylor Recurrence"
   ]
  },
  {
   "cell_type": "code",
   "execution_count": 1,
   "metadata": {},
   "outputs": [],
   "source": [
    "from sumpy.recurrence import _make_sympy_vec, get_processed_and_shifted_recurrence\n",
    "\n",
    "from sumpy.expansion.diff_op import (\n",
    "    laplacian,\n",
    "    make_identity_diff_op,\n",
    ")\n",
    "\n",
    "from sumpy.recurrence import get_recurrence, recurrence_from_pde, shift_recurrence, get_shifted_recurrence_exp_from_pde, _extract_idx_terms_from_recurrence\n",
    "\n",
    "import sympy as sp\n",
    "from sympy import hankel1\n",
    "\n",
    "import numpy as np\n",
    "\n",
    "import math\n",
    "\n",
    "import matplotlib.pyplot as plt\n",
    "from matplotlib import cm, ticker"
   ]
  },
  {
   "cell_type": "code",
   "execution_count": 2,
   "metadata": {},
   "outputs": [],
   "source": [
    "var = _make_sympy_vec(\"x\", 2)\n",
    "s = sp.Function(\"s\")\n",
    "n = sp.symbols(\"n\")\n",
    "i = sp.symbols(\"i\")"
   ]
  },
  {
   "cell_type": "code",
   "execution_count": 3,
   "metadata": {},
   "outputs": [],
   "source": [
    "w = make_identity_diff_op(2)\n",
    "laplace2d = laplacian(w)\n",
    "\n",
    "w = make_identity_diff_op(2)\n",
    "helmholtz2d = laplacian(w) + w"
   ]
  },
  {
   "cell_type": "code",
   "execution_count": 4,
   "metadata": {},
   "outputs": [],
   "source": [
    "def compute_derivatives(p):\n",
    "    var = _make_sympy_vec(\"x\", 2)\n",
    "    var_t = _make_sympy_vec(\"t\", 2)\n",
    "    g_x_y = sp.log(sp.sqrt((var[0]-var_t[0])**2 + (var[1]-var_t[1])**2))\n",
    "    derivs = [sp.diff(g_x_y,\n",
    "                        var_t[0], i).subs(var_t[0], 0).subs(var_t[1], 0)\n",
    "                        for i in range(p)]\n",
    "    return derivs"
   ]
  },
  {
   "cell_type": "code",
   "execution_count": 5,
   "metadata": {},
   "outputs": [],
   "source": [
    "def compute_derivatives_h2d(p, k=1.0):\n",
    "    var = _make_sympy_vec(\"x\", 2)\n",
    "    var_t = _make_sympy_vec(\"t\", 2)\n",
    "    abs_dist = sp.sqrt((var[0]-var_t[0])**2 +\n",
    "                        (var[1]-var_t[1])**2)\n",
    "    g_x_y = (1j/4) * hankel1(0, k * abs_dist)\n",
    "    derivs_helmholtz = [sp.diff(g_x_y,\n",
    "                        var_t[0], i).subs(var_t[0], 0).subs(var_t[1], 0)\n",
    "                                                for i in range(p)]\n",
    "    return derivs_helmholtz"
   ]
  },
  {
   "cell_type": "markdown",
   "metadata": {},
   "source": [
    "# Step 1: Get recurrence as expression that evaluates to 0 and sanity check it"
   ]
  },
  {
   "cell_type": "code",
   "execution_count": 6,
   "metadata": {},
   "outputs": [
    {
     "data": {
      "text/plain": [
       "4"
      ]
     },
     "execution_count": 6,
     "metadata": {},
     "output_type": "execute_result"
    }
   ],
   "source": [
    "recur_lap, order_lap = get_shifted_recurrence_exp_from_pde(laplace2d)\n",
    "order_lap"
   ]
  },
  {
   "cell_type": "code",
   "execution_count": 7,
   "metadata": {},
   "outputs": [
    {
     "data": {
      "text/latex": [
       "$\\displaystyle -2.22044604925031 \\cdot 10^{-16}$"
      ],
      "text/plain": [
       "-2.22044604925031e-16"
      ]
     },
     "execution_count": 7,
     "metadata": {},
     "output_type": "execute_result"
    }
   ],
   "source": [
    "#Sanity check that recurrence is correct\n",
    "derivs_lap = compute_derivatives(15)\n",
    "exp = recur_lap.subs(n, 4)\n",
    "exp.subs(s(4), derivs_lap[4]).subs(s(3), derivs_lap[3]).subs(s(2), derivs_lap[2]).subs(s(1), derivs_lap[1]).subs(var[0],np.random.rand()).subs(var[1],np.random.rand())"
   ]
  },
  {
   "cell_type": "markdown",
   "metadata": {},
   "source": [
    "## Step 2: After performing a Taylor expansion of the $s(n), s(n-1), \\dots$ in the 1D recurrence we need to create a 2D grid of coefficients \n",
    "$$\n",
    "grid[i, j]\n",
    "$$\n",
    "Where $i = 0$ represents the coefficient attached to $s(n)$ and $i = 1$ represents $s(n-1)$, etc. and the $j$ is for the polynomial in $x_0$."
   ]
  },
  {
   "cell_type": "code",
   "execution_count": 8,
   "metadata": {},
   "outputs": [],
   "source": [
    "def get_grid(recur, order):\n",
    "    poly_in_s_n = sp.poly(recur, [s(n-i) for i in range(order)])\n",
    "    coeff_s_n = [poly_in_s_n.coeff_monomial(poly_in_s_n.gens[i]) for i in range(order)]\n",
    "\n",
    "    table = []\n",
    "    for i in range(len(coeff_s_n)):\n",
    "        table.append(sp.poly(coeff_s_n[i], var[0]).all_coeffs()[::-1])\n",
    "\n",
    "    return table"
   ]
  },
  {
   "cell_type": "code",
   "execution_count": 9,
   "metadata": {},
   "outputs": [
    {
     "data": {
      "text/plain": [
       "[[0, (-1)**n*x1**2, 0, (-1)**n],\n",
       " [-(-1)**n*n*x1**2 + 3*(-1)**n*x1**2, 0, -3*(-1)**n*n + 5*(-1)**n],\n",
       " [0, 3*(-1)**n*n**2 - 13*(-1)**n*n + 14*(-1)**n],\n",
       " [-(-1)**n*n**3 + 8*(-1)**n*n**2 - 21*(-1)**n*n + 18*(-1)**n]]"
      ]
     },
     "execution_count": 9,
     "metadata": {},
     "output_type": "execute_result"
    }
   ],
   "source": [
    "grid = get_grid(recur_lap, order_lap)\n",
    "grid"
   ]
  },
  {
   "cell_type": "markdown",
   "metadata": {},
   "source": [
    "# Step 3: Grid of Coefficient to Grid Recurrence\n",
    "$$\n",
    "f(x_1) x_0^k s(n-j) \\to f(x_1) x_0^k \\sum_{i=0}^{\\infty} s_{n-j,i} \\frac{x_0^i}{i!} = f(x_1) \\sum_{i=k}^{\\infty} s_{n-j,i-k} \\frac{x_0^i}{(i-k)!} \n",
    "$$"
   ]
  },
  {
   "cell_type": "code",
   "execution_count": 10,
   "metadata": {},
   "outputs": [
    {
     "data": {
      "text/latex": [
       "$\\displaystyle \\frac{\\left(-1\\right)^{n} x_{1}^{2} s{\\left(n,i - 1 \\right)}}{\\left(i - 1\\right)!} + \\frac{\\left(-1\\right)^{n} s{\\left(n,i - 3 \\right)}}{\\left(i - 3\\right)!} + \\frac{\\left(- 3 \\left(-1\\right)^{n} n + 5 \\left(-1\\right)^{n}\\right) s{\\left(n - 1,i - 2 \\right)}}{\\left(i - 2\\right)!} + \\frac{\\left(- \\left(-1\\right)^{n} n x_{1}^{2} + 3 \\left(-1\\right)^{n} x_{1}^{2}\\right) s{\\left(n - 1,i \\right)}}{i!} + \\frac{\\left(3 \\left(-1\\right)^{n} n^{2} - 13 \\left(-1\\right)^{n} n + 14 \\left(-1\\right)^{n}\\right) s{\\left(n - 2,i - 1 \\right)}}{\\left(i - 1\\right)!} + \\frac{\\left(- \\left(-1\\right)^{n} n^{3} + 8 \\left(-1\\right)^{n} n^{2} - 21 \\left(-1\\right)^{n} n + 18 \\left(-1\\right)^{n}\\right) s{\\left(n - 3,i \\right)}}{i!}$"
      ],
      "text/plain": [
       "(-1)**n*x1**2*s(n, i - 1)/factorial(i - 1) + (-1)**n*s(n, i - 3)/factorial(i - 3) + (-3*(-1)**n*n + 5*(-1)**n)*s(n - 1, i - 2)/factorial(i - 2) + (-(-1)**n*n*x1**2 + 3*(-1)**n*x1**2)*s(n - 1, i)/factorial(i) + (3*(-1)**n*n**2 - 13*(-1)**n*n + 14*(-1)**n)*s(n - 2, i - 1)/factorial(i - 1) + (-(-1)**n*n**3 + 8*(-1)**n*n**2 - 21*(-1)**n*n + 18*(-1)**n)*s(n - 3, i)/factorial(i)"
      ]
     },
     "execution_count": 10,
     "metadata": {},
     "output_type": "execute_result"
    }
   ],
   "source": [
    "def convert(grid):\n",
    "    recur_exp = 0\n",
    "    i = sp.symbols(\"i\")\n",
    "    s_terms = []\n",
    "    for j in range(len(grid)):\n",
    "        for k in range(len(grid[j])):\n",
    "            recur_exp += grid[j][k] * s(n-j,i-k)/sp.factorial(i-k)\n",
    "            if grid[j][k] != 0:\n",
    "                s_terms.append((j,k))\n",
    "    return recur_exp, s_terms\n",
    "grid_recur, s_terms = convert(grid)\n",
    "s_terms\n",
    "grid_recur"
   ]
  },
  {
   "cell_type": "markdown",
   "metadata": {},
   "source": [
    "# Step 4: Translate grid recurrence to column recurrence\n",
    "We can use the fact\n",
    "$$\n",
    "s_{n, i} = s_{n-j, i+j} (-1)^j\n",
    "$$\n",
    "to perform the following translation:\n",
    "$$\n",
    "s_{x, i-l} \\to s_{x+l, i} (-1)^l\n",
    "$$"
   ]
  },
  {
   "cell_type": "code",
   "execution_count": 11,
   "metadata": {},
   "outputs": [],
   "source": [
    "def grid_recur_to_column_recur(grid_recur, s_terms):\n",
    "    grid_recur_simp = grid_recur\n",
    "    bag = set()\n",
    "    for s_t in s_terms:\n",
    "        bag.add(-((0-s_t[0])-s_t[1]))\n",
    "        grid_recur_simp = grid_recur_simp.subs(s(n-s_t[0],i-s_t[1]), (-1)**(s_t[1])*s((n-s_t[0])-s_t[1],(i-s_t[1])+s_t[1]))\n",
    "    shift = min(bag)\n",
    "    return sp.solve(sp.simplify(grid_recur_simp * sp.factorial(i)).subs(n, n+shift), s(n,i))[0]"
   ]
  },
  {
   "cell_type": "code",
   "execution_count": 12,
   "metadata": {},
   "outputs": [
    {
     "data": {
      "text/latex": [
       "$\\displaystyle \\frac{\\left(- i^{2} - 2 i n + 3 i - n^{2} + 3 n - 2\\right) s{\\left(n - 2,i \\right)}}{x_{1}^{2}}$"
      ],
      "text/plain": [
       "(-i**2 - 2*i*n + 3*i - n**2 + 3*n - 2)*s(n - 2, i)/x1**2"
      ]
     },
     "execution_count": 12,
     "metadata": {},
     "output_type": "execute_result"
    }
   ],
   "source": [
    "column_recur = grid_recur_to_column_recur(grid_recur, s_terms)\n",
    "column_recur"
   ]
  },
  {
   "cell_type": "markdown",
   "metadata": {},
   "source": [
    "# Part 5: Package into Big Function:"
   ]
  },
  {
   "cell_type": "code",
   "execution_count": 13,
   "metadata": {},
   "outputs": [],
   "source": [
    "def get_taylor_recurrence(pde):\n",
    "    recur, order = get_shifted_recurrence_exp_from_pde(pde)\n",
    "    grid = get_grid(recur, order)\n",
    "    grid_recur, s_terms = convert(grid)\n",
    "    column_recur = grid_recur_to_column_recur(grid_recur, s_terms)\n",
    "    return column_recur"
   ]
  },
  {
   "cell_type": "code",
   "execution_count": 14,
   "metadata": {},
   "outputs": [
    {
     "data": {
      "text/latex": [
       "$\\displaystyle \\frac{\\left(- i^{2} - 2 i n + 3 i - n^{2} + 3 n - 2\\right) s{\\left(n - 2,i \\right)}}{x_{1}^{2}}$"
      ],
      "text/plain": [
       "(-i**2 - 2*i*n + 3*i - n**2 + 3*n - 2)*s(n - 2, i)/x1**2"
      ]
     },
     "execution_count": 14,
     "metadata": {},
     "output_type": "execute_result"
    }
   ],
   "source": [
    "get_taylor_recurrence(laplace2d)"
   ]
  },
  {
   "cell_type": "code",
   "execution_count": 15,
   "metadata": {},
   "outputs": [
    {
     "data": {
      "text/latex": [
       "$\\displaystyle \\frac{- 8 s{\\left(-1,2 \\right)} - 12 s{\\left(1,2 \\right)}}{x_{1}^{2}}$"
      ],
      "text/plain": [
       "(-8*s(-1, 2) - 12*s(1, 2))/x1**2"
      ]
     },
     "execution_count": 15,
     "metadata": {},
     "output_type": "execute_result"
    }
   ],
   "source": [
    "get_taylor_recurrence(helmholtz2d).subs(i, 2).subs(n, 3)"
   ]
  },
  {
   "cell_type": "markdown",
   "metadata": {},
   "source": [
    "# Part 6: Check Edge Cases for Grid Recurrence"
   ]
  },
  {
   "cell_type": "markdown",
   "metadata": {},
   "source": [
    "## Laplace"
   ]
  },
  {
   "cell_type": "code",
   "execution_count": 16,
   "metadata": {},
   "outputs": [
    {
     "data": {
      "text/plain": [
       "[[log(sqrt(x1**2)), 0, x1**(-2), 0, -6/x1**4, 0, 120/x1**6, 0],\n",
       " [0, -1/x1**2, 0, 6/x1**4, 0, -120/x1**6, 0, 5040/x1**8],\n",
       " [x1**(-2), 0, -6/x1**4, 0, 120/x1**6, 0, -5040/x1**8, 0],\n",
       " [0, 6/x1**4, 0, -120/x1**6, 0, 5040/x1**8, 0, -362880/x1**10],\n",
       " [-6/x1**4, 0, 120/x1**6, 0, -5040/x1**8, 0, 362880/x1**10, 0],\n",
       " [0, -120/x1**6, 0, 5040/x1**8, 0, -362880/x1**10, 0, 39916800/x1**12],\n",
       " [120/x1**6, 0, -5040/x1**8, 0, 362880/x1**10, 0, -39916800/x1**12, 0],\n",
       " [0, 5040/x1**8, 0, -362880/x1**10, 0, 39916800/x1**12, 0, -6227020800/x1**14]]"
      ]
     },
     "execution_count": 16,
     "metadata": {},
     "output_type": "execute_result"
    }
   ],
   "source": [
    "width_lap_grid = 8\n",
    "length_lap_grid = 8\n",
    "true_grid_lap = [[sp.diff(derivs_lap[i], var[0], j).subs(var[0], 0) for j in range(width_lap_grid)] for i in range(length_lap_grid)]\n",
    "true_grid_lap"
   ]
  },
  {
   "cell_type": "code",
   "execution_count": 17,
   "metadata": {},
   "outputs": [],
   "source": [
    "def create_subs_grid(width, length, derivs, coord_dict):\n",
    "    initial_grid = [[sp.diff(derivs[i], var[0], j).subs(var[0], 0) for j in range(width)] for i in range(length)]\n",
    "\n",
    "    # assume len(initial_grid) >= 1\n",
    "    initial_grid_subs = []\n",
    "    initial_grid_width = len(initial_grid[0])\n",
    "    initial_grid_length = len(initial_grid)\n",
    "\n",
    "    for i_x in range(initial_grid_length):\n",
    "        tmp = []\n",
    "        for j_x in range(initial_grid_width):\n",
    "            tmp.append((initial_grid[i_x][j_x].subs(var[1],coord_dict[var[1]])).evalf())\n",
    "        initial_grid_subs.append(tmp)\n",
    "    \n",
    "    return initial_grid_subs\n"
   ]
  },
  {
   "cell_type": "code",
   "execution_count": 18,
   "metadata": {},
   "outputs": [
    {
     "data": {
      "text/plain": [
       "[[0.182321556793955, 0, 0.694444444444445, 0, -2.89351851851852, 0],\n",
       " [0, -0.694444444444445, 0, 2.89351851851852, 0, -40.1877572016461]]"
      ]
     },
     "execution_count": 18,
     "metadata": {},
     "output_type": "execute_result"
    }
   ],
   "source": [
    "coord_dict = {var[0]: 1e-1, var[1]: 1.2}\n",
    "initial_grid_subs_laplace = create_subs_grid(6, 2, derivs_lap, coord_dict)\n",
    "initial_grid_subs_laplace"
   ]
  },
  {
   "cell_type": "markdown",
   "metadata": {},
   "source": [
    "### Package into Function"
   ]
  },
  {
   "cell_type": "code",
   "execution_count": 19,
   "metadata": {},
   "outputs": [],
   "source": [
    "def extend_grid(initial_grid_in, grid_recur, coord_dict, n_derivs_compute, order_grid_recur):\n",
    "    initial_grid_subs = [row[:] for row in initial_grid_in] #deep copy\n",
    "\n",
    "    initial_grid_width = len(initial_grid_subs[0])\n",
    "    initial_grid_length = len(initial_grid_subs)\n",
    "\n",
    "    for n_x in range(initial_grid_length, n_derivs_compute):\n",
    "        appMe = []\n",
    "        for i_x in range(initial_grid_width):\n",
    "            exp_i_n = grid_recur.subs(n, n_x).subs(i, i_x)\n",
    "            if exp_i_n == 0:\n",
    "                exp_i_n = sp.diff(derivs_lap[n_x], var[0], i_x).subs(var[0], 0)\n",
    "            assert n_x-order_grid_recur >= 0\n",
    "            kys = [s(n_x-k,i_x) for k in range(1,order_grid_recur+1)]\n",
    "            vals = [initial_grid_subs[n_x-k][i_x] for k in range(1, order_grid_recur+1)]\n",
    "            my_dict = dict(zip(kys, vals))\n",
    "            res = exp_i_n.subs(my_dict).subs(coord_dict)\n",
    "            appMe.append(res)\n",
    "\n",
    "        initial_grid_subs.append(appMe)\n",
    "\n",
    "    return initial_grid_subs\n"
   ]
  },
  {
   "cell_type": "code",
   "execution_count": 20,
   "metadata": {},
   "outputs": [
    {
     "data": {
      "text/plain": [
       "[[0.182321556793955, 0, 0.694444444444445, 0, -2.89351851851852, 0],\n",
       " [0, -0.694444444444445, 0, 2.89351851851852, 0, -40.1877572016461],\n",
       " [0.694444444444445, 0, -2.89351851851852, 0, 40.1877572016461, 0],\n",
       " [0, 2.89351851851852, 0, -40.1877572016461, 0, 1172.14291838134],\n",
       " [-2.89351851851852, 0, 40.1877572016461, 0, -1172.14291838134, 0],\n",
       " [0, -40.1877572016461, 0, 1172.14291838134, 0, -58607.1459190672],\n",
       " [40.1877572016461, 0, -1172.14291838134, 0, 58607.1459190672, 0],\n",
       " [0, 1172.14291838134, 0, -58607.1459190672, 0, 4476934.75770653]]"
      ]
     },
     "execution_count": 20,
     "metadata": {},
     "output_type": "execute_result"
    }
   ],
   "source": [
    "extend_grid(initial_grid_subs_laplace, get_taylor_recurrence(laplace2d), coord_dict, 8, 2)"
   ]
  },
  {
   "cell_type": "markdown",
   "metadata": {},
   "source": [
    "## Helmholtz"
   ]
  },
  {
   "cell_type": "code",
   "execution_count": 21,
   "metadata": {},
   "outputs": [
    {
     "data": {
      "text/plain": [
       "[[0.25*I*hankel1(0, 1.0*sqrt(x1**2)),\n",
       "  0,\n",
       "  0.25*I*(0.5*hankel1(-1, 1.0*sqrt(x1**2)) - 0.5*hankel1(1, 1.0*sqrt(x1**2)))/sqrt(x1**2),\n",
       "  0],\n",
       " [0,\n",
       "  -0.25*I*(hankel1(-1, 1.0*sqrt(x1**2))/2 - hankel1(1, 1.0*sqrt(x1**2))/2)/sqrt(x1**2),\n",
       "  0,\n",
       "  I*(-(0.75*(0.25*hankel1(-2, 1.0*sqrt(x1**2)) - 0.25*hankel1(0, 1.0*sqrt(x1**2)))/sqrt(x1**2) - 0.75*(0.25*hankel1(0, 1.0*sqrt(x1**2)) - 0.25*hankel1(2, 1.0*sqrt(x1**2)))/sqrt(x1**2))/sqrt(x1**2) + 0.375*(hankel1(-1, 1.0*sqrt(x1**2)) - hankel1(1, 1.0*sqrt(x1**2)))/(x1**2)**(3/2))],\n",
       " [0.25*I*(0.5*hankel1(-1, 1.0*sqrt(x1**2)) - 0.5*hankel1(1, 1.0*sqrt(x1**2)))/sqrt(x1**2),\n",
       "  0,\n",
       "  0.25*I*(((0.25*hankel1(-2, 1.0*sqrt(x1**2)) - 0.25*hankel1(0, 1.0*sqrt(x1**2)))/sqrt(x1**2) - (0.25*hankel1(0, 1.0*sqrt(x1**2)) - 0.25*hankel1(2, 1.0*sqrt(x1**2)))/sqrt(x1**2))/sqrt(x1**2) - (0.5*hankel1(-1, 1.0*sqrt(x1**2)) - 0.5*hankel1(1, 1.0*sqrt(x1**2)))/(x1**2)**(3/2) - (1.0*hankel1(-1, 1.0*sqrt(x1**2)) - 1.0*hankel1(1, 1.0*sqrt(x1**2)))/(x1**2)**(3/2) + (0.5*hankel1(-2, 1.0*sqrt(x1**2)) - 1.0*hankel1(0, 1.0*sqrt(x1**2)) + 0.5*hankel1(2, 1.0*sqrt(x1**2)))/x1**2),\n",
       "  0],\n",
       " [0,\n",
       "  0.25*I*(-(1.0*(0.25*hankel1(-2, 1.0*sqrt(x1**2)) - 0.25*hankel1(0, 1.0*sqrt(x1**2)))/sqrt(x1**2) - 1.0*(0.25*hankel1(0, 1.0*sqrt(x1**2)) - 0.25*hankel1(2, 1.0*sqrt(x1**2)))/sqrt(x1**2))/sqrt(x1**2) + (1.5*hankel1(-1, 1.0*sqrt(x1**2)) - 1.5*hankel1(1, 1.0*sqrt(x1**2)))/(x1**2)**(3/2) - (0.5*hankel1(-2, 1.0*sqrt(x1**2)) - 1.0*hankel1(0, 1.0*sqrt(x1**2)) + 0.5*hankel1(2, 1.0*sqrt(x1**2)))/x1**2),\n",
       "  0,\n",
       "  I*(0.75*((0.25*hankel1(-2, 1.0*sqrt(x1**2)) - 0.25*hankel1(0, 1.0*sqrt(x1**2)))/sqrt(x1**2) - (0.25*hankel1(0, 1.0*sqrt(x1**2)) - 0.25*hankel1(2, 1.0*sqrt(x1**2)))/sqrt(x1**2))/(x1**2)**(3/2) + 0.75*((0.75*hankel1(-2, 1.0*sqrt(x1**2)) - 0.75*hankel1(0, 1.0*sqrt(x1**2)))/sqrt(x1**2) - (0.75*hankel1(0, 1.0*sqrt(x1**2)) - 0.75*hankel1(2, 1.0*sqrt(x1**2)))/sqrt(x1**2))/(x1**2)**(3/2) - 0.75*(3.0*hankel1(-1, 1.0*sqrt(x1**2)) - 3.0*hankel1(1, 1.0*sqrt(x1**2)))/(x1**2)**(5/2) - 0.75*(4.5*hankel1(-1, 1.0*sqrt(x1**2)) - 4.5*hankel1(1, 1.0*sqrt(x1**2)))/(x1**2)**(5/2) - 0.75*(((0.125*hankel1(-3, 1.0*sqrt(x1**2)) - 0.125*hankel1(-1, 1.0*sqrt(x1**2)))/sqrt(x1**2) - (0.125*hankel1(-1, 1.0*sqrt(x1**2)) - 0.125*hankel1(1, 1.0*sqrt(x1**2)))/sqrt(x1**2))/sqrt(x1**2) - ((0.125*hankel1(-1, 1.0*sqrt(x1**2)) - 0.125*hankel1(1, 1.0*sqrt(x1**2)))/sqrt(x1**2) - (0.125*hankel1(1, 1.0*sqrt(x1**2)) - 0.125*hankel1(3, 1.0*sqrt(x1**2)))/sqrt(x1**2))/sqrt(x1**2) - (0.25*hankel1(-2, 1.0*sqrt(x1**2)) - 0.25*hankel1(0, 1.0*sqrt(x1**2)))/(x1**2)**(3/2) - (0.5*hankel1(-2, 1.0*sqrt(x1**2)) - 0.5*hankel1(0, 1.0*sqrt(x1**2)))/(x1**2)**(3/2) + (0.25*hankel1(0, 1.0*sqrt(x1**2)) - 0.25*hankel1(2, 1.0*sqrt(x1**2)))/(x1**2)**(3/2) + (0.5*hankel1(0, 1.0*sqrt(x1**2)) - 0.5*hankel1(2, 1.0*sqrt(x1**2)))/(x1**2)**(3/2) + (0.25*hankel1(-3, 1.0*sqrt(x1**2)) - 0.5*hankel1(-1, 1.0*sqrt(x1**2)) + 0.25*hankel1(1, 1.0*sqrt(x1**2)))/x1**2 - (0.25*hankel1(-1, 1.0*sqrt(x1**2)) - 0.5*hankel1(1, 1.0*sqrt(x1**2)) + 0.25*hankel1(3, 1.0*sqrt(x1**2)))/x1**2)/sqrt(x1**2) - 0.75*((0.25*hankel1(-3, 1.0*sqrt(x1**2)) - 0.25*hankel1(-1, 1.0*sqrt(x1**2)))/sqrt(x1**2) - (0.5*hankel1(-1, 1.0*sqrt(x1**2)) - 0.5*hankel1(1, 1.0*sqrt(x1**2)))/sqrt(x1**2) + (0.25*hankel1(1, 1.0*sqrt(x1**2)) - 0.25*hankel1(3, 1.0*sqrt(x1**2)))/sqrt(x1**2))/x1**2 + 1.5*(0.5*hankel1(-2, 1.0*sqrt(x1**2)) - 1.0*hankel1(0, 1.0*sqrt(x1**2)) + 0.5*hankel1(2, 1.0*sqrt(x1**2)))/x1**4 + 0.75*(1.0*hankel1(-2, 1.0*sqrt(x1**2)) - 2.0*hankel1(0, 1.0*sqrt(x1**2)) + 1.0*hankel1(2, 1.0*sqrt(x1**2)))/x1**4)]]"
      ]
     },
     "execution_count": 21,
     "metadata": {},
     "output_type": "execute_result"
    }
   ],
   "source": [
    "derivs_helm = compute_derivatives_h2d(5)\n",
    "width_helm_grid = 4\n",
    "length_helm_grid = 4\n",
    "true_grid_helm = [[sp.diff(derivs_helm[i], var[0], j).subs(var[0], 0) for j in range(width_helm_grid)] for i in range(length_helm_grid)]\n",
    "true_grid_helm"
   ]
  },
  {
   "cell_type": "code",
   "execution_count": 22,
   "metadata": {},
   "outputs": [
    {
     "data": {
      "text/plain": [
       "[[-0.0220642410539192 + 0.191299421639492*I,\n",
       "  0,\n",
       "  -0.195303205325072 - 0.110012646436233*I,\n",
       "  0],\n",
       " [0,\n",
       "  0.195303205325072 + 0.110012646436233*I,\n",
       "  0,\n",
       "  -1.23801195511219 - 0.0861776136989254*I],\n",
       " [-0.195303205325072 - 0.110012646436233*I,\n",
       "  0,\n",
       "  1.23801195511219 + 0.0861776136989254*I,\n",
       "  0],\n",
       " [0,\n",
       "  -1.23801195511219 - 0.0861776136989254*I,\n",
       "  0,\n",
       "  21.8306910223677 + 0.0733625774350065*I]]"
      ]
     },
     "execution_count": 22,
     "metadata": {},
     "output_type": "execute_result"
    }
   ],
   "source": [
    "coord_dict = {var[1]: 1}\n",
    "initial_grid_subs_helmholtz = create_subs_grid(4, 4, derivs_helm, coord_dict)\n",
    "initial_grid_subs_helmholtz"
   ]
  },
  {
   "cell_type": "code",
   "execution_count": 23,
   "metadata": {},
   "outputs": [],
   "source": [
    "extended_grid_helmholtz = extend_grid(initial_grid_subs_helmholtz, get_taylor_recurrence(helmholtz2d), coord_dict, 8, 4)"
   ]
  },
  {
   "cell_type": "code",
   "execution_count": 24,
   "metadata": {},
   "outputs": [],
   "source": [
    "inp_grid = np.array(extended_grid_helmholtz, dtype=complex)"
   ]
  },
  {
   "cell_type": "code",
   "execution_count": 25,
   "metadata": {},
   "outputs": [],
   "source": [
    "r, c = inp_grid.shape"
   ]
  },
  {
   "cell_type": "code",
   "execution_count": 26,
   "metadata": {},
   "outputs": [],
   "source": [
    "def compute_taylor_lp(inp_grid, coord_dict):\n",
    "    inp_grid = np.array(inp_grid)\n",
    "    _, c = inp_grid.shape\n",
    "    return np.sum(inp_grid * np.reshape(np.array([coord_dict[var[0]]**i/math.factorial(i) for i in range(c)]), (1, c)), axis = 1)"
   ]
  },
  {
   "cell_type": "markdown",
   "metadata": {},
   "source": [
    "# Step Final: Create an Interface that Ignores the Taylor Series Grid Structure"
   ]
  },
  {
   "cell_type": "code",
   "execution_count": 27,
   "metadata": {},
   "outputs": [],
   "source": [
    "def compute_lp_orders(pde, loc, num_of_derivs, derivs_list, recur_order, taylor_order):\n",
    "    var = _make_sympy_vec(\"x\", 2)\n",
    "    coord_dict_t = {var[0]: loc[0], var[1]: loc[1]}\n",
    "\n",
    "    initial_grid_subs = create_subs_grid(taylor_order, recur_order, derivs_list, coord_dict_t)\n",
    "\n",
    "    extended_grid = extend_grid(initial_grid_subs, get_taylor_recurrence(pde), coord_dict_t, num_of_derivs, recur_order)\n",
    "\n",
    "    return compute_taylor_lp(extended_grid, coord_dict_t)"
   ]
  },
  {
   "cell_type": "markdown",
   "metadata": {},
   "source": [
    "###  Test for Laplace 2D"
   ]
  },
  {
   "cell_type": "code",
   "execution_count": 28,
   "metadata": {},
   "outputs": [],
   "source": [
    "def evaluate_true(coord_dict, p, derivs_list):\n",
    "    retMe = []\n",
    "    for i in range(p):\n",
    "        exp = derivs_list[i]\n",
    "        f = sp.lambdify(var, exp)\n",
    "        retMe.append(f(coord_dict[var[0]], coord_dict[var[1]]))\n",
    "    return np.array(retMe)"
   ]
  },
  {
   "cell_type": "code",
   "execution_count": 38,
   "metadata": {},
   "outputs": [],
   "source": [
    "def compute_error_coord_tg(loc, pde, derivs_list, n_of_derivs, taylor_order, recur_order):\n",
    "    exp = compute_lp_orders(pde, loc, n_of_derivs+1, derivs_list, recur_order, taylor_order)\n",
    "    coord_dict_test = {var[0]: loc[0], var[1]: loc[1]}\n",
    "    true = evaluate_true(coord_dict_test, n_of_derivs+1, derivs_lap)\n",
    "\n",
    "    return (np.abs(exp[-1]-true[-1])/np.abs(true[-1])), np.abs(true[-1])"
   ]
  },
  {
   "cell_type": "code",
   "execution_count": 39,
   "metadata": {},
   "outputs": [
    {
     "data": {
      "text/plain": [
       "(0.00263326606293773, 1.1189464838020401e+36)"
      ]
     },
     "execution_count": 39,
     "metadata": {},
     "output_type": "execute_result"
    }
   ],
   "source": [
    "loc = np.array([1e-8, 1e-7])\n",
    "compute_error_coord_tg(loc, laplace2d, derivs_lap, 5, 4, 2)"
   ]
  },
  {
   "cell_type": "code",
   "execution_count": 40,
   "metadata": {},
   "outputs": [
    {
     "data": {
      "text/plain": [
       "(0.0466919192638915, 3.383586130424191e+59)"
      ]
     },
     "execution_count": 40,
     "metadata": {},
     "output_type": "execute_result"
    }
   ],
   "source": [
    "compute_error_coord_tg(loc, laplace2d, derivs_lap, 8, 4, 2)"
   ]
  },
  {
   "cell_type": "code",
   "execution_count": 41,
   "metadata": {},
   "outputs": [],
   "source": [
    "def generate_error_grid(res, order_plot, pde, derivs, taylor_order, recur_order):\n",
    "    x_grid = [10**(pw) for pw in np.linspace(-8, 0, res)]\n",
    "    y_grid = [10**(pw) for pw in np.linspace(-8, 0, res)]\n",
    "    res=len(x_grid)\n",
    "    plot_me = np.empty((res, res))\n",
    "    for i in range(res):\n",
    "        for j in range(res):\n",
    "            if abs(x_grid[i]) == abs(y_grid[j]):\n",
    "                plot_me[i, j] = 1e-16\n",
    "            else:\n",
    "                plot_me[i,j], _ = compute_error_coord_tg(np.array([x_grid[i],y_grid[j]]), pde, derivs, order_plot, taylor_order, recur_order)\n",
    "                if plot_me[i,j] == 0:\n",
    "                    plot_me[i, j] = 1e-16\n",
    "    return x_grid, y_grid, plot_me"
   ]
  },
  {
   "cell_type": "code",
   "execution_count": 43,
   "metadata": {},
   "outputs": [],
   "source": [
    "def generate_grid_abs(res, order_plot, pde, derivs, taylor_order, recur_order):\n",
    "    x_grid = [10**(pw) for pw in np.linspace(-8, 0, res)]\n",
    "    y_grid = [10**(pw) for pw in np.linspace(-8, 0, res)]\n",
    "    res=len(x_grid)\n",
    "    plot_me = np.empty((res, res))\n",
    "    for i in range(res):\n",
    "        for j in range(res):\n",
    "            if abs(x_grid[i]) == abs(y_grid[j]):\n",
    "                plot_me[i, j] = 1e-16\n",
    "            else:\n",
    "                _, plot_me[i,j] = compute_error_coord_tg(np.array([x_grid[i],y_grid[j]]), pde, derivs, order_plot, taylor_order, recur_order)\n",
    "                if plot_me[i,j] == 0:\n",
    "                    plot_me[i, j] = 1e-16\n",
    "    return x_grid, y_grid, plot_me"
   ]
  },
  {
   "cell_type": "code",
   "execution_count": 33,
   "metadata": {},
   "outputs": [],
   "source": [
    "x_grid, y_grid, plot_me_lap1 = generate_error_grid(8, 5, laplace2d, derivs_lap, 8, 2)\n",
    "x_grid, y_grid, plot_me_lap2 = generate_error_grid(8, 12, laplace2d, derivs_lap, 8, 2)"
   ]
  },
  {
   "cell_type": "code",
   "execution_count": 34,
   "metadata": {},
   "outputs": [
    {
     "name": "stderr",
     "output_type": "stream",
     "text": [
      "/var/folders/8s/7hlc6ky15zzflj9wcf92cdxh0000gn/T/ipykernel_21336/3879067914.py:2: UserWarning: Log scale: values of z <= 0 have been masked\n",
      "  cs1 = ax1.contourf(x_grid, y_grid,plot_me_lap2.T < 1e-5, locator=ticker.LogLocator(), cmap=cm.PuBu_r)\n",
      "/var/folders/8s/7hlc6ky15zzflj9wcf92cdxh0000gn/T/ipykernel_21336/3879067914.py:4: UserWarning: Log scale: values of z <= 0 have been masked\n",
      "  cs2 = ax2.contourf(x_grid, y_grid, plot_me_lap1.T < 1e-5, locator=ticker.LogLocator(), cmap=cm.PuBu_r)\n"
     ]
    },
    {
     "data": {
      "image/png": "[encoded data removed]",
      "text/plain": [
       "<Figure size 1500x800 with 3 Axes>"
      ]
     },
     "metadata": {},
     "output_type": "display_data"
    }
   ],
   "source": [
    "fig, (ax1, ax2) = plt.subplots(1, 2, figsize=(15, 8))\n",
    "cs1 = ax1.contourf(x_grid, y_grid,plot_me_lap2.T < 1e-5, locator=ticker.LogLocator(), cmap=cm.PuBu_r)\n",
    "\n",
    "cs2 = ax2.contourf(x_grid, y_grid, plot_me_lap1.T < 1e-5, locator=ticker.LogLocator(), cmap=cm.PuBu_r)\n",
    "\n",
    "fig.subplots_adjust(right=0.8)\n",
    "cbar_ax = fig.add_axes([0.85, 0.15, 0.05, 0.7])\n",
    "#fig.colorbar(cs1, cax=cbar_ax)\n",
    "\n",
    "\n",
    "ax1.set_xscale('log')\n",
    "ax1.set_yscale('log')\n",
    "ax1.set_xlabel(\"source x-coord\")\n",
    "ax1.set_ylabel(\"source y-coord\")\n",
    "\n",
    "\n",
    "ax2.set_xscale('log')\n",
    "ax2.set_yscale('log')\n",
    "ax2.set_xlabel(\"source x-coord\")\n",
    "ax2.set_ylabel(\"source y-coord\")\n",
    "\n",
    "ax1.set_title('8-Term Taylor Series, Order 5, Laplace (blue=err<1e-5)')\n",
    "ax2.set_title('8-Term Taylor Series, Order 12, Laplace (blue=err<e-5)')\n",
    "\n",
    "plt.show()"
   ]
  },
  {
   "cell_type": "code",
   "execution_count": 45,
   "metadata": {},
   "outputs": [],
   "source": [
    "x_grid, y_grid, plot_me_lap1_abs = generate_grid_abs(8, 5, laplace2d, derivs_lap, 8, 2)\n",
    "x_grid, y_grid, plot_me_lap2_abs = generate_grid_abs(8, 12, laplace2d, derivs_lap, 8, 2)"
   ]
  },
  {
   "cell_type": "code",
   "execution_count": 46,
   "metadata": {},
   "outputs": [
    {
     "data": {
      "text/plain": [
       "Text(0.5, 1.0, '8-Term Taylor Series, Order 12, Laplace Abs Val')"
      ]
     },
     "execution_count": 46,
     "metadata": {},
     "output_type": "execute_result"
    },
    {
     "data": {
      "image/png": "[encoded data removed]",
      "text/plain": [
       "<Figure size 1500x800 with 3 Axes>"
      ]
     },
     "metadata": {},
     "output_type": "display_data"
    }
   ],
   "source": [
    "fig, (ax1, ax2) = plt.subplots(1, 2, figsize=(15, 8))\n",
    "cs1 = ax1.contourf(x_grid, y_grid, plot_me_lap2_abs.T, locator=ticker.LogLocator(), cmap=cm.PuBu_r)\n",
    "cs2 = ax2.contourf(x_grid, y_grid, plot_me_lap1_abs.T, locator=ticker.LogLocator(), cmap=cm.PuBu_r)\n",
    "\n",
    "fig.subplots_adjust(right=0.8)\n",
    "cbar_ax = fig.add_axes([0.85, 0.15, 0.05, 0.7])\n",
    "fig.colorbar(cs1, cax=cbar_ax)\n",
    "\n",
    "\n",
    "ax1.set_xscale('log')\n",
    "ax1.set_yscale('log')\n",
    "ax1.set_xlabel(\"source x-coord\")\n",
    "ax1.set_ylabel(\"source y-coord\")\n",
    "\n",
    "\n",
    "ax2.set_xscale('log')\n",
    "ax2.set_yscale('log')\n",
    "ax2.set_xlabel(\"source x-coord\")\n",
    "ax2.set_ylabel(\"source y-coord\")\n",
    "\n",
    "ax1.set_title('8-Term Taylor Series, Order 5, Laplace Abs Val')\n",
    "ax2.set_title('8-Term Taylor Series, Order 12, Laplace Abs Val')"
   ]
  },
  {
   "cell_type": "code",
   "execution_count": 47,
   "metadata": {},
   "outputs": [
    {
     "data": {
      "text/plain": [
       "Text(0.5, 1.0, '8-Term Taylor Series, Order 12, Laplace Rel. Err')"
      ]
     },
     "execution_count": 47,
     "metadata": {},
     "output_type": "execute_result"
    },
    {
     "data": {
      "image/png": "[encoded data removed]",
      "text/plain": [
       "<Figure size 1500x800 with 3 Axes>"
      ]
     },
     "metadata": {},
     "output_type": "display_data"
    }
   ],
   "source": [
    "fig, (ax1, ax2) = plt.subplots(1, 2, figsize=(15, 8))\n",
    "cs1 = ax1.contourf(x_grid, y_grid, plot_me_lap2.T, locator=ticker.LogLocator(), cmap=cm.PuBu_r)\n",
    "cs2 = ax2.contourf(x_grid, y_grid, plot_me_lap1.T, locator=ticker.LogLocator(), cmap=cm.PuBu_r)\n",
    "\n",
    "fig.subplots_adjust(right=0.8)\n",
    "cbar_ax = fig.add_axes([0.85, 0.15, 0.05, 0.7])\n",
    "fig.colorbar(cs1, cax=cbar_ax)\n",
    "\n",
    "\n",
    "ax1.set_xscale('log')\n",
    "ax1.set_yscale('log')\n",
    "ax1.set_xlabel(\"source x-coord\")\n",
    "ax1.set_ylabel(\"source y-coord\")\n",
    "\n",
    "\n",
    "ax2.set_xscale('log')\n",
    "ax2.set_yscale('log')\n",
    "ax2.set_xlabel(\"source x-coord\")\n",
    "ax2.set_ylabel(\"source y-coord\")\n",
    "\n",
    "ax1.set_title('8-Term Taylor Series, Order 5, Laplace Rel. Err')\n",
    "ax2.set_title('8-Term Taylor Series, Order 12, Laplace Rel. Err')"
   ]
  },
  {
   "cell_type": "markdown",
   "metadata": {},
   "source": [
    "# Compare with Predicted Taylor Error"
   ]
  },
  {
   "cell_type": "code",
   "execution_count": 37,
   "metadata": {},
   "outputs": [
    {
     "data": {
      "text/plain": [
       "[[log(sqrt(x1**2)), 0, x1**(-2), 0, -6/x1**4, 0, 120/x1**6, 0],\n",
       " [0, -1/x1**2, 0, 6/x1**4, 0, -120/x1**6, 0, 5040/x1**8],\n",
       " [x1**(-2), 0, -6/x1**4, 0, 120/x1**6, 0, -5040/x1**8, 0],\n",
       " [0, 6/x1**4, 0, -120/x1**6, 0, 5040/x1**8, 0, -362880/x1**10],\n",
       " [-6/x1**4, 0, 120/x1**6, 0, -5040/x1**8, 0, 362880/x1**10, 0],\n",
       " [0, -120/x1**6, 0, 5040/x1**8, 0, -362880/x1**10, 0, 39916800/x1**12],\n",
       " [120/x1**6, 0, -5040/x1**8, 0, 362880/x1**10, 0, -39916800/x1**12, 0],\n",
       " [0, 5040/x1**8, 0, -362880/x1**10, 0, 39916800/x1**12, 0, -6227020800/x1**14]]"
      ]
     },
     "execution_count": 37,
     "metadata": {},
     "output_type": "execute_result"
    }
   ],
   "source": [
    "true_grid_lap"
   ]
  },
  {
   "cell_type": "code",
   "execution_count": null,
   "metadata": {},
   "outputs": [],
   "source": [
    "def predicted_taylor_error(loc):\n",
    "    "
   ]
  }
 ],
 "metadata": {
  "kernelspec": {
   "display_name": "inteq",
   "language": "python",
   "name": "python3"
  },
  "language_info": {
   "codemirror_mode": {
    "name": "ipython",
    "version": 3
   },
   "file_extension": ".py",
   "mimetype": "text/x-python",
   "name": "python",
   "nbconvert_exporter": "python",
   "pygments_lexer": "ipython3",
   "version": "3.11.9"
  }
 },
 "nbformat": 4,
 "nbformat_minor": 2
}
