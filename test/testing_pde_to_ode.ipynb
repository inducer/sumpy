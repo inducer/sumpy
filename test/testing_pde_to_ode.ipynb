{
 "cells": [
  {
   "cell_type": "code",
   "execution_count": 16,
   "metadata": {},
   "outputs": [],
   "source": [
    "from sumpy.recurrence import _make_sympy_vec\n",
    "\n",
    "from sumpy.expansion.diff_op import (\n",
    "    laplacian,\n",
    "    make_identity_diff_op,\n",
    ")\n",
    "\n",
    "from sumpy.recurrence import _generate_nd_derivative_relations, pde_to_ode_in_r, ode_in_r_to_x, recurrence_from_pde,ode_in_x_to_coeff_array, recurrence_from_coeff_array\n",
    "\n",
    "import sympy as sp\n",
    "from sympy import hankel1\n",
    "\n",
    "import numpy as np\n",
    "\n",
    "import math\n",
    "\n",
    "import matplotlib.pyplot as plt\n",
    "from matplotlib import cm, ticker"
   ]
  },
  {
   "cell_type": "code",
   "execution_count": 17,
   "metadata": {},
   "outputs": [],
   "source": [
    "from sumpy.expansion.diff_op import DerivativeIdentifier, LinearPDESystemOperator\n",
    "from immutabledict import immutabledict"
   ]
  },
  {
   "cell_type": "code",
   "execution_count": 18,
   "metadata": {},
   "outputs": [],
   "source": [
    "w = make_identity_diff_op(2)\n",
    "laplace2d = laplacian(w)\n",
    "g = sp.Function('g')"
   ]
  },
  {
   "cell_type": "code",
   "execution_count": 19,
   "metadata": {},
   "outputs": [],
   "source": [
    "var = _make_sympy_vec(\"x\", 3)\n",
    "rels = _generate_nd_derivative_relations(var, 4)"
   ]
  },
  {
   "cell_type": "code",
   "execution_count": 20,
   "metadata": {},
   "outputs": [
    {
     "data": {
      "text/plain": [
       "LinearPDESystemOperator(3, (immutabledict({DerivativeIdentifier(mi=(1, 0, 3), vec_idx=0): 1}),))"
      ]
     },
     "execution_count": 20,
     "metadata": {},
     "output_type": "execute_result"
    }
   ],
   "source": [
    "from collections import namedtuple\n",
    "DerivativeIdentifier = namedtuple(\"DerivativeIdentifier\", [\"mi\", \"vec_idx\"])\n",
    "partial_1 = DerivativeIdentifier((1,0,3), 0)\n",
    "list_pde = {partial_1: 1}\n",
    "list_pde = immutabledict(list_pde)\n",
    "pde_op = LinearPDESystemOperator(3,(list_pde,))\n",
    "pde_op"
   ]
  },
  {
   "cell_type": "code",
   "execution_count": 21,
   "metadata": {},
   "outputs": [
    {
     "data": {
      "text/latex": [
       "$\\displaystyle x_{0} x_{2} \\left(- \\frac{3 f_{r1} \\left(\\frac{5 x_{2}^{2}}{x_{0}^{2} + x_{1}^{2} + x_{2}^{2}} - 3\\right)}{\\left(x_{0}^{2} + x_{1}^{2} + x_{2}^{2}\\right)^{\\frac{5}{2}}} + \\frac{3 f_{r2} \\left(\\frac{3 x_{2}^{2}}{x_{0}^{2} + x_{1}^{2} + x_{2}^{2}} - 1\\right)}{\\left(x_{0}^{2} + x_{1}^{2} + x_{2}^{2}\\right)^{2}} + \\frac{\\frac{3 f_{r2} x_{2}^{2}}{\\left(x_{0}^{2} + x_{1}^{2} + x_{2}^{2}\\right)^{\\frac{5}{2}}} - \\frac{3 f_{r2}}{\\left(x_{0}^{2} + x_{1}^{2} + x_{2}^{2}\\right)^{\\frac{3}{2}}} - \\frac{3 f_{r3} x_{2}^{2}}{\\left(x_{0}^{2} + x_{1}^{2} + x_{2}^{2}\\right)^{2}} + \\frac{3 f_{r3}}{x_{0}^{2} + x_{1}^{2} + x_{2}^{2}} + \\frac{f_{r4} x_{2}^{2}}{\\left(x_{0}^{2} + x_{1}^{2} + x_{2}^{2}\\right)^{\\frac{3}{2}}}}{\\sqrt{x_{0}^{2} + x_{1}^{2} + x_{2}^{2}}} - \\frac{3 \\left(- \\frac{f_{r2} x_{2}^{2}}{\\left(x_{0}^{2} + x_{1}^{2} + x_{2}^{2}\\right)^{\\frac{3}{2}}} + \\frac{f_{r2}}{\\sqrt{x_{0}^{2} + x_{1}^{2} + x_{2}^{2}}} + \\frac{f_{r3} x_{2}^{2}}{x_{0}^{2} + x_{1}^{2} + x_{2}^{2}}\\right)}{\\left(x_{0}^{2} + x_{1}^{2} + x_{2}^{2}\\right)^{\\frac{3}{2}}}\\right)$"
      ],
      "text/plain": [
       "x0*x2*(-3*f_r1*(5*x2**2/(x0**2 + x1**2 + x2**2) - 3)/(x0**2 + x1**2 + x2**2)**(5/2) + 3*f_r2*(3*x2**2/(x0**2 + x1**2 + x2**2) - 1)/(x0**2 + x1**2 + x2**2)**2 + (3*f_r2*x2**2/(x0**2 + x1**2 + x2**2)**(5/2) - 3*f_r2/(x0**2 + x1**2 + x2**2)**(3/2) - 3*f_r3*x2**2/(x0**2 + x1**2 + x2**2)**2 + 3*f_r3/(x0**2 + x1**2 + x2**2) + f_r4*x2**2/(x0**2 + x1**2 + x2**2)**(3/2))/sqrt(x0**2 + x1**2 + x2**2) - 3*(-f_r2*x2**2/(x0**2 + x1**2 + x2**2)**(3/2) + f_r2/sqrt(x0**2 + x1**2 + x2**2) + f_r3*x2**2/(x0**2 + x1**2 + x2**2))/(x0**2 + x1**2 + x2**2)**(3/2))"
      ]
     },
     "execution_count": 21,
     "metadata": {},
     "output_type": "execute_result"
    }
   ],
   "source": [
    "ode_in_r, var, ode_order = pde_to_ode_in_r(pde_op)\n",
    "ode_in_r"
   ]
  },
  {
   "cell_type": "code",
   "execution_count": 22,
   "metadata": {},
   "outputs": [],
   "source": [
    "f_x_derivs = _make_sympy_vec(\"f_x\", ode_order+1)\n",
    "ode_in_x = ode_in_r.subs(rels)"
   ]
  },
  {
   "cell_type": "code",
   "execution_count": 10,
   "metadata": {},
   "outputs": [
    {
     "data": {
      "text/latex": [
       "$\\displaystyle \\frac{x_{2} \\left(9 f_{x1} x_{0}^{2} - 15 f_{x1} x_{2}^{2} - 9 f_{x2} x_{0}^{3} + 15 f_{x2} x_{0} x_{2}^{2} + 3 f_{x3} x_{0}^{4} - 6 f_{x3} x_{0}^{2} x_{2}^{2} + f_{x4} x_{0}^{3} x_{2}^{2}\\right)}{x_{0}^{6}}$"
      ],
      "text/plain": [
       "x2*(9*f_x1*x0**2 - 15*f_x1*x2**2 - 9*f_x2*x0**3 + 15*f_x2*x0*x2**2 + 3*f_x3*x0**4 - 6*f_x3*x0**2*x2**2 + f_x4*x0**3*x2**2)/x0**6"
      ]
     },
     "execution_count": 10,
     "metadata": {},
     "output_type": "execute_result"
    }
   ],
   "source": [
    "ode_in_x.simplify()"
   ]
  },
  {
   "cell_type": "code",
   "execution_count": 11,
   "metadata": {},
   "outputs": [
    {
     "data": {
      "text/latex": [
       "$\\displaystyle \\frac{9 x_{0}^{2} x_{2} - 15 x_{2}^{3}}{x_{0}^{6}}$"
      ],
      "text/plain": [
       "(9*x0**2*x2 - 15*x2**3)/x0**6"
      ]
     },
     "execution_count": 11,
     "metadata": {},
     "output_type": "execute_result"
    }
   ],
   "source": [
    "sp.poly(ode_in_x, list(f_x_derivs)).coeffs()[0].simplify()"
   ]
  },
  {
   "cell_type": "code",
   "execution_count": 33,
   "metadata": {},
   "outputs": [],
   "source": [
    "def generate_partitions(n):\n",
    "    \"\"\"\n",
    "    Generates all integer partitions of n.\n",
    "\n",
    "    Args:\n",
    "        n: The integer to partition.\n",
    "\n",
    "    Returns:\n",
    "        A list of lists, where each inner list is a partition of n.\n",
    "    \"\"\"\n",
    "    if n == 0:\n",
    "        return [[]]\n",
    "    \n",
    "    partitions = []\n",
    "    for i in range(1, n + 1):\n",
    "        for p in generate_partitions(n - i):\n",
    "            if not p or i <= p[0]:\n",
    "                temp = [i] + p\n",
    "                if np.all(np.array(temp) <= 2):\n",
    "                    partitions.append([i] + p)\n",
    "    return partitions"
   ]
  },
  {
   "cell_type": "code",
   "execution_count": 74,
   "metadata": {},
   "outputs": [],
   "source": [
    "nx = 3\n",
    "ny = 3\n",
    "all_nx = generate_partitions(nx)\n",
    "all_ny = generate_partitions(ny)"
   ]
  },
  {
   "cell_type": "code",
   "execution_count": 75,
   "metadata": {},
   "outputs": [],
   "source": [
    "r = var[0]**2 + var[1]**2"
   ]
  },
  {
   "cell_type": "code",
   "execution_count": 76,
   "metadata": {},
   "outputs": [],
   "source": [
    "sum = np.zeros(nx+ny+1) * var[0]"
   ]
  },
  {
   "cell_type": "code",
   "execution_count": 77,
   "metadata": {},
   "outputs": [],
   "source": [
    "for i_x in all_nx:\n",
    "    for i_y in all_ny:\n",
    "        k = len(i_x) + len(i_y)\n",
    "        prod = 1\n",
    "        for i in i_x:\n",
    "            prod *= sp.diff(r, var[0], i)\n",
    "        for j in i_y:\n",
    "            prod *= sp.diff(r, var[1], j)\n",
    "        sum[k] += prod"
   ]
  },
  {
   "cell_type": "code",
   "execution_count": 78,
   "metadata": {},
   "outputs": [
    {
     "data": {
      "text/plain": [
       "array([0, 0, 0, 0, 16*x0*x1, 32*x0**3*x1 + 32*x0*x1**3, 64*x0**3*x1**3],\n",
       "      dtype=object)"
      ]
     },
     "execution_count": 78,
     "metadata": {},
     "output_type": "execute_result"
    }
   ],
   "source": [
    "sum"
   ]
  },
  {
   "cell_type": "code",
   "execution_count": 82,
   "metadata": {},
   "outputs": [
    {
     "data": {
      "text/plain": [
       "array([0, 0, 0, 0, 16*x0*x1/(x0**2 + x1**2)**8,\n",
       "       (32*x0**3*x1 + 32*x0*x1**3)/(x0**2 + x1**2)**10,\n",
       "       64*x0**3*x1**3/(x0**2 + x1**2)**12], dtype=object)"
      ]
     },
     "execution_count": 82,
     "metadata": {},
     "output_type": "execute_result"
    }
   ],
   "source": [
    "factors = sum/np.array([r**(2*i) for i in range(len(sum))])\n",
    "factors"
   ]
  },
  {
   "cell_type": "code",
   "execution_count": null,
   "metadata": {},
   "outputs": [],
   "source": []
  }
 ],
 "metadata": {
  "kernelspec": {
   "display_name": "inteq",
   "language": "python",
   "name": "python3"
  },
  "language_info": {
   "codemirror_mode": {
    "name": "ipython",
    "version": 3
   },
   "file_extension": ".py",
   "mimetype": "text/x-python",
   "name": "python",
   "nbconvert_exporter": "python",
   "pygments_lexer": "ipython3",
   "version": "3.11.9"
  }
 },
 "nbformat": 4,
 "nbformat_minor": 2
}
