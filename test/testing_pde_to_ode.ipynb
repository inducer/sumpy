{
 "cells": [
  {
   "cell_type": "code",
   "execution_count": 6,
   "metadata": {},
   "outputs": [],
   "source": [
    "from sumpy.recurrence import _make_sympy_vec, get_processed_and_shifted_recurrence\n",
    "\n",
    "from sumpy.expansion.diff_op import (\n",
    "    laplacian,\n",
    "    make_identity_diff_op,\n",
    ")\n",
    "\n",
    "from sumpy.recurrence import get_recurrence, _generate_nd_derivative_relations, pde_to_ode_in_r, ode_in_r_to_x, recurrence_from_pde, process_recurrence_relation,ode_in_x_to_coeff_array, recurrence_from_coeff_array, shift_recurrence\n",
    "\n",
    "import sympy as sp\n",
    "from sympy import hankel1\n",
    "\n",
    "import numpy as np\n",
    "\n",
    "import math\n",
    "\n",
    "import matplotlib.pyplot as plt\n",
    "from matplotlib import cm, ticker"
   ]
  },
  {
   "cell_type": "code",
   "execution_count": 7,
   "metadata": {},
   "outputs": [],
   "source": [
    "from sumpy.expansion.diff_op import DerivativeIdentifier, LinearPDESystemOperator\n",
    "from immutabledict import immutabledict"
   ]
  },
  {
   "cell_type": "code",
   "execution_count": 8,
   "metadata": {},
   "outputs": [],
   "source": [
    "w = make_identity_diff_op(2)\n",
    "laplace2d = laplacian(w)"
   ]
  },
  {
   "cell_type": "code",
   "execution_count": 12,
   "metadata": {},
   "outputs": [
    {
     "data": {
      "text/plain": [
       "(4,\n",
       " (n + (n - 2)**3 - 2*(n - 2)**2 - 2)*s(n - 3)/(x0**3 + x0*x1**2) + (3*x0**2*(n - 2) + x0**2 + x1**2*(n - 2) - x1**2)*s(n - 1)/(x0**3 + x0*x1**2) + (-n + 3*(n - 2)**2 + 2)*s(n - 2)/(x0**2 + x1**2))"
      ]
     },
     "execution_count": 12,
     "metadata": {},
     "output_type": "execute_result"
    }
   ],
   "source": [
    "process_recurrence_relation(recurrence_from_pde(laplace2d))"
   ]
  },
  {
   "cell_type": "code",
   "execution_count": 7,
   "metadata": {},
   "outputs": [],
   "source": [
    "ode_in_r, var, ode_order = pde_to_ode_in_r(laplace2d)\n",
    "ode_in_x = ode_in_r_to_x(ode_in_r, var, ode_order).simplify()\n",
    "ode_in_x_cleared = (ode_in_x * var[0]**(ode_order+1)).simplify()"
   ]
  },
  {
   "cell_type": "code",
   "execution_count": 5,
   "metadata": {},
   "outputs": [
    {
     "data": {
      "text/latex": [
       "$\\displaystyle f_{x1} x_{0}^{2} - f_{x1} x_{1}^{2} + f_{x2} x_{0}^{3} + f_{x2} x_{0} x_{1}^{2}$"
      ],
      "text/plain": [
       "f_x1*x0**2 - f_x1*x1**2 + f_x2*x0**3 + f_x2*x0*x1**2"
      ]
     },
     "execution_count": 5,
     "metadata": {},
     "output_type": "execute_result"
    }
   ],
   "source": [
    "ode_in_x_cleared"
   ]
  },
  {
   "cell_type": "code",
   "execution_count": 31,
   "metadata": {},
   "outputs": [
    {
     "data": {
      "text/plain": [
       "[2, 3, x1, x0, f_x1, -1, f_x2]"
      ]
     },
     "execution_count": 31,
     "metadata": {},
     "output_type": "execute_result"
    }
   ],
   "source": [
    "fx1 = list(ode_in_x_cleared.atoms())[4]\n",
    "fx2 = list(ode_in_x_cleared.atoms())[-1]\n",
    "list(ode_in_x_cleared.atoms())"
   ]
  },
  {
   "cell_type": "code",
   "execution_count": 34,
   "metadata": {},
   "outputs": [
    {
     "data": {
      "text/latex": [
       "$\\displaystyle x_{0}^{3} \\frac{d^{2}}{d x_{0}^{2}} g{\\left(x_{0} \\right)} + x_{0}^{2} \\frac{d}{d x_{0}} g{\\left(x_{0} \\right)} + x_{0} x_{1}^{2} \\frac{d^{2}}{d x_{0}^{2}} g{\\left(x_{0} \\right)} - x_{1}^{2} \\frac{d}{d x_{0}} g{\\left(x_{0} \\right)}$"
      ],
      "text/plain": [
       "x0**3*Derivative(g(x0), (x0, 2)) + x0**2*Derivative(g(x0), x0) + x0*x1**2*Derivative(g(x0), (x0, 2)) - x1**2*Derivative(g(x0), x0)"
      ]
     },
     "execution_count": 34,
     "metadata": {},
     "output_type": "execute_result"
    }
   ],
   "source": [
    "new_ode_x = ode_in_x_cleared.subs(fx1, sp.diff(g(var[0]), var[0], 1)).subs(fx2, sp.diff(g(var[0]), var[0], 2))\n",
    "new_ode_x"
   ]
  },
  {
   "cell_type": "code",
   "execution_count": 37,
   "metadata": {},
   "outputs": [
    {
     "data": {
      "text/latex": [
       "$\\displaystyle x_{0}^{3} \\frac{d^{3}}{d x_{0}^{3}} g{\\left(x_{0} \\right)} + 4 x_{0}^{2} \\frac{d^{2}}{d x_{0}^{2}} g{\\left(x_{0} \\right)} + x_{0} x_{1}^{2} \\frac{d^{3}}{d x_{0}^{3}} g{\\left(x_{0} \\right)} + 2 x_{0} \\frac{d}{d x_{0}} g{\\left(x_{0} \\right)}$"
      ],
      "text/plain": [
       "x0**3*Derivative(g(x0), (x0, 3)) + 4*x0**2*Derivative(g(x0), (x0, 2)) + x0*x1**2*Derivative(g(x0), (x0, 3)) + 2*x0*Derivative(g(x0), x0)"
      ]
     },
     "execution_count": 37,
     "metadata": {},
     "output_type": "execute_result"
    }
   ],
   "source": [
    "sp.diff(new_ode_x, var[0], 1)"
   ]
  },
  {
   "cell_type": "code",
   "execution_count": 36,
   "metadata": {},
   "outputs": [
    {
     "data": {
      "text/latex": [
       "$\\displaystyle x_{0}^{3} \\frac{d^{4}}{d x_{0}^{4}} g{\\left(x_{0} \\right)} + 7 x_{0}^{2} \\frac{d^{3}}{d x_{0}^{3}} g{\\left(x_{0} \\right)} + x_{0} x_{1}^{2} \\frac{d^{4}}{d x_{0}^{4}} g{\\left(x_{0} \\right)} + 10 x_{0} \\frac{d^{2}}{d x_{0}^{2}} g{\\left(x_{0} \\right)} + x_{1}^{2} \\frac{d^{3}}{d x_{0}^{3}} g{\\left(x_{0} \\right)} + 2 \\frac{d}{d x_{0}} g{\\left(x_{0} \\right)}$"
      ],
      "text/plain": [
       "x0**3*Derivative(g(x0), (x0, 4)) + 7*x0**2*Derivative(g(x0), (x0, 3)) + x0*x1**2*Derivative(g(x0), (x0, 4)) + 10*x0*Derivative(g(x0), (x0, 2)) + x1**2*Derivative(g(x0), (x0, 3)) + 2*Derivative(g(x0), x0)"
      ]
     },
     "execution_count": 36,
     "metadata": {},
     "output_type": "execute_result"
    }
   ],
   "source": [
    "sp.diff(new_ode_x, var[0], 2)"
   ]
  },
  {
   "cell_type": "code",
   "execution_count": 40,
   "metadata": {},
   "outputs": [
    {
     "data": {
      "text/latex": [
       "$\\displaystyle \\operatorname{Poly}{\\left( \\left(x_{0}^{3} + x_{0} x_{1}^{2}\\right) s{\\left(n + 2 \\right)} + \\left(3 n x_{0}^{2} + n x_{1}^{2} + x_{0}^{2} - x_{1}^{2}\\right) s{\\left(n + 1 \\right)} + \\left(3 n^{2} x_{0} - n x_{0}\\right) s{\\left(n \\right)} + \\left(n^{3} - 2 n^{2} + n\\right) s{\\left(n - 1 \\right)}, s{\\left(n + 2 \\right)}, s{\\left(n + 1 \\right)}, s{\\left(n \\right)}, s{\\left(n - 1 \\right)}, domain=\\mathbb{Z}\\left[x_{0}, n, x_{1}\\right] \\right)}$"
      ],
      "text/plain": [
       "Poly((x0**3 + x0*x1**2)*(s(n + 2)) + (3*n*x0**2 + n*x1**2 + x0**2 - x1**2)*(s(n + 1)) + (3*n**2*x0 - n*x0)*(s(n)) + (n**3 - 2*n**2 + n)*(s(n - 1)), s(n + 2), s(n + 1), s(n), s(n - 1), domain='ZZ[x0,n,x1]')"
      ]
     },
     "execution_count": 40,
     "metadata": {},
     "output_type": "execute_result"
    }
   ],
   "source": [
    "s = sp.Function(\"s\")\n",
    "n = sp.Symbol('n')\n",
    "sp.poly(recurrence_from_pde(laplace2d), s(n+2), s(n+1), s(n), s(n-1))"
   ]
  },
  {
   "cell_type": "code",
   "execution_count": 8,
   "metadata": {},
   "outputs": [],
   "source": [
    "def compute_derivatives_h2d(p, k=1.0):\n",
    "    var = _make_sympy_vec(\"x\", 2)\n",
    "    var_t = _make_sympy_vec(\"t\", 2)\n",
    "    abs_dist = sp.sqrt((var[0]-var_t[0])**2 +\n",
    "                        (var[1]-var_t[1])**2)\n",
    "    g_x_y = (1j/4) * hankel1(0, k * abs_dist)\n",
    "    derivs_helmholtz = [sp.diff(g_x_y,\n",
    "                        var_t[0], i).subs(var_t[0], 0).subs(var_t[1], 0)\n",
    "                                                for i in range(p)]\n",
    "    return derivs_helmholtz"
   ]
  },
  {
   "cell_type": "code",
   "execution_count": 20,
   "metadata": {},
   "outputs": [],
   "source": [
    "num_derivs = 8\n",
    "dervis_helm = compute_derivatives_h2d(num_derivs)\n",
    "var = _make_sympy_vec(\"x\", 2)"
   ]
  },
  {
   "cell_type": "code",
   "execution_count": 21,
   "metadata": {},
   "outputs": [],
   "source": [
    "import time\n",
    "timings = []"
   ]
  },
  {
   "cell_type": "code",
   "execution_count": 22,
   "metadata": {},
   "outputs": [
    {
     "name": "stdout",
     "output_type": "stream",
     "text": [
      "0.005148172378540039\n",
      "0.017525911331176758\n",
      "0.03989005088806152\n",
      "0.07448387145996094\n",
      "0.11824178695678711\n",
      "0.29863595962524414\n",
      "0.5367820262908936\n",
      "1.1351509094238281\n"
     ]
    }
   ],
   "source": [
    "for i in range(num_derivs):\n",
    "    start = time.time()\n",
    "    dervis_helm[i].subs(var[0], np.random.rand()).subs(var[1], np.random.rand()).evalf()\n",
    "    end = time.time()\n",
    "    print(end-start)\n",
    "    timings.append(end-start)"
   ]
  },
  {
   "cell_type": "code",
   "execution_count": 27,
   "metadata": {},
   "outputs": [
    {
     "data": {
      "text/plain": [
       "Text(0.5, 1.0, 'Helmholtz 2D')"
      ]
     },
     "execution_count": 27,
     "metadata": {},
     "output_type": "execute_result"
    },
    {
     "data": {
      "image/png": "[encoded data removed]",
      "text/plain": [
       "<Figure size 640x480 with 1 Axes>"
      ]
     },
     "metadata": {},
     "output_type": "display_data"
    }
   ],
   "source": [
    "plt.bar([i for i in range(num_derivs)], timings)\n",
    "plt.ylabel('Flops')\n",
    "plt.xlabel('Derivative Order')\n",
    "plt.title(\"Helmholtz 2D\")"
   ]
  },
  {
   "cell_type": "code",
   "execution_count": 31,
   "metadata": {},
   "outputs": [],
   "source": [
    "w = make_identity_diff_op(2)\n",
    "helmholtz2d = laplacian(w) + w\n",
    "n_init, _, r = get_processed_and_shifted_recurrence(helmholtz2d)"
   ]
  },
  {
   "cell_type": "code",
   "execution_count": 57,
   "metadata": {},
   "outputs": [
    {
     "name": "stdout",
     "output_type": "stream",
     "text": [
      "-x0**2*s(0)/(x0**2 + x1**2) + (x0**2 - x1**2)*s(1)/(x0**3 + x0*x1**2)\n",
      "3*x0**2*s(0)/(x0**3 + x0*x1**2) + 4*x0**2*s(2)/(x0**3 + x0*x1**2) - (x0**2 + 2)*s(1)/(x0**2 + x1**2)\n",
      "-(x0**2 + 10)*s(2)/(x0**2 + x1**2) + (6*x0**2 + 2)*s(1)/(x0**3 + x0*x1**2) + (7*x0**2 + x1**2)*s(3)/(x0**3 + x0*x1**2) - 6*s(0)/(x0**2 + x1**2)\n",
      "-(x0**2 + 24)*s(3)/(x0**2 + x1**2) + (9*x0**2 + 12)*s(2)/(x0**3 + x0*x1**2) + (10*x0**2 + 2*x1**2)*s(4)/(x0**3 + x0*x1**2) + 6*s(0)/(x0**3 + x0*x1**2) - 18*s(1)/(x0**2 + x1**2)\n",
      "-(x0**2 + 44)*s(4)/(x0**2 + x1**2) + (12*x0**2 + 36)*s(3)/(x0**3 + x0*x1**2) + (13*x0**2 + 3*x1**2)*s(5)/(x0**3 + x0*x1**2) + 24*s(1)/(x0**3 + x0*x1**2) - 36*s(2)/(x0**2 + x1**2)\n",
      "-(x0**2 + 70)*s(5)/(x0**2 + x1**2) + (15*x0**2 + 80)*s(4)/(x0**3 + x0*x1**2) + (16*x0**2 + 4*x1**2)*s(6)/(x0**3 + x0*x1**2) + 60*s(2)/(x0**3 + x0*x1**2) - 60*s(3)/(x0**2 + x1**2)\n"
     ]
    }
   ],
   "source": [
    "s=sp.Function('s')\n",
    "n=sp.Symbol('n')\n",
    "\n",
    "check = []\n",
    "x_coord = abs(np.random.rand()*1)  # noqa: NPY002\n",
    "y_coord = abs(np.random.rand()*1)  # noqa: NPY002\n",
    "coord_dict = {var[0]: x_coord, var[1]: y_coord}\n",
    "\n",
    "subs_dict = {s(0): dervis_helm[0].subs(coord_dict).evalf(), s(1): dervis_helm[1].subs(coord_dict).evalf()}\n",
    "\n",
    "assert n_init == 2\n",
    "for i in range(n_init, num_derivs):\n",
    "    start = time.time()\n",
    "    print(r.subs(n, i))\n",
    "    res = abs(r.subs(n, i).subs(subs_dict).subs(coord_dict).evalf())\n",
    "    end = time.time()\n",
    "    check.append(end-start)\n",
    "    # pylint: disable-next=not-callable\n",
    "    subs_dict[s(i)] = res"
   ]
  },
  {
   "cell_type": "code",
   "execution_count": 58,
   "metadata": {},
   "outputs": [
    {
     "data": {
      "text/plain": [
       "Text(0.5, 1.0, 'Helmholtz 2D')"
      ]
     },
     "execution_count": 58,
     "metadata": {},
     "output_type": "execute_result"
    },
    {
     "data": {
      "image/png": "[encoded data removed]",
      "text/plain": [
       "<Figure size 640x480 with 1 Axes>"
      ]
     },
     "metadata": {},
     "output_type": "display_data"
    }
   ],
   "source": [
    "plt.bar([i for i in range(n_init, num_derivs)], check)\n",
    "plt.ylabel('Flops')\n",
    "plt.xlabel('Derivative Order')\n",
    "plt.title(\"Helmholtz 2D\")"
   ]
  },
  {
   "cell_type": "code",
   "execution_count": null,
   "metadata": {},
   "outputs": [],
   "source": []
  }
 ],
 "metadata": {
  "kernelspec": {
   "display_name": "inteq",
   "language": "python",
   "name": "python3"
  },
  "language_info": {
   "codemirror_mode": {
    "name": "ipython",
    "version": 3
   },
   "file_extension": ".py",
   "mimetype": "text/x-python",
   "name": "python",
   "nbconvert_exporter": "python",
   "pygments_lexer": "ipython3",
   "version": "3.11.9"
  }
 },
 "nbformat": 4,
 "nbformat_minor": 2
}
