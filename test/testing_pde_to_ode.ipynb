{
 "cells": [
  {
   "cell_type": "code",
   "execution_count": 3,
   "metadata": {},
   "outputs": [],
   "source": [
    "from sumpy.recurrence import _make_sympy_vec, get_processed_and_shifted_recurrence\n",
    "\n",
    "from sumpy.expansion.diff_op import (\n",
    "    laplacian,\n",
    "    make_identity_diff_op,\n",
    ")\n",
    "\n",
    "from sumpy.recurrence import get_recurrence, _generate_nd_derivative_relations, pde_to_ode_in_r, ode_in_r_to_x\n",
    "\n",
    "import sympy as sp\n",
    "from sympy import hankel1\n",
    "\n",
    "import numpy as np\n",
    "\n",
    "import math\n",
    "\n",
    "import matplotlib.pyplot as plt\n",
    "from matplotlib import cm, ticker"
   ]
  },
  {
   "cell_type": "code",
   "execution_count": 4,
   "metadata": {},
   "outputs": [],
   "source": [
    "from sumpy.expansion.diff_op import DerivativeIdentifier, LinearPDESystemOperator\n",
    "from immutabledict import immutabledict"
   ]
  },
  {
   "cell_type": "code",
   "execution_count": 5,
   "metadata": {},
   "outputs": [
    {
     "data": {
      "text/plain": [
       "{f_r0: f_x0,\n",
       " f_r1: f_x1*sqrt(x0**2 + x1**2)/x0,\n",
       " f_r2: -f_x1*x1**2/x0**3 + f_x2 + f_x2*x1**2/x0**2,\n",
       " f_r3: 3*f_x1*x1**2*sqrt(x0**2 + x1**2)/x0**5 - 3*f_x2*x1**2*sqrt(x0**2 + x1**2)/x0**4 + f_x3*sqrt(x0**2 + x1**2)/x0 + f_x3*x1**2*sqrt(x0**2 + x1**2)/x0**3,\n",
       " f_r4: -12*f_x1*x1**2/x0**5 - 15*f_x1*x1**4/x0**7 + 12*f_x2*x1**2/x0**4 + 15*f_x2*x1**4/x0**6 - 6*f_x3*x1**2/x0**3 - 6*f_x3*x1**4/x0**5 + f_x4 + 2*f_x4*x1**2/x0**2 + f_x4*x1**4/x0**4,\n",
       " f_r5: 60*f_x1*x1**2*sqrt(x0**2 + x1**2)/x0**7 + 105*f_x1*x1**4*sqrt(x0**2 + x1**2)/x0**9 - 60*f_x2*x1**2*sqrt(x0**2 + x1**2)/x0**6 - 105*f_x2*x1**4*sqrt(x0**2 + x1**2)/x0**8 + 30*f_x3*x1**2*sqrt(x0**2 + x1**2)/x0**5 + 45*f_x3*x1**4*sqrt(x0**2 + x1**2)/x0**7 - 10*f_x4*x1**2*sqrt(x0**2 + x1**2)/x0**4 - 10*f_x4*x1**4*sqrt(x0**2 + x1**2)/x0**6 + f_x5*sqrt(x0**2 + x1**2)/x0 + 2*f_x5*x1**2*sqrt(x0**2 + x1**2)/x0**3 + f_x5*x1**4*sqrt(x0**2 + x1**2)/x0**5}"
      ]
     },
     "execution_count": 5,
     "metadata": {},
     "output_type": "execute_result"
    }
   ],
   "source": [
    "var = _make_sympy_vec(\"x\", 2)\n",
    "_generate_nd_derivative_relations(var, 5)"
   ]
  },
  {
   "cell_type": "code",
   "execution_count": 6,
   "metadata": {},
   "outputs": [],
   "source": [
    "def get_ode_in_x(x_order, y_order):\n",
    "    single_partial = DerivativeIdentifier((x_order,y_order), 0)\n",
    "    #Coefficients\n",
    "    list_pde_dict = immutabledict({single_partial: 1})\n",
    "    random_pde = LinearPDESystemOperator(2,(list_pde_dict,))\n",
    "\n",
    "    ode_in_r_random, var, ode_order_random = pde_to_ode_in_r(random_pde)\n",
    "    ode_in_x_random = ode_in_r_to_x(ode_in_r_random, var, ode_order_random).simplify()\n",
    "\n",
    "    return ode_in_x_random"
   ]
  },
  {
   "cell_type": "code",
   "execution_count": 8,
   "metadata": {},
   "outputs": [],
   "source": [
    "n_rows = 1\n",
    "n_cols = 1\n",
    "table = []\n",
    "for i in range(n_rows):\n",
    "    temp = []\n",
    "    for j in range(n_cols):\n",
    "        temp.append(get_ode_in_x(i, j))\n",
    "    table.append(temp)"
   ]
  },
  {
   "cell_type": "code",
   "execution_count": 8,
   "metadata": {},
   "outputs": [
    {
     "data": {
      "text/plain": [
       "[[f_x0,\n",
       "  f_x1*x1/x0,\n",
       "  (f_x1*x0**2 - f_x1*x1**2 + f_x2*x0*x1**2)/x0**3,\n",
       "  x1*(-3*f_x1*x0**2 + 3*f_x1*x1**2 + 3*f_x2*x0**3 - 3*f_x2*x0*x1**2 + f_x3*x0**2*x1**2)/x0**5],\n",
       " [f_x1,\n",
       "  x1*(-f_x1 + f_x2*x0)/x0**2,\n",
       "  (-f_x1*x0**2 + 3*f_x1*x1**2 + f_x2*x0**3 - 3*f_x2*x0*x1**2 + f_x3*x0**2*x1**2)/x0**4,\n",
       "  x1*(9*f_x1*x0**2 - 15*f_x1*x1**2 - 9*f_x2*x0**3 + 15*f_x2*x0*x1**2 + 3*f_x3*x0**4 - 6*f_x3*x0**2*x1**2 + f_x4*x0**3*x1**2)/x0**6],\n",
       " [f_x2,\n",
       "  x1*(2*f_x1 - 2*f_x2*x0 + f_x3*x0**2)/x0**3,\n",
       "  (2*f_x1*x0**2 - 12*f_x1*x1**2 - 2*f_x2*x0**3 + 12*f_x2*x0*x1**2 + f_x3*x0**4 - 5*f_x3*x0**2*x1**2 + f_x4*x0**3*x1**2)/x0**5,\n",
       "  x1*(-36*f_x1*x0**2 + 90*f_x1*x1**2 + 36*f_x2*x0**3 - 90*f_x2*x0*x1**2 - 15*f_x3*x0**4 + 39*f_x3*x0**2*x1**2 + 3*f_x4*x0**5 - 9*f_x4*x0**3*x1**2 + f_x5*x0**4*x1**2)/x0**7],\n",
       " [f_x3,\n",
       "  x1*(-6*f_x1 + 6*f_x2*x0 - 3*f_x3*x0**2 + f_x4*x0**3)/x0**4,\n",
       "  (-6*f_x1*x0**2 + 60*f_x1*x1**2 + 6*f_x2*x0**3 - 60*f_x2*x0*x1**2 - 3*f_x3*x0**4 + 27*f_x3*x0**2*x1**2 + f_x4*x0**5 - 7*f_x4*x0**3*x1**2 + f_x5*x0**4*x1**2)/x0**6,\n",
       "  x1*(180*f_x1*x0**2 - 630*f_x1*x1**2 - 180*f_x2*x0**3 + 630*f_x2*x0*x1**2 + 81*f_x3*x0**4 - 285*f_x3*x0**2*x1**2 - 21*f_x4*x0**5 + 75*f_x4*x0**3*x1**2 + 3*f_x5*x0**6 - 12*f_x5*x0**4*x1**2 + f_x6*x0**5*x1**2)/x0**8]]"
      ]
     },
     "execution_count": 8,
     "metadata": {},
     "output_type": "execute_result"
    }
   ],
   "source": [
    "table"
   ]
  },
  {
   "cell_type": "code",
   "execution_count": 10,
   "metadata": {},
   "outputs": [
    {
     "data": {
      "text/plain": [
       "{f_r0: f_x0,\n",
       " f_r1: f_x1*sqrt(x0**2 + x1**2)/x0,\n",
       " f_r2: -f_x1*x1**2/x0**3 + f_x2 + f_x2*x1**2/x0**2}"
      ]
     },
     "execution_count": 10,
     "metadata": {},
     "output_type": "execute_result"
    }
   ],
   "source": [
    "var = _make_sympy_vec(\"x\", 2)\n",
    "_generate_nd_derivative_relations(var, 2)"
   ]
  },
  {
   "cell_type": "code",
   "execution_count": 11,
   "metadata": {},
   "outputs": [],
   "source": [
    "var = _make_sympy_vec(\"x\", 2)\n",
    "var_t = _make_sympy_vec(\"t\", 2)\n",
    "abs_dist = sp.sqrt((var[0]-var_t[0])**2 +\n",
    "                    (var[1]-var_t[1])**2)\n",
    "k = 1\n",
    "g_x_y = (1j/4) * hankel1(0, k * abs_dist)\n",
    "derivs = [sp.diff(g_x_y,\n",
    "                    var_t[0], i).subs(var_t[0], 0).subs(var_t[1], 0)\n",
    "                                            for i in range(6)]"
   ]
  },
  {
   "cell_type": "code",
   "execution_count": 24,
   "metadata": {},
   "outputs": [],
   "source": [
    "var = _make_sympy_vec(\"x\", 2)\n",
    "var_t = _make_sympy_vec(\"t\", 2)\n",
    "g_x_y = sp.log(sp.sqrt((var[0]-var_t[0])**2 + (var[1]-var_t[1])**2))"
   ]
  },
  {
   "cell_type": "code",
   "execution_count": 25,
   "metadata": {},
   "outputs": [],
   "source": [
    "import time\n",
    "times = []\n",
    "n_d = 8\n",
    "for i in range(n_d):\n",
    "    start = time.time()\n",
    "    sp.diff(g_x_y, var_t[0], i).subs(var_t[0], 0).subs(var_t[1], 0)\n",
    "    end = time.time()\n",
    "    times.append(end-start)"
   ]
  },
  {
   "cell_type": "code",
   "execution_count": 26,
   "metadata": {},
   "outputs": [],
   "source": [
    "x_a = np.array([i+1 for i in range(n_d)])\n",
    "times = np.array(times)"
   ]
  },
  {
   "cell_type": "code",
   "execution_count": 27,
   "metadata": {},
   "outputs": [
    {
     "data": {
      "text/plain": [
       "<matplotlib.collections.PathCollection at 0x159c175d0>"
      ]
     },
     "execution_count": 27,
     "metadata": {},
     "output_type": "execute_result"
    },
    {
     "data": {
      "image/png": "[encoded data removed]",
      "text/plain": [
       "<Figure size 640x480 with 1 Axes>"
      ]
     },
     "metadata": {},
     "output_type": "display_data"
    }
   ],
   "source": [
    "import matplotlib.pyplot as plt\n",
    "plt.scatter(x_a,np.log(times))"
   ]
  },
  {
   "cell_type": "code",
   "execution_count": null,
   "metadata": {},
   "outputs": [],
   "source": []
  }
 ],
 "metadata": {
  "kernelspec": {
   "display_name": "inteq",
   "language": "python",
   "name": "python3"
  },
  "language_info": {
   "codemirror_mode": {
    "name": "ipython",
    "version": 3
   },
   "file_extension": ".py",
   "mimetype": "text/x-python",
   "name": "python",
   "nbconvert_exporter": "python",
   "pygments_lexer": "ipython3",
   "version": "3.11.9"
  }
 },
 "nbformat": 4,
 "nbformat_minor": 2
}
