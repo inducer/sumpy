{
 "cells": [
  {
   "cell_type": "code",
   "execution_count": 1,
   "metadata": {},
   "outputs": [],
   "source": [
    "from sumpy.recurrence import _make_sympy_vec, get_processed_and_shifted_recurrence\n",
    "\n",
    "from sumpy.expansion.diff_op import (\n",
    "    laplacian,\n",
    "    make_identity_diff_op,\n",
    ")\n",
    "\n",
    "from sumpy.recurrence import get_recurrence, _generate_nd_derivative_relations, pde_to_ode_in_r, ode_in_r_to_x\n",
    "\n",
    "import sympy as sp\n",
    "from sympy import hankel1\n",
    "\n",
    "import numpy as np\n",
    "\n",
    "import math\n",
    "\n",
    "import matplotlib.pyplot as plt\n",
    "from matplotlib import cm, ticker"
   ]
  },
  {
   "cell_type": "code",
   "execution_count": 10,
   "metadata": {},
   "outputs": [],
   "source": [
    "from sumpy.expansion.diff_op import DerivativeIdentifier, LinearPDESystemOperator\n",
    "from immutabledict import immutabledict"
   ]
  },
  {
   "cell_type": "code",
   "execution_count": 22,
   "metadata": {},
   "outputs": [],
   "source": [
    "def get_ode_in_x(x_order, y_order):\n",
    "    single_partial = DerivativeIdentifier((x_order,y_order), 0)\n",
    "    #Coefficients\n",
    "    list_pde_dict = immutabledict({single_partial: 1})\n",
    "    random_pde = LinearPDESystemOperator(2,(list_pde_dict,))\n",
    "\n",
    "    ode_in_r_random, var, ode_order_random = pde_to_ode_in_r(random_pde)\n",
    "    ode_in_x_random = ode_in_r_to_x(ode_in_r_random, var, ode_order_random).simplify()\n",
    "\n",
    "    return ode_in_x_random"
   ]
  },
  {
   "cell_type": "code",
   "execution_count": 29,
   "metadata": {},
   "outputs": [],
   "source": [
    "size = 3\n",
    "table = []\n",
    "for i in range(size):\n",
    "    temp = []\n",
    "    for j in range(size):\n",
    "        temp.append(get_ode_in_x(i, j))\n",
    "    table.append(temp)"
   ]
  },
  {
   "cell_type": "code",
   "execution_count": 30,
   "metadata": {},
   "outputs": [
    {
     "data": {
      "text/plain": [
       "[[f_x0, f_x1*x1/x0, (f_x1*x0**2 - f_x1*x1**2 + f_x2*x0*x1**2)/x0**3],\n",
       " [f_x1,\n",
       "  x1*(-f_x1 + f_x2*x0)/x0**2,\n",
       "  (-f_x1*x0**2 + 3*f_x1*x1**2 + f_x2*x0**3 - 3*f_x2*x0*x1**2 + f_x3*x0**2*x1**2)/x0**4],\n",
       " [f_x2,\n",
       "  x1*(2*f_x1 - 2*f_x2*x0 + f_x3*x0**2)/x0**3,\n",
       "  (2*f_x1*x0**2 - 12*f_x1*x1**2 - 2*f_x2*x0**3 + 12*f_x2*x0*x1**2 + f_x3*x0**4 - 5*f_x3*x0**2*x1**2 + f_x4*x0**3*x1**2)/x0**5]]"
      ]
     },
     "execution_count": 30,
     "metadata": {},
     "output_type": "execute_result"
    }
   ],
   "source": [
    "table"
   ]
  },
  {
   "cell_type": "code",
   "execution_count": null,
   "metadata": {},
   "outputs": [],
   "source": []
  }
 ],
 "metadata": {
  "kernelspec": {
   "display_name": "inteq",
   "language": "python",
   "name": "python3"
  },
  "language_info": {
   "codemirror_mode": {
    "name": "ipython",
    "version": 3
   },
   "file_extension": ".py",
   "mimetype": "text/x-python",
   "name": "python",
   "nbconvert_exporter": "python",
   "pygments_lexer": "ipython3",
   "version": "3.11.9"
  }
 },
 "nbformat": 4,
 "nbformat_minor": 2
}
