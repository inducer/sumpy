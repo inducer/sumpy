{
 "cells": [
  {
   "cell_type": "code",
   "execution_count": 2,
   "metadata": {},
   "outputs": [],
   "source": [
    "from sumpy.recurrence import _make_sympy_vec, get_reindexed_and_center_origin_on_axis_recurrence\n",
    "\n",
    "from sumpy.expansion.diff_op import (\n",
    "    laplacian,\n",
    "    make_identity_diff_op,\n",
    ")\n",
    "\n",
    "import sympy as sp\n",
    "from sympy import hankel1\n",
    "\n",
    "import numpy as np\n",
    "import math\n",
    "\n",
    "from sympy import count_ops\n",
    "\n",
    "import matplotlib.pyplot as plt\n",
    "from matplotlib import cm, ticker\n",
    "\n",
    "from sympy import cse"
   ]
  },
  {
   "cell_type": "code",
   "execution_count": 3,
   "metadata": {},
   "outputs": [],
   "source": [
    "w = make_identity_diff_op(2)\n",
    "helmholtz2d = laplacian(w) + w\n",
    "laplace2d = laplacian(w)\n",
    "n = sp.symbols(\"n\")\n",
    "s = sp.Function(\"s\")\n",
    "var = _make_sympy_vec(\"x\", 2)\n",
    "n_init_helm, order_helm, recur_helmholtz = get_reindexed_and_center_origin_on_axis_recurrence(helmholtz2d)\n",
    "n_init_lap, order_lap, recur_lap = get_reindexed_and_center_origin_on_axis_recurrence(laplace2d)"
   ]
  },
  {
   "cell_type": "code",
   "execution_count": 4,
   "metadata": {},
   "outputs": [],
   "source": [
    "def compute_derivatives_helmholtz(p):\n",
    "    var = _make_sympy_vec(\"x\", 2)\n",
    "    var_t = _make_sympy_vec(\"t\", 2)\n",
    "    abs_dist = sp.sqrt((var[0]-var_t[0])**2 +\n",
    "                       (var[1]-var_t[1])**2)\n",
    "    k = 1\n",
    "    g_x_y = (1j/4) * hankel1(0, k * abs_dist)\n",
    "    derivs = [sp.diff(g_x_y,\n",
    "                      var_t[0], i).subs(var_t[0], 0).subs(var_t[1], 0)\n",
    "                                               for i in range(p)]\n",
    "    return derivs\n",
    "l_max_h = 7\n",
    "derivs_helmholtz = compute_derivatives_helmholtz(l_max_h)"
   ]
  },
  {
   "cell_type": "code",
   "execution_count": 5,
   "metadata": {},
   "outputs": [],
   "source": [
    "def compute_derivatives_laplace(p):\n",
    "    var = _make_sympy_vec(\"x\", 2)\n",
    "    var_t = _make_sympy_vec(\"t\", 2)\n",
    "    g_x_y = sp.log(sp.sqrt((var[0]-var_t[0])**2 + (var[1]-var_t[1])**2))\n",
    "    derivs = [sp.diff(g_x_y,\n",
    "                      var_t[0], i).subs(var_t[0], 0).subs(var_t[1], 0)\n",
    "                      for i in range(p)]\n",
    "    return derivs\n",
    "l_max_l = 15\n",
    "derivs_laplace = compute_derivatives_laplace(l_max_l)"
   ]
  },
  {
   "cell_type": "code",
   "execution_count": 6,
   "metadata": {},
   "outputs": [
    {
     "data": {
      "text/latex": [
       "$\\displaystyle \\frac{- x_{0}^{2} + x_{1}^{2}}{\\left(x_{0}^{2} + x_{1}^{2}\\right)^{2}}$"
      ],
      "text/plain": [
       "(-x0**2 + x1**2)/(x0**2 + x1**2)**2"
      ]
     },
     "execution_count": 6,
     "metadata": {},
     "output_type": "execute_result"
    }
   ],
   "source": [
    "derivs_laplace[2].simplify()"
   ]
  },
  {
   "cell_type": "code",
   "execution_count": 7,
   "metadata": {},
   "outputs": [],
   "source": [
    "from immutabledict import immutabledict\n",
    "from sumpy.expansion.diff_op import LinearPDESystemOperator\n",
    "from collections import namedtuple\n",
    "DerivativeIdentifier = namedtuple(\"DerivativeIdentifier\", [\"mi\", \"vec_idx\"])\n",
    "partial_4x = DerivativeIdentifier((4,0), 0)\n",
    "partial_4y = DerivativeIdentifier((0,4), 0)\n",
    "partial_2x2y = DerivativeIdentifier((2,2), 0)\n",
    "biharmonic_op = {partial_4x: 1, partial_4y: 1, partial_2x2y:2}\n",
    "list_pde = immutabledict(biharmonic_op)\n",
    "biharmonic_pde = LinearPDESystemOperator(2, (list_pde,))\n",
    "n_init_bih, order_bih, recur_bih = get_reindexed_and_center_origin_on_axis_recurrence(biharmonic_pde)\n",
    "def compute_derivatives_biharmonic(p):\n",
    "    var = _make_sympy_vec(\"x\", 2)\n",
    "    var_t = _make_sympy_vec(\"t\", 2)\n",
    "    abs_dist = sp.sqrt((var[0]-var_t[0])**2 + (var[1]-var_t[1])**2)\n",
    "    g_x_y = abs_dist**2 * (sp.log(abs_dist))\n",
    "    derivs = [sp.diff(g_x_y,\n",
    "                    var_t[0], i).subs(var_t[0], 0).subs(var_t[1], 0)\n",
    "                                            for i in range(p)]\n",
    "    return derivs\n",
    "derivs_bih = compute_derivatives_biharmonic(15)"
   ]
  },
  {
   "cell_type": "code",
   "execution_count": 8,
   "metadata": {},
   "outputs": [],
   "source": [
    "n_s = 20\n",
    "s_vec = _make_sympy_vec(\"s\", n_s)\n",
    "subs_dict_s_vec = dict(zip([s(i) for i in range(n_s)], [s_vec[i] for i in range(n_s)]))"
   ]
  },
  {
   "cell_type": "code",
   "execution_count": 9,
   "metadata": {},
   "outputs": [],
   "source": [
    "r = sp.symbols(\"r\")"
   ]
  },
  {
   "cell_type": "code",
   "execution_count": 10,
   "metadata": {},
   "outputs": [],
   "source": [
    "def old_expansion_create(start, stop, derivs):\n",
    "    return (sum(derivs[i]*r**i/math.factorial(i) for i in range(start, stop)))"
   ]
  },
  {
   "cell_type": "code",
   "execution_count": 11,
   "metadata": {},
   "outputs": [],
   "source": [
    "def new_expansion_create(start, stop, recur):\n",
    "    return (sum(recur.subs(n,i)*r**i/math.factorial(i) for i in range(start, stop)))"
   ]
  },
  {
   "cell_type": "code",
   "execution_count": 12,
   "metadata": {},
   "outputs": [],
   "source": [
    "def get_flops_per_order_lt(l_t_order, derivs, recur, n_init, simplify=True):\n",
    "    old_exp_flops = []\n",
    "    new_exp_flops = []\n",
    "    for i in range(l_t_order):\n",
    "        if simplify:\n",
    "            old_exp_flops.append(count_ops(cse((old_expansion_create(0, i+1, derivs)).simplify())))\n",
    "            new_exp_flops.append(count_ops(cse(((old_expansion_create(0, min(i+1,n_init), derivs) + (new_expansion_create(n_init, i+1, recur)+var[0]*0).subs(subs_dict_s_vec)).simplify()))))\n",
    "        else:\n",
    "            if i < 7:\n",
    "                old_exp_flops.append(count_ops(cse((old_expansion_create(0, i+1, derivs)))))\n",
    "                new_exp_flops.append(count_ops(cse(((old_expansion_create(0, min(i+1,n_init), derivs) + (new_expansion_create(n_init, i+1, recur)+var[0]*0).subs(subs_dict_s_vec))))))\n",
    "            else:\n",
    "                old_exp_flops.append(0)\n",
    "                new_exp_flops.append(count_ops(cse(((old_expansion_create(0, min(i+1,n_init), derivs) + (new_expansion_create(n_init, i+1, recur)+var[0]*0).subs(subs_dict_s_vec))))))\n",
    "\n",
    "    return old_exp_flops, new_exp_flops"
   ]
  },
  {
   "cell_type": "code",
   "execution_count": 13,
   "metadata": {},
   "outputs": [],
   "source": [
    "old_lap_flops, new_lap_flops = get_flops_per_order_lt(10, derivs_laplace, recur_lap, n_init_lap)"
   ]
  },
  {
   "cell_type": "code",
   "execution_count": 15,
   "metadata": {},
   "outputs": [],
   "source": [
    "old_helm_flops, new_helm_flops = get_flops_per_order_lt(15, derivs_helmholtz, recur_helmholtz, n_init_helm, simplify=False)"
   ]
  },
  {
   "cell_type": "code",
   "execution_count": 21,
   "metadata": {},
   "outputs": [
    {
     "data": {
      "image/png": "[encoded data removed]",
      "text/plain": [
       "<Figure size 600x600 with 1 Axes>"
      ]
     },
     "metadata": {},
     "output_type": "display_data"
    }
   ],
   "source": [
    "fig, ax = plt.subplots(figsize = (6, 6))\n",
    "ax.set_yscale(\"log\")\n",
    "ax.set_xscale(\"log\")\n",
    "ax.plot([i for i in range(15)], new_helm_flops, \n",
    "    marker='o', # marker type\n",
    "    markerfacecolor='blue', # color of marker\n",
    "    markersize=8, # size of marker\n",
    "    color='skyblue', # color of line\n",
    "    linewidth=3, # change width of line)\n",
    "    label='Recurrence'\n",
    ")\n",
    "ax.plot([i for i in range(7)], old_helm_flops[:7], \n",
    "    marker='o', # no marker\n",
    "    color='darkred', # color of line\n",
    "    linewidth=3, # change width of line\n",
    "    linestyle='dashed', # change type of line\n",
    "    label=\"No Recurrence\" # label for legend)\n",
    ")\n",
    "ax.set_xticks([i+1 for i in range(0,15,2)])\n",
    "ax.set_xticklabels(str(i+1) for i in range(0,15,2))\n",
    "ax.legend()\n",
    "ax.set_title(\"Helmholtz 2D Line-Taylor Flop Comparison\")\n",
    "ax.set_ylabel(\"Flop Count\")\n",
    "ax.set_xlabel(\"Line-Taylor Order\")\n",
    "fig.savefig(\"Helmholtz2DCost.svg\")\n",
    "fig.savefig(\"../../S_on_surface_convergence.pgf\", bbox_inches='tight', pad_inches=0)"
   ]
  },
  {
   "cell_type": "code",
   "execution_count": null,
   "metadata": {},
   "outputs": [
    {
     "ename": "",
     "evalue": "",
     "output_type": "error",
     "traceback": [
      "\u001b[1;31mnotebook controller is DISPOSED. \n",
      "\u001b[1;31mView Jupyter <a href='command:jupyter.viewOutput'>log</a> for further details."
     ]
    },
    {
     "ename": "",
     "evalue": "",
     "output_type": "error",
     "traceback": [
      "\u001b[1;31mnotebook controller is DISPOSED. \n",
      "\u001b[1;31mView Jupyter <a href='command:jupyter.viewOutput'>log</a> for further details."
     ]
    },
    {
     "ename": "",
     "evalue": "",
     "output_type": "error",
     "traceback": [
      "\u001b[1;31mnotebook controller is DISPOSED. \n",
      "\u001b[1;31mView Jupyter <a href='command:jupyter.viewOutput'>log</a> for further details."
     ]
    }
   ],
   "source": [
    "expr = var[0]**2 +sp.sin(var[0]**2)"
   ]
  },
  {
   "cell_type": "code",
   "execution_count": null,
   "metadata": {},
   "outputs": [
    {
     "data": {
      "text/latex": [
       "$\\displaystyle x_{0}^{2} + \\sin{\\left(x_{0}^{2} \\right)}$"
      ],
      "text/plain": [
       "x0**2 + sin(x0**2)"
      ]
     },
     "execution_count": 16,
     "metadata": {},
     "output_type": "execute_result"
    },
    {
     "ename": "",
     "evalue": "",
     "output_type": "error",
     "traceback": [
      "\u001b[1;31mnotebook controller is DISPOSED. \n",
      "\u001b[1;31mView Jupyter <a href='command:jupyter.viewOutput'>log</a> for further details."
     ]
    },
    {
     "ename": "",
     "evalue": "",
     "output_type": "error",
     "traceback": [
      "\u001b[1;31mnotebook controller is DISPOSED. \n",
      "\u001b[1;31mView Jupyter <a href='command:jupyter.viewOutput'>log</a> for further details."
     ]
    },
    {
     "ename": "",
     "evalue": "",
     "output_type": "error",
     "traceback": [
      "\u001b[1;31mnotebook controller is DISPOSED. \n",
      "\u001b[1;31mView Jupyter <a href='command:jupyter.viewOutput'>log</a> for further details."
     ]
    }
   ],
   "source": [
    "expr"
   ]
  },
  {
   "cell_type": "code",
   "execution_count": null,
   "metadata": {},
   "outputs": [
    {
     "data": {
      "text/plain": [
       "4"
      ]
     },
     "execution_count": 17,
     "metadata": {},
     "output_type": "execute_result"
    },
    {
     "ename": "",
     "evalue": "",
     "output_type": "error",
     "traceback": [
      "\u001b[1;31mnotebook controller is DISPOSED. \n",
      "\u001b[1;31mView Jupyter <a href='command:jupyter.viewOutput'>log</a> for further details."
     ]
    },
    {
     "ename": "",
     "evalue": "",
     "output_type": "error",
     "traceback": [
      "\u001b[1;31mnotebook controller is DISPOSED. \n",
      "\u001b[1;31mView Jupyter <a href='command:jupyter.viewOutput'>log</a> for further details."
     ]
    },
    {
     "ename": "",
     "evalue": "",
     "output_type": "error",
     "traceback": [
      "\u001b[1;31mnotebook controller is DISPOSED. \n",
      "\u001b[1;31mView Jupyter <a href='command:jupyter.viewOutput'>log</a> for further details."
     ]
    }
   ],
   "source": [
    "count_ops(expr)"
   ]
  },
  {
   "cell_type": "code",
   "execution_count": null,
   "metadata": {},
   "outputs": [
    {
     "data": {
      "text/plain": [
       "([(x1, x0**2)], [x1 + sin(x1)])"
      ]
     },
     "execution_count": 18,
     "metadata": {},
     "output_type": "execute_result"
    },
    {
     "ename": "",
     "evalue": "",
     "output_type": "error",
     "traceback": [
      "\u001b[1;31mnotebook controller is DISPOSED. \n",
      "\u001b[1;31mView Jupyter <a href='command:jupyter.viewOutput'>log</a> for further details."
     ]
    },
    {
     "ename": "",
     "evalue": "",
     "output_type": "error",
     "traceback": [
      "\u001b[1;31mnotebook controller is DISPOSED. \n",
      "\u001b[1;31mView Jupyter <a href='command:jupyter.viewOutput'>log</a> for further details."
     ]
    },
    {
     "ename": "",
     "evalue": "",
     "output_type": "error",
     "traceback": [
      "\u001b[1;31mnotebook controller is DISPOSED. \n",
      "\u001b[1;31mView Jupyter <a href='command:jupyter.viewOutput'>log</a> for further details."
     ]
    }
   ],
   "source": [
    "cse(expr)"
   ]
  },
  {
   "cell_type": "code",
   "execution_count": null,
   "metadata": {},
   "outputs": [
    {
     "data": {
      "text/plain": [
       "3"
      ]
     },
     "execution_count": 19,
     "metadata": {},
     "output_type": "execute_result"
    },
    {
     "ename": "",
     "evalue": "",
     "output_type": "error",
     "traceback": [
      "\u001b[1;31mnotebook controller is DISPOSED. \n",
      "\u001b[1;31mView Jupyter <a href='command:jupyter.viewOutput'>log</a> for further details."
     ]
    },
    {
     "ename": "",
     "evalue": "",
     "output_type": "error",
     "traceback": [
      "\u001b[1;31mnotebook controller is DISPOSED. \n",
      "\u001b[1;31mView Jupyter <a href='command:jupyter.viewOutput'>log</a> for further details."
     ]
    },
    {
     "ename": "",
     "evalue": "",
     "output_type": "error",
     "traceback": [
      "\u001b[1;31mnotebook controller is DISPOSED. \n",
      "\u001b[1;31mView Jupyter <a href='command:jupyter.viewOutput'>log</a> for further details."
     ]
    }
   ],
   "source": [
    "count_ops(cse(expr))"
   ]
  },
  {
   "cell_type": "code",
   "execution_count": null,
   "metadata": {},
   "outputs": [
    {
     "ename": "",
     "evalue": "",
     "output_type": "error",
     "traceback": [
      "\u001b[1;31mnotebook controller is DISPOSED. \n",
      "\u001b[1;31mView Jupyter <a href='command:jupyter.viewOutput'>log</a> for further details."
     ]
    },
    {
     "ename": "",
     "evalue": "",
     "output_type": "error",
     "traceback": [
      "\u001b[1;31mnotebook controller is DISPOSED. \n",
      "\u001b[1;31mView Jupyter <a href='command:jupyter.viewOutput'>log</a> for further details."
     ]
    },
    {
     "ename": "",
     "evalue": "",
     "output_type": "error",
     "traceback": [
      "\u001b[1;31mnotebook controller is DISPOSED. \n",
      "\u001b[1;31mView Jupyter <a href='command:jupyter.viewOutput'>log</a> for further details."
     ]
    }
   ],
   "source": []
  }
 ],
 "metadata": {
  "kernelspec": {
   "display_name": "inteq",
   "language": "python",
   "name": "python3"
  },
  "language_info": {
   "codemirror_mode": {
    "name": "ipython",
    "version": 3
   },
   "file_extension": ".py",
   "mimetype": "text/x-python",
   "name": "python",
   "nbconvert_exporter": "python",
   "pygments_lexer": "ipython3",
   "version": "3.11.9"
  }
 },
 "nbformat": 4,
 "nbformat_minor": 2
}
