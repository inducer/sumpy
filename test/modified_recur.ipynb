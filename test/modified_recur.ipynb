{
 "cells": [
  {
   "cell_type": "code",
   "execution_count": 1,
   "metadata": {},
   "outputs": [],
   "source": [
    "from sumpy.recurrence import _make_sympy_vec, get_processed_and_shifted_recurrence\n",
    "\n",
    "from sumpy.expansion.diff_op import (\n",
    "    laplacian,\n",
    "    make_identity_diff_op,\n",
    ")\n",
    "\n",
    "import sympy as sp\n",
    "import numpy as np"
   ]
  },
  {
   "cell_type": "code",
   "execution_count": 2,
   "metadata": {},
   "outputs": [],
   "source": [
    "w = make_identity_diff_op(2)\n",
    "laplace2d = laplacian(w)\n",
    "n_init, order, r = get_processed_and_shifted_recurrence(laplace2d)"
   ]
  },
  {
   "cell_type": "code",
   "execution_count": 3,
   "metadata": {},
   "outputs": [],
   "source": [
    "def scale_recurrence(r):\n",
    "    #We want to subsitute s(i) r^i_{ct} = g(i)\n",
    "    g = sp.Function(\"g\")\n",
    "    s = sp.Function(\"s\")\n",
    "    n = sp.symbols(\"n\")\n",
    "    rct = sp.symbols(\"r_{ct}\")\n",
    "\n",
    "    r_new = r*rct**n\n",
    "    for i in range(order):\n",
    "        r_new = r_new.subs(s(n-i),g(n-i)/(rct**(n-i)))\n",
    "\n",
    "    return r_new"
   ]
  },
  {
   "cell_type": "code",
   "execution_count": 4,
   "metadata": {},
   "outputs": [],
   "source": [
    "r_new = scale_recurrence(r)"
   ]
  },
  {
   "cell_type": "code",
   "execution_count": 5,
   "metadata": {},
   "outputs": [],
   "source": [
    "max_abs = .0000001\n",
    "var = _make_sympy_vec(\"x\", 2)\n",
    "rct = sp.symbols(\"r_{ct}\")\n",
    "g = sp.Function(\"g\")\n",
    "n = sp.symbols(\"n\")"
   ]
  },
  {
   "cell_type": "code",
   "execution_count": 6,
   "metadata": {},
   "outputs": [
    {
     "data": {
      "text/latex": [
       "$\\displaystyle \\left(-1\\right)^{n + 1} r_{ct}^{n} \\left(\\frac{\\left(-1\\right)^{n - 3} r_{ct}^{3 - n} \\left(n + \\left(n - 2\\right)^{3} - 2 \\left(n - 2\\right)^{2} - 2\\right) g{\\left(n - 3 \\right)}}{x_{0}^{3} + x_{0} x_{1}^{2}} + \\frac{\\left(-1\\right)^{n - 2} r_{ct}^{2 - n} \\left(- n + 3 \\left(n - 2\\right)^{2} + 2\\right) g{\\left(n - 2 \\right)}}{x_{0}^{2} + x_{1}^{2}} + \\frac{\\left(-1\\right)^{n - 1} r_{ct}^{1 - n} \\left(3 x_{0}^{2} \\left(n - 2\\right) + x_{0}^{2} + x_{1}^{2} \\left(n - 2\\right) - x_{1}^{2}\\right) g{\\left(n - 1 \\right)}}{x_{0}^{3} + x_{0} x_{1}^{2}}\\right)$"
      ],
      "text/plain": [
       "(-1)**(n + 1)*r_{ct}**n*((-1)**(n - 3)*r_{ct}**(3 - n)*(n + (n - 2)**3 - 2*(n - 2)**2 - 2)*g(n - 3)/(x0**3 + x0*x1**2) + (-1)**(n - 2)*r_{ct}**(2 - n)*(-n + 3*(n - 2)**2 + 2)*g(n - 2)/(x0**2 + x1**2) + (-1)**(n - 1)*r_{ct}**(1 - n)*(3*x0**2*(n - 2) + x0**2 + x1**2*(n - 2) - x1**2)*g(n - 1)/(x0**3 + x0*x1**2))"
      ]
     },
     "execution_count": 6,
     "metadata": {},
     "output_type": "execute_result"
    }
   ],
   "source": [
    "r_new"
   ]
  },
  {
   "cell_type": "code",
   "execution_count": 14,
   "metadata": {},
   "outputs": [
    {
     "data": {
      "text/latex": [
       "$\\displaystyle 3.59999999964 \\cdot 10^{-9} g{\\left(3 \\right)} - 4.39999999956 \\cdot 10^{-9} g{\\left(4 \\right)} + 3.000000001 g{\\left(5 \\right)}$"
      ],
      "text/plain": [
       "3.59999999964e-9*g(3) - 4.39999999956e-9*g(4) + 3.000000001*g(5)"
      ]
     },
     "execution_count": 14,
     "metadata": {},
     "output_type": "execute_result"
    }
   ],
   "source": [
    "from sumpy.recurrence import get_recurrence, _extract_idx_terms_from_recurrence\n",
    "pw = 5\n",
    "x_coord = -10**(-pw) * 1\n",
    "y_coord = 1\n",
    "var = _make_sympy_vec(\"x\", 2)\n",
    "coord_dict = {var[0]: x_coord, var[1]: y_coord}\n",
    "\n",
    "get_recurrence(r_new.subs(rct, var[0]).subs(coord_dict), 6)"
   ]
  },
  {
   "cell_type": "code",
   "execution_count": 16,
   "metadata": {},
   "outputs": [
    {
     "data": {
      "text/latex": [
       "$\\displaystyle - 7999999.9992 g{\\left(4 \\right)} - 69.999999993 g{\\left(5 \\right)} - 400000.00012 g{\\left(6 \\right)}$"
      ],
      "text/plain": [
       "-7999999.9992*g(4) - 69.999999993*g(5) - 400000.00012*g(6)"
      ]
     },
     "execution_count": 16,
     "metadata": {},
     "output_type": "execute_result"
    }
   ],
   "source": [
    "get_recurrence(r_new.subs(rct, 1).subs(coord_dict), 7)"
   ]
  },
  {
   "cell_type": "code",
   "execution_count": 17,
   "metadata": {},
   "outputs": [],
   "source": [
    "def compute_derivatives(p):\n",
    "    var = _make_sympy_vec(\"x\", 2)\n",
    "    var_t = _make_sympy_vec(\"t\", 2)\n",
    "    g_x_y = sp.log(sp.sqrt((var[0]-var_t[0])**2 + (var[1]-var_t[1])**2))\n",
    "    derivs = [sp.diff(g_x_y,\n",
    "                        var_t[0], i).subs(var_t[0], 0).subs(var_t[1], 0)\n",
    "                        for i in range(p)]\n",
    "    return derivs\n",
    "derivs = compute_derivatives(15)"
   ]
  },
  {
   "cell_type": "code",
   "execution_count": 65,
   "metadata": {},
   "outputs": [],
   "source": [
    "def evaluate_recurrence(coord_dict, rct_val, recur, p):\n",
    "    subs_dict = {}\n",
    "    subs_dict[g(0)] = derivs[0].subs(coord_dict).subs(rct, rct_val)\n",
    "    subs_dict[g(1)] = derivs[1].subs(coord_dict).subs(rct, rct_val) * rct_val\n",
    "    var = _make_sympy_vec(\"x\", 2)\n",
    "    for i in range(2, p):\n",
    "        subs_dict[g(i)] = get_recurrence(recur.subs(rct, var[0]), i).subs(subs_dict).subs(coord_dict).subs(rct, rct_val)\n",
    "        print((get_recurrence(recur.subs(rct, var[0]), i).subs(coord_dict).subs(rct, rct_val)))\n",
    "    return np.array(list(subs_dict.values()))"
   ]
  },
  {
   "cell_type": "code",
   "execution_count": 66,
   "metadata": {},
   "outputs": [],
   "source": [
    "def evaluate_true(coord_dict, rct_val, p):\n",
    "    retMe = []\n",
    "    for i in range(p):\n",
    "        retMe.append((derivs[i]*rct_val**i).subs(coord_dict))\n",
    "    return np.array(retMe)"
   ]
  },
  {
   "cell_type": "code",
   "execution_count": 70,
   "metadata": {},
   "outputs": [],
   "source": [
    "def compute_error(pw):\n",
    "    if pw == 0:\n",
    "        x_coord  = 0\n",
    "    else:\n",
    "        x_coord = -10**(-pw) * 1\n",
    "    y_coord = 1\n",
    "    var = _make_sympy_vec(\"x\", 2)\n",
    "    coord_dict = {var[0]: x_coord, var[1]: y_coord}\n",
    "\n",
    "    rct_val = x_coord\n",
    "    exp = evaluate_recurrence(coord_dict, rct_val, r_new, 14)\n",
    "    true = evaluate_true(coord_dict, rct_val, 14)\n",
    "    print(exp)\n",
    "    print(true)\n",
    "    return np.abs(exp-true)/np.abs(true)"
   ]
  },
  {
   "cell_type": "code",
   "execution_count": 71,
   "metadata": {},
   "outputs": [],
   "source": [
    "import matplotlib.pyplot as plt"
   ]
  },
  {
   "cell_type": "code",
   "execution_count": 72,
   "metadata": {},
   "outputs": [
    {
     "name": "stdout",
     "output_type": "stream",
     "text": [
      "-0.9999999998*g(1)\n",
      "-1.9999999998e-10*g(1) + 3.9999999996e-10*g(2)\n",
      "1.9999999998e-10*g(1) - 9.999999999e-10*g(2) + 1.0000000006*g(3)\n",
      "1.19999999988e-9*g(2) - 2.39999999976e-9*g(3) + 2.0000000008*g(4)\n",
      "3.59999999964e-9*g(3) - 4.39999999956e-9*g(4) + 3.000000001*g(5)\n",
      "7.9999999992e-9*g(4) - 6.9999999993e-9*g(5) + 4.0000000012*g(6)\n",
      "1.49999999985e-8*g(5) - 1.019999999898e-8*g(6) + 5.0000000014*g(7)\n",
      "2.519999999748e-8*g(6) - 1.39999999986e-8*g(7) + 6.0000000016*g(8)\n",
      "3.919999999608e-8*g(7) - 1.839999999816e-8*g(8) + 7.0000000018*g(9)\n",
      "5.759999999424e-8*g(8) - 2.339999999766e-8*g(9) + 8.000000002*g(10)\n",
      "8.09999999919e-8*g(9) - 2.89999999971e-8*g(10) + 9.0000000022*g(11)\n",
      "1.09999999989e-7*g(10) - 3.519999999648e-8*g(11) + 10.0000000024*g(12)\n",
      "[5.00000041357686e-11 -9.99999999900000e-11 9.99999999700000e-11\n",
      " 5.99999999800000e-20 -5.99999999400000e-20 -1.19999976306405e-28\n",
      " 1.20000070576785e-28 2.83819141183544e-34 1.41607170595089e-33\n",
      " 8.49945423577581e-33 5.94961796507997e-32 4.75969437208068e-31\n",
      " 4.28372493488282e-30 4.28372493488995e-29]\n",
      "[5.00000041357686e-11 -9.99999999900000e-11 9.99999999700000e-11\n",
      " 5.99999999800000e-20 -5.99999999400000e-20 -1.19999999916000e-28\n",
      " 1.19999999748000e-28 5.03999999395200e-37 -5.03999998185600e-37\n",
      " -3.62879999334720e-45 3.62879998004160e-45 3.99167998962164e-53\n",
      " -3.99167996886490e-53 -6.22702077820543e-61]\n"
     ]
    },
    {
     "data": {
      "text/plain": [
       "array([0, 0, 1.29246970750185e-16, 2.00617702607210e-16,\n",
       "       4.01235405481909e-16, 1.96746626133391e-7, 5.90239878479149e-7,\n",
       "       562.133217309775, 2810.66609335069, 2342221740344.40,\n",
       "       16395552242621.5, 1.19240379600967e+22, 1.07316342199171e+23,\n",
       "       6.87925267550574e+31], dtype=object)"
      ]
     },
     "execution_count": 72,
     "metadata": {},
     "output_type": "execute_result"
    }
   ],
   "source": [
    "compute_error(5)"
   ]
  },
  {
   "cell_type": "code",
   "execution_count": null,
   "metadata": {},
   "outputs": [
    {
     "name": "stdout",
     "output_type": "stream",
     "text": [
      "1.0*(x0**2 - x1**2)*g(1)/(x0**3 + x0*x1**2)\n",
      "4.0*x0**2*g(2)/(x0**3 + x0*x1**2) - 2.0*g(1)/(x0**2 + x1**2)\n",
      "1.0*(7*x0**2 + x1**2)*g(3)/(x0**3 + x0*x1**2) + 2.0*g(1)/(x0**3 + x0*x1**2) - 10.0*g(2)/(x0**2 + x1**2)\n",
      "1.0*(10*x0**2 + 2*x1**2)*g(4)/(x0**3 + x0*x1**2) + 12.0*g(2)/(x0**3 + x0*x1**2) - 24.0*g(3)/(x0**2 + x1**2)\n",
      "1.0*(13*x0**2 + 3*x1**2)*g(5)/(x0**3 + x0*x1**2) + 36.0*g(3)/(x0**3 + x0*x1**2) - 44.0*g(4)/(x0**2 + x1**2)\n",
      "1.0*(16*x0**2 + 4*x1**2)*g(6)/(x0**3 + x0*x1**2) + 80.0*g(4)/(x0**3 + x0*x1**2) - 70.0*g(5)/(x0**2 + x1**2)\n",
      "1.0*(19*x0**2 + 5*x1**2)*g(7)/(x0**3 + x0*x1**2) + 150.0*g(5)/(x0**3 + x0*x1**2) - 102.0*g(6)/(x0**2 + x1**2)\n",
      "1.0*(22*x0**2 + 6*x1**2)*g(8)/(x0**3 + x0*x1**2) + 252.0*g(6)/(x0**3 + x0*x1**2) - 140.0*g(7)/(x0**2 + x1**2)\n",
      "1.0*(25*x0**2 + 7*x1**2)*g(9)/(x0**3 + x0*x1**2) + 392.0*g(7)/(x0**3 + x0*x1**2) - 184.0*g(8)/(x0**2 + x1**2)\n",
      "1.0*(28*x0**2 + 8*x1**2)*g(10)/(x0**3 + x0*x1**2) + 576.0*g(8)/(x0**3 + x0*x1**2) - 234.0*g(9)/(x0**2 + x1**2)\n",
      "1.0*(31*x0**2 + 9*x1**2)*g(11)/(x0**3 + x0*x1**2) + 810.0*g(9)/(x0**3 + x0*x1**2) - 290.0*g(10)/(x0**2 + x1**2)\n",
      "1.0*(34*x0**2 + 10*x1**2)*g(12)/(x0**3 + x0*x1**2) + 1100.0*g(10)/(x0**3 + x0*x1**2) - 352.0*g(11)/(x0**2 + x1**2)\n",
      "1.00498756211209*(x0**2 - x1**2)*g(1)/(x0**3 + x0*x1**2)\n",
      "4.01995024844836*x0**2*g(2)/(x0**3 + x0*x1**2) - 2.02*g(1)/(x0**2 + x1**2)\n",
      "1.00498756211209*(7*x0**2 + x1**2)*g(3)/(x0**3 + x0*x1**2) + 2.03007487546642*g(1)/(x0**3 + x0*x1**2) - 10.1*g(2)/(x0**2 + x1**2)\n",
      "1.00498756211209*(10*x0**2 + 2*x1**2)*g(4)/(x0**3 + x0*x1**2) + 12.1804492527985*g(2)/(x0**3 + x0*x1**2) - 24.24*g(3)/(x0**2 + x1**2)\n",
      "1.00498756211209*(13*x0**2 + 3*x1**2)*g(5)/(x0**3 + x0*x1**2) + 36.5413477583955*g(3)/(x0**3 + x0*x1**2) - 44.44*g(4)/(x0**2 + x1**2)\n",
      "1.00498756211209*(16*x0**2 + 4*x1**2)*g(6)/(x0**3 + x0*x1**2) + 81.2029950186568*g(4)/(x0**3 + x0*x1**2) - 70.7*g(5)/(x0**2 + x1**2)\n",
      "1.00498756211209*(19*x0**2 + 5*x1**2)*g(7)/(x0**3 + x0*x1**2) + 152.255615659981*g(5)/(x0**3 + x0*x1**2) - 103.02*g(6)/(x0**2 + x1**2)\n",
      "1.00498756211209*(22*x0**2 + 6*x1**2)*g(8)/(x0**3 + x0*x1**2) + 255.789434308769*g(6)/(x0**3 + x0*x1**2) - 141.4*g(7)/(x0**2 + x1**2)\n",
      "1.00498756211209*(25*x0**2 + 7*x1**2)*g(9)/(x0**3 + x0*x1**2) + 397.894675591418*g(7)/(x0**3 + x0*x1**2) - 185.84*g(8)/(x0**2 + x1**2)\n",
      "1.00498756211209*(28*x0**2 + 8*x1**2)*g(10)/(x0**3 + x0*x1**2) + 584.661564134329*g(8)/(x0**3 + x0*x1**2) - 236.34*g(9)/(x0**2 + x1**2)\n",
      "1.00498756211209*(31*x0**2 + 9*x1**2)*g(11)/(x0**3 + x0*x1**2) + 822.1803245639*g(9)/(x0**3 + x0*x1**2) - 292.9*g(10)/(x0**2 + x1**2)\n",
      "1.00498756211209*(34*x0**2 + 10*x1**2)*g(12)/(x0**3 + x0*x1**2) + 1116.54118150653*g(10)/(x0**3 + x0*x1**2) - 355.52*g(11)/(x0**2 + x1**2)\n",
      "1.00004999875006*(x0**2 - x1**2)*g(1)/(x0**3 + x0*x1**2)\n",
      "4.00019999500025*x0**2*g(2)/(x0**3 + x0*x1**2) - 2.0002*g(1)/(x0**2 + x1**2)\n",
      "1.00004999875006*(7*x0**2 + x1**2)*g(3)/(x0**3 + x0*x1**2) + 2.00030000749987*g(1)/(x0**3 + x0*x1**2) - 10.001*g(2)/(x0**2 + x1**2)\n",
      "1.00004999875006*(10*x0**2 + 2*x1**2)*g(4)/(x0**3 + x0*x1**2) + 12.0018000449992*g(2)/(x0**3 + x0*x1**2) - 24.0024*g(3)/(x0**2 + x1**2)\n",
      "1.00004999875006*(13*x0**2 + 3*x1**2)*g(5)/(x0**3 + x0*x1**2) + 36.0054001349977*g(3)/(x0**3 + x0*x1**2) - 44.0044*g(4)/(x0**2 + x1**2)\n",
      "1.00004999875006*(16*x0**2 + 4*x1**2)*g(6)/(x0**3 + x0*x1**2) + 80.012000299995*g(4)/(x0**3 + x0*x1**2) - 70.007*g(5)/(x0**2 + x1**2)\n",
      "1.00004999875006*(19*x0**2 + 5*x1**2)*g(7)/(x0**3 + x0*x1**2) + 150.022500562491*g(5)/(x0**3 + x0*x1**2) - 102.0102*g(6)/(x0**2 + x1**2)\n",
      "1.00004999875006*(22*x0**2 + 6*x1**2)*g(8)/(x0**3 + x0*x1**2) + 252.037800944984*g(6)/(x0**3 + x0*x1**2) - 140.014*g(7)/(x0**2 + x1**2)\n",
      "1.00004999875006*(25*x0**2 + 7*x1**2)*g(9)/(x0**3 + x0*x1**2) + 392.058801469975*g(7)/(x0**3 + x0*x1**2) - 184.0184*g(8)/(x0**2 + x1**2)\n",
      "1.00004999875006*(28*x0**2 + 8*x1**2)*g(10)/(x0**3 + x0*x1**2) + 576.086402159964*g(8)/(x0**3 + x0*x1**2) - 234.0234*g(9)/(x0**2 + x1**2)\n",
      "1.00004999875006*(31*x0**2 + 9*x1**2)*g(11)/(x0**3 + x0*x1**2) + 810.121503037449*g(9)/(x0**3 + x0*x1**2) - 290.029*g(10)/(x0**2 + x1**2)\n",
      "1.00004999875006*(34*x0**2 + 10*x1**2)*g(12)/(x0**3 + x0*x1**2) + 1100.16500412493*g(10)/(x0**3 + x0*x1**2) - 352.0352*g(11)/(x0**2 + x1**2)\n",
      "1.00000049999988*(x0**2 - x1**2)*g(1)/(x0**3 + x0*x1**2)\n",
      "4.0000019999995*x0**2*g(2)/(x0**3 + x0*x1**2) - 2.000002*g(1)/(x0**2 + x1**2)\n",
      "1.00000049999988*(7*x0**2 + x1**2)*g(3)/(x0**3 + x0*x1**2) + 2.00000300000075*g(1)/(x0**3 + x0*x1**2) - 10.00001*g(2)/(x0**2 + x1**2)\n",
      "1.00000049999988*(10*x0**2 + 2*x1**2)*g(4)/(x0**3 + x0*x1**2) + 12.0000180000045*g(2)/(x0**3 + x0*x1**2) - 24.000024*g(3)/(x0**2 + x1**2)\n",
      "1.00000049999988*(13*x0**2 + 3*x1**2)*g(5)/(x0**3 + x0*x1**2) + 36.0000540000135*g(3)/(x0**3 + x0*x1**2) - 44.000044*g(4)/(x0**2 + x1**2)\n",
      "1.00000049999988*(16*x0**2 + 4*x1**2)*g(6)/(x0**3 + x0*x1**2) + 80.00012000003*g(4)/(x0**3 + x0*x1**2) - 70.00007*g(5)/(x0**2 + x1**2)\n",
      "1.00000049999988*(19*x0**2 + 5*x1**2)*g(7)/(x0**3 + x0*x1**2) + 150.000225000056*g(5)/(x0**3 + x0*x1**2) - 102.000102*g(6)/(x0**2 + x1**2)\n",
      "1.00000049999988*(22*x0**2 + 6*x1**2)*g(8)/(x0**3 + x0*x1**2) + 252.000378000095*g(6)/(x0**3 + x0*x1**2) - 140.00014*g(7)/(x0**2 + x1**2)\n",
      "1.00000049999988*(25*x0**2 + 7*x1**2)*g(9)/(x0**3 + x0*x1**2) + 392.000588000147*g(7)/(x0**3 + x0*x1**2) - 184.000184*g(8)/(x0**2 + x1**2)\n",
      "1.00000049999988*(28*x0**2 + 8*x1**2)*g(10)/(x0**3 + x0*x1**2) + 576.000864000216*g(8)/(x0**3 + x0*x1**2) - 234.000234*g(9)/(x0**2 + x1**2)\n",
      "1.00000049999987*(31*x0**2 + 9*x1**2)*g(11)/(x0**3 + x0*x1**2) + 810.001215000304*g(9)/(x0**3 + x0*x1**2) - 290.00029*g(10)/(x0**2 + x1**2)\n",
      "1.00000049999988*(34*x0**2 + 10*x1**2)*g(12)/(x0**3 + x0*x1**2) + 1100.00165000041*g(10)/(x0**3 + x0*x1**2) - 352.000352*g(11)/(x0**2 + x1**2)\n"
     ]
    },
    {
     "data": {
      "image/png": "[encoded data removed]",
      "text/plain": [
       "<Figure size 640x480 with 1 Axes>"
      ]
     },
     "metadata": {},
     "output_type": "display_data"
    }
   ],
   "source": [
    "x_plot = [i for i in range(len(compute_error(0)))]\n",
    "for i in range(1, 4):\n",
    "    plt.semilogy(x_plot, compute_error(i), label=str(10**(-i)))\n",
    "plt.xlabel(\"order of derivative being computed\")\n",
    "plt.ylabel(\"error\")\n",
    "plt.title(\"recurrence error vs order for different source-locations\")\n",
    "plt.legend(title='ratio of y_{coord_src}/x_{coord_src}')\n",
    "plt.show()"
   ]
  },
  {
   "cell_type": "code",
   "execution_count": null,
   "metadata": {},
   "outputs": [
    {
     "data": {
      "text/plain": [
       "0.0"
      ]
     },
     "execution_count": 43,
     "metadata": {},
     "output_type": "execute_result"
    }
   ],
   "source": [
    "(1.0/4.4**10) * 4.4**10 - 1"
   ]
  },
  {
   "cell_type": "code",
   "execution_count": null,
   "metadata": {},
   "outputs": [],
   "source": []
  }
 ],
 "metadata": {
  "kernelspec": {
   "display_name": "Python 3",
   "language": "python",
   "name": "python3"
  },
  "language_info": {
   "codemirror_mode": {
    "name": "ipython",
    "version": 3
   },
   "file_extension": ".py",
   "mimetype": "text/x-python",
   "name": "python",
   "nbconvert_exporter": "python",
   "pygments_lexer": "ipython3",
   "version": "3.11.9"
  }
 },
 "nbformat": 4,
 "nbformat_minor": 2
}
