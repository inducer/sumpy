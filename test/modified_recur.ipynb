{
 "cells": [
  {
   "cell_type": "code",
   "execution_count": 321,
   "metadata": {},
   "outputs": [],
   "source": [
    "from sumpy.recurrence import _make_sympy_vec, get_processed_and_shifted_recurrence\n",
    "\n",
    "from sumpy.expansion.diff_op import (\n",
    "    laplacian,\n",
    "    make_identity_diff_op,\n",
    ")\n",
    "\n",
    "import sympy as sp\n",
    "import numpy as np"
   ]
  },
  {
   "cell_type": "code",
   "execution_count": 322,
   "metadata": {},
   "outputs": [],
   "source": [
    "w = make_identity_diff_op(2)\n",
    "laplace2d = laplacian(w)\n",
    "n_init, order, r = get_processed_and_shifted_recurrence(laplace2d)"
   ]
  },
  {
   "cell_type": "code",
   "execution_count": 323,
   "metadata": {},
   "outputs": [],
   "source": [
    "def scale_recurrence(r):\n",
    "    #We want to subsitute s(i) r^i_{ct} = g(i)\n",
    "    g = sp.Function(\"g\")\n",
    "    s = sp.Function(\"s\")\n",
    "    n = sp.symbols(\"n\")\n",
    "    rct = sp.symbols(\"r_{ct}\")\n",
    "\n",
    "    r_new = r*rct**n\n",
    "    for i in range(order):\n",
    "        r_new = r_new.subs(s(n-i),g(n-i)/(rct**(n-i)))\n",
    "\n",
    "    return r_new"
   ]
  },
  {
   "cell_type": "code",
   "execution_count": 324,
   "metadata": {},
   "outputs": [],
   "source": [
    "r_new = scale_recurrence(r)"
   ]
  },
  {
   "cell_type": "code",
   "execution_count": 325,
   "metadata": {},
   "outputs": [],
   "source": [
    "def compute_derivatives(p):\n",
    "    var = _make_sympy_vec(\"x\", 2)\n",
    "    var_t = _make_sympy_vec(\"t\", 2)\n",
    "    g_x_y = sp.log(sp.sqrt((var[0]-var_t[0])**2 + (var[1]-var_t[1])**2))\n",
    "    derivs = [sp.diff(g_x_y,\n",
    "                        var_t[0], i).subs(var_t[0], 0).subs(var_t[1], 0)\n",
    "                        for i in range(p)]\n",
    "    return derivs\n",
    "derivs = compute_derivatives(15)"
   ]
  },
  {
   "cell_type": "code",
   "execution_count": 326,
   "metadata": {},
   "outputs": [],
   "source": [
    "max_abs = .0000001\n",
    "x_coord = np.random.rand()*max_abs  # noqa: NPY002\n",
    "y_coord = np.random.rand()*max_abs\n",
    "var = _make_sympy_vec(\"x\", 2)\n",
    "coord_dict = {var[0]: x_coord, var[1]: y_coord}"
   ]
  },
  {
   "cell_type": "code",
   "execution_count": 327,
   "metadata": {},
   "outputs": [],
   "source": [
    "def evaluate_recurrence(coord_dict, rct_val, recur, p):\n",
    "    subs_dict = {}\n",
    "    subs_dict[g(0)] = derivs[0].subs(coord_dict).subs(rct, rct_val)\n",
    "    subs_dict[g(1)] = derivs[1].subs(coord_dict).subs(rct, rct_val) * rct_val\n",
    "    for i in range(2, p):\n",
    "        subs_dict[g(i)] = recur.subs(n, i).subs(subs_dict).subs(coord_dict).subs(rct, rct_val)\n",
    "    return np.array(list(subs_dict.values()))"
   ]
  },
  {
   "cell_type": "code",
   "execution_count": 328,
   "metadata": {},
   "outputs": [],
   "source": [
    "def evaluate_true(coord_dict, rct_val, p):\n",
    "    retMe = []\n",
    "    for i in range(p):\n",
    "        retMe.append(derivs[i].subs(coord_dict).subs(rct, rct_val)*rct_val**i)\n",
    "    return np.array(retMe)"
   ]
  },
  {
   "cell_type": "code",
   "execution_count": 401,
   "metadata": {},
   "outputs": [],
   "source": [
    "def compute_error(pw):\n",
    "    x_coord = -10**(-pw) * 1\n",
    "    y_coord = 1\n",
    "    coord_dict = {var[0]: x_coord, var[1]: y_coord}\n",
    "\n",
    "    exp = evaluate_recurrence(coord_dict, np.sqrt(x_coord**2 + y_coord**2), r_new, 14)\n",
    "    true = evaluate_true(coord_dict, np.sqrt(x_coord**2 + y_coord**2), 14)\n",
    "    return np.abs(exp-true)/np.abs(true)"
   ]
  },
  {
   "cell_type": "code",
   "execution_count": 402,
   "metadata": {},
   "outputs": [],
   "source": [
    "import matplotlib.pyplot as plt"
   ]
  },
  {
   "cell_type": "code",
   "execution_count": 403,
   "metadata": {},
   "outputs": [
    {
     "data": {
      "text/plain": [
       "array([0, 0, 1.11022302484720e-16, 2.25875452642557e-16,\n",
       "       1.48029736735111e-16, 2.42222987653352e-7, 7.26668965361568e-7,\n",
       "       692.065680462667, 3460.32841068733, 2883607003840.57,\n",
       "       20185249101011.9, 1.46801811218522e+22, 1.32121630784017e+23,\n",
       "       8.46933527026372e+31], dtype=object)"
      ]
     },
     "execution_count": 403,
     "metadata": {},
     "output_type": "execute_result"
    }
   ],
   "source": [
    "compute_error(5)"
   ]
  },
  {
   "cell_type": "code",
   "execution_count": 409,
   "metadata": {},
   "outputs": [
    {
     "data": {
      "image/png": "[encoded data removed]",
      "text/plain": [
       "<Figure size 640x480 with 1 Axes>"
      ]
     },
     "metadata": {},
     "output_type": "display_data"
    }
   ],
   "source": [
    "x_plot = [i for i in range(len(compute_error(0)))]\n",
    "for i in range(5,6):\n",
    "    plt.semilogy(x_plot, compute_error(i),label=str(i))\n",
    "plt.legend()\n",
    "plt.show()"
   ]
  },
  {
   "cell_type": "code",
   "execution_count": null,
   "metadata": {},
   "outputs": [],
   "source": []
  }
 ],
 "metadata": {
  "kernelspec": {
   "display_name": "Python 3",
   "language": "python",
   "name": "python3"
  },
  "language_info": {
   "codemirror_mode": {
    "name": "ipython",
    "version": 3
   },
   "file_extension": ".py",
   "mimetype": "text/x-python",
   "name": "python",
   "nbconvert_exporter": "python",
   "pygments_lexer": "ipython3",
   "version": "3.11.9"
  }
 },
 "nbformat": 4,
 "nbformat_minor": 2
}
