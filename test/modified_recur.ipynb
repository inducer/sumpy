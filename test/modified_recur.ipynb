{
 "cells": [
  {
   "cell_type": "code",
   "execution_count": 321,
   "metadata": {},
   "outputs": [],
   "source": [
    "from sumpy.recurrence import _make_sympy_vec, get_processed_and_shifted_recurrence\n",
    "\n",
    "from sumpy.expansion.diff_op import (\n",
    "    laplacian,\n",
    "    make_identity_diff_op,\n",
    ")\n",
    "\n",
    "import sympy as sp\n",
    "import numpy as np"
   ]
  },
  {
   "cell_type": "code",
   "execution_count": 322,
   "metadata": {},
   "outputs": [],
   "source": [
    "w = make_identity_diff_op(2)\n",
    "laplace2d = laplacian(w)\n",
    "n_init, order, r = get_processed_and_shifted_recurrence(laplace2d)"
   ]
  },
  {
   "cell_type": "code",
   "execution_count": 323,
   "metadata": {},
   "outputs": [],
   "source": [
    "def scale_recurrence(r):\n",
    "    #We want to subsitute s(i) r^i_{ct} = g(i)\n",
    "    g = sp.Function(\"g\")\n",
    "    s = sp.Function(\"s\")\n",
    "    n = sp.symbols(\"n\")\n",
    "    rct = sp.symbols(\"r_{ct}\")\n",
    "\n",
    "    r_new = r*rct**n\n",
    "    for i in range(order):\n",
    "        r_new = r_new.subs(s(n-i),g(n-i)/(rct**(n-i)))\n",
    "\n",
    "    return r_new"
   ]
  },
  {
   "cell_type": "code",
   "execution_count": 324,
   "metadata": {},
   "outputs": [],
   "source": [
    "r_new = scale_recurrence(r)"
   ]
  },
  {
   "cell_type": "code",
   "execution_count": 325,
   "metadata": {},
   "outputs": [],
   "source": [
    "def compute_derivatives(p):\n",
    "    var = _make_sympy_vec(\"x\", 2)\n",
    "    var_t = _make_sympy_vec(\"t\", 2)\n",
    "    g_x_y = sp.log(sp.sqrt((var[0]-var_t[0])**2 + (var[1]-var_t[1])**2))\n",
    "    derivs = [sp.diff(g_x_y,\n",
    "                        var_t[0], i).subs(var_t[0], 0).subs(var_t[1], 0)\n",
    "                        for i in range(p)]\n",
    "    return derivs\n",
    "derivs = compute_derivatives(15)"
   ]
  },
  {
   "cell_type": "code",
   "execution_count": 326,
   "metadata": {},
   "outputs": [],
   "source": [
    "max_abs = .0000001\n",
    "x_coord = np.random.rand()*max_abs  # noqa: NPY002\n",
    "y_coord = np.random.rand()*max_abs\n",
    "var = _make_sympy_vec(\"x\", 2)\n",
    "coord_dict = {var[0]: x_coord, var[1]: y_coord}"
   ]
  },
  {
   "cell_type": "code",
   "execution_count": 327,
   "metadata": {},
   "outputs": [],
   "source": [
    "def evaluate_recurrence(coord_dict, rct_val, recur, p):\n",
    "    subs_dict = {}\n",
    "    subs_dict[g(0)] = derivs[0].subs(coord_dict).subs(rct, rct_val)\n",
    "    subs_dict[g(1)] = derivs[1].subs(coord_dict).subs(rct, rct_val) * rct_val\n",
    "    for i in range(2, p):\n",
    "        subs_dict[g(i)] = recur.subs(n, i).subs(subs_dict).subs(coord_dict).subs(rct, rct_val)\n",
    "    return np.array(list(subs_dict.values()))"
   ]
  },
  {
   "cell_type": "code",
   "execution_count": 328,
   "metadata": {},
   "outputs": [],
   "source": [
    "def evaluate_true(coord_dict, rct_val, p):\n",
    "    retMe = []\n",
    "    for i in range(p):\n",
    "        retMe.append(derivs[i].subs(coord_dict).subs(rct, rct_val)*rct_val**i)\n",
    "    return np.array(retMe)"
   ]
  },
  {
   "cell_type": "code",
   "execution_count": 363,
   "metadata": {},
   "outputs": [
    {
     "data": {
      "text/plain": [
       "array([0, 0, 0, 2.12051654501851e-16, 3.46279757635162e-16,\n",
       "       1.22455096522596e-9, 3.67365384856080e-9, 0.0349871755639749,\n",
       "       0.174935920154367, 1457799.07853295, 10204597.2972477,\n",
       "       74215231574971.8, 667937431661260., 4.28164836256055e+21],\n",
       "      dtype=object)"
      ]
     },
     "execution_count": 363,
     "metadata": {},
     "output_type": "execute_result"
    }
   ],
   "source": [
    "coord_dict = {var[0]: .0001, var[1]: 1}\n",
    "exp = evaluate_recurrence(coord_dict, np.sqrt(x_coord**2 + y_coord**2), r_new, 14) \n",
    "true = evaluate_true(coord_dict, np.sqrt(x_coord**2 + y_coord**2), 14)\n",
    "np.abs(exp-true)/np.abs(true)"
   ]
  },
  {
   "cell_type": "code",
   "execution_count": null,
   "metadata": {},
   "outputs": [
    {
     "data": {
      "text/plain": [
       "array([0, 0, 3.63907034626755e-16, 0, 3.97761921240578e-16,\n",
       "       2.30632677901825e-13, 6.92729901941019e-13, 6.59135170193698e-10,\n",
       "       3.30367124192758e-9, 2.74821958755983e-6, 1.93084640776258e-5,\n",
       "       0.0140018021588909, 0.126675562113591, 80.8527473439207],\n",
       "      dtype=object)"
      ]
     },
     "execution_count": 362,
     "metadata": {},
     "output_type": "execute_result"
    }
   ],
   "source": [
    "coord_dict = {var[0]: .0001, var[1]: 1}\n",
    "exp = evaluate_recurrence(coord_dict, 1, r_new, 14) \n",
    "true = evaluate_true(coord_dict, 1, 14)\n",
    "np.abs(exp-true)/np.abs(true)"
   ]
  },
  {
   "cell_type": "code",
   "execution_count": null,
   "metadata": {},
   "outputs": [],
   "source": []
  }
 ],
 "metadata": {
  "kernelspec": {
   "display_name": "Python 3",
   "language": "python",
   "name": "python3"
  },
  "language_info": {
   "codemirror_mode": {
    "name": "ipython",
    "version": 3
   },
   "file_extension": ".py",
   "mimetype": "text/x-python",
   "name": "python",
   "nbconvert_exporter": "python",
   "pygments_lexer": "ipython3",
   "version": "3.11.9"
  }
 },
 "nbformat": 4,
 "nbformat_minor": 2
}
