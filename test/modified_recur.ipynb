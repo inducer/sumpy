{
 "cells": [
  {
   "cell_type": "code",
   "execution_count": 47,
   "metadata": {},
   "outputs": [],
   "source": [
    "from sumpy.recurrence import _make_sympy_vec, get_processed_and_shifted_recurrence\n",
    "\n",
    "from sumpy.expansion.diff_op import (\n",
    "    laplacian,\n",
    "    make_identity_diff_op,\n",
    ")\n",
    "\n",
    "from sumpy.recurrence import get_recurrence\n",
    "\n",
    "import sympy as sp\n",
    "import numpy as np"
   ]
  },
  {
   "cell_type": "code",
   "execution_count": 48,
   "metadata": {},
   "outputs": [],
   "source": [
    "w = make_identity_diff_op(2)\n",
    "laplace2d = laplacian(w)\n",
    "n_init, order, r = get_processed_and_shifted_recurrence(laplace2d)"
   ]
  },
  {
   "cell_type": "code",
   "execution_count": 49,
   "metadata": {},
   "outputs": [],
   "source": [
    "def scale_recurrence(r):\n",
    "    #We want to subsitute s(i) r^i_{ct} = g(i)\n",
    "    g = sp.Function(\"g\")\n",
    "    s = sp.Function(\"s\")\n",
    "    n = sp.symbols(\"n\")\n",
    "    rct = sp.symbols(\"r_{ct}\")\n",
    "\n",
    "    r_new = r*rct**n\n",
    "    for i in range(order):\n",
    "        r_new = r_new.subs(s(n-i),g(n-i)/(rct**(n-i)))\n",
    "\n",
    "    return r_new"
   ]
  },
  {
   "cell_type": "code",
   "execution_count": 50,
   "metadata": {},
   "outputs": [],
   "source": [
    "r_new = scale_recurrence(r)"
   ]
  },
  {
   "cell_type": "code",
   "execution_count": 51,
   "metadata": {},
   "outputs": [],
   "source": [
    "max_abs = .0000001\n",
    "var = _make_sympy_vec(\"x\", 2)\n",
    "rct = sp.symbols(\"r_{ct}\")\n",
    "g = sp.Function(\"g\")\n",
    "n = sp.symbols(\"n\")"
   ]
  },
  {
   "cell_type": "code",
   "execution_count": 52,
   "metadata": {},
   "outputs": [
    {
     "data": {
      "text/latex": [
       "$\\displaystyle \\left(-1\\right)^{n + 1} r_{ct}^{n} \\left(\\frac{\\left(-1\\right)^{n - 3} r_{ct}^{3 - n} \\left(n + \\left(n - 2\\right)^{3} - 2 \\left(n - 2\\right)^{2} - 2\\right) g{\\left(n - 3 \\right)}}{x_{0}^{3} + x_{0} x_{1}^{2}} + \\frac{\\left(-1\\right)^{n - 2} r_{ct}^{2 - n} \\left(- n + 3 \\left(n - 2\\right)^{2} + 2\\right) g{\\left(n - 2 \\right)}}{x_{0}^{2} + x_{1}^{2}} + \\frac{\\left(-1\\right)^{n - 1} r_{ct}^{1 - n} \\left(3 x_{0}^{2} \\left(n - 2\\right) + x_{0}^{2} + x_{1}^{2} \\left(n - 2\\right) - x_{1}^{2}\\right) g{\\left(n - 1 \\right)}}{x_{0}^{3} + x_{0} x_{1}^{2}}\\right)$"
      ],
      "text/plain": [
       "(-1)**(n + 1)*r_{ct}**n*((-1)**(n - 3)*r_{ct}**(3 - n)*(n + (n - 2)**3 - 2*(n - 2)**2 - 2)*g(n - 3)/(x0**3 + x0*x1**2) + (-1)**(n - 2)*r_{ct}**(2 - n)*(-n + 3*(n - 2)**2 + 2)*g(n - 2)/(x0**2 + x1**2) + (-1)**(n - 1)*r_{ct}**(1 - n)*(3*x0**2*(n - 2) + x0**2 + x1**2*(n - 2) - x1**2)*g(n - 1)/(x0**3 + x0*x1**2))"
      ]
     },
     "execution_count": 52,
     "metadata": {},
     "output_type": "execute_result"
    }
   ],
   "source": [
    "r_new"
   ]
  },
  {
   "cell_type": "code",
   "execution_count": 53,
   "metadata": {},
   "outputs": [],
   "source": [
    "def compute_derivatives(p):\n",
    "    var = _make_sympy_vec(\"x\", 2)\n",
    "    var_t = _make_sympy_vec(\"t\", 2)\n",
    "    g_x_y = sp.log(sp.sqrt((var[0]-var_t[0])**2 + (var[1]-var_t[1])**2))\n",
    "    derivs = [sp.diff(g_x_y,\n",
    "                        var_t[0], i).subs(var_t[0], 0).subs(var_t[1], 0)\n",
    "                        for i in range(p)]\n",
    "    return derivs\n",
    "derivs = compute_derivatives(15)"
   ]
  },
  {
   "cell_type": "code",
   "execution_count": 54,
   "metadata": {},
   "outputs": [],
   "source": [
    "def evaluate_recurrence(coord_dict, rct_val, recur, p):\n",
    "    subs_dict = {}\n",
    "    subs_dict[g(0)] = derivs[0].subs(coord_dict).subs(rct, rct_val)\n",
    "    subs_dict[g(1)] = derivs[1].subs(coord_dict).subs(rct, rct_val) * rct_val\n",
    "    var = _make_sympy_vec(\"x\", 2)\n",
    "    for i in range(2, p):\n",
    "        subs_dict[g(i)] = get_recurrence(recur.subs(rct, rct_val), i).subs(subs_dict).subs(coord_dict)\n",
    "        print(get_recurrence(recur.subs(rct, 1),i))\n",
    "    return np.array(list(subs_dict.values()))"
   ]
  },
  {
   "cell_type": "code",
   "execution_count": 55,
   "metadata": {},
   "outputs": [],
   "source": [
    "def evaluate_recurrence_lamb(coord_dict, rct_val, recur, p):\n",
    "    subs_dict = {}\n",
    "    subs_dict[g(-2)] = 0\n",
    "    subs_dict[g(-1)] = 0\n",
    "    subs_dict[g(0)] = derivs[0].subs(coord_dict).subs(rct, rct_val)\n",
    "    subs_dict[g(1)] = derivs[1].subs(coord_dict).subs(rct, rct_val) * rct_val\n",
    "    var = _make_sympy_vec(\"x\", 2)\n",
    "    for i in range(2, p):\n",
    "        exp = get_recurrence(recur.subs(rct, rct_val), i)\n",
    "        f = sp.lambdify([var[0], var[1], g(i-1), g(i-2), g(i-3)], exp)\n",
    "        subs_dict[g(i)] = f(coord_dict[var[0]], coord_dict[var[1]], subs_dict[g(i-1)],\n",
    "                            subs_dict[g(i-2)], subs_dict[g(i-3)])\n",
    "    subs_dict.pop(g(-2))\n",
    "    subs_dict.pop(g(-1))\n",
    "    return np.array(list(subs_dict.values()))"
   ]
  },
  {
   "cell_type": "code",
   "execution_count": 56,
   "metadata": {},
   "outputs": [],
   "source": [
    "def evaluate_true(coord_dict, rct_val, p):\n",
    "    retMe = []\n",
    "    for i in range(p):\n",
    "        exp = (derivs[i]*rct_val**i)\n",
    "        f = sp.lambdify(var, exp)\n",
    "        retMe.append(f(coord_dict[var[0]], coord_dict[var[1]]))\n",
    "    return np.array(retMe)"
   ]
  },
  {
   "cell_type": "code",
   "execution_count": 91,
   "metadata": {},
   "outputs": [],
   "source": [
    "def compute_error(pw):\n",
    "    x_coord = 1e-7\n",
    "    y_coord = 1\n",
    "    var = _make_sympy_vec(\"x\", 2)\n",
    "    coord_dict = {var[0]: x_coord, var[1]: y_coord}\n",
    "\n",
    "    rct_val = 1\n",
    "    exp = evaluate_recurrence_lamb(coord_dict, rct_val, r_new, 14)\n",
    "    true = evaluate_true(coord_dict, rct_val, 14)\n",
    "    print(exp)\n",
    "    print(true)\n",
    "    return np.abs(exp-true)/np.abs(true)"
   ]
  },
  {
   "cell_type": "code",
   "execution_count": 92,
   "metadata": {},
   "outputs": [
    {
     "name": "stdout",
     "output_type": "stream",
     "text": [
      "[4.88498130835068e-15 -9.99999999999990e-8 0.999999999999970\n",
      " 5.99999999999980e-7 -5.99999999999940 -1.20103359222412e-5\n",
      " 119.689922332713 -12403106.6899557 -620155334528027.\n",
      " -3.72093200713792e+22 -2.60465240499655e+30 -2.08372192399724e+38\n",
      " -1.87534973159752e+46 -1.87534973159752e+54]\n",
      "[ 4.88498131e-15 -1.00000000e-07  1.00000000e+00  6.00000000e-07\n",
      " -6.00000000e+00 -1.20000000e-05  1.20000000e+02  5.04000000e-04\n",
      " -5.04000000e+03 -3.62880000e-02  3.62880000e+05  3.99168000e+00\n",
      " -3.99168000e+07 -6.22702080e+02]\n"
     ]
    },
    {
     "data": {
      "text/plain": [
       "array([0, 0, 1.11022302462519e-16, 0, 4.44089209850107e-16,\n",
       "       0.000861326853504301, 0.00258398056051277, 24609338671.5500,\n",
       "       123046693357.780, 1.02538911131465e+24, 7.17772377920519e+24,\n",
       "       5.22016274851136e+37, 4.69814647366267e+38, 3.01163235491067e+51],\n",
       "      dtype=object)"
      ]
     },
     "execution_count": 92,
     "metadata": {},
     "output_type": "execute_result"
    }
   ],
   "source": [
    "compute_error(1)"
   ]
  },
  {
   "cell_type": "code",
   "execution_count": 104,
   "metadata": {},
   "outputs": [
    {
     "data": {
      "text/latex": [
       "$\\displaystyle \\frac{12 x_{0}^{2} g{\\left(2 \\right)} - 24 x_{0}^{2} g{\\left(3 \\right)} + 10 x_{0}^{2} g{\\left(4 \\right)} + 2 x_{1}^{2} g{\\left(4 \\right)}}{x_{0}^{2} + x_{1}^{2}}$"
      ],
      "text/plain": [
       "(12*x0**2*g(2) - 24*x0**2*g(3) + 10*x0**2*g(4) + 2*x1**2*g(4))/(x0**2 + x1**2)"
      ]
     },
     "execution_count": 104,
     "metadata": {},
     "output_type": "execute_result"
    }
   ],
   "source": [
    "a = sp.cancel(sp.diff(r_new.subs(rct, var[0]).subs(n, 5), var[0], 0))\n",
    "a"
   ]
  },
  {
   "cell_type": "code",
   "execution_count": 110,
   "metadata": {},
   "outputs": [
    {
     "data": {
      "text/latex": [
       "$\\displaystyle \\frac{1440 \\left(6 g{\\left(2 \\right)} - 12 g{\\left(3 \\right)} + 4 g{\\left(4 \\right)}\\right)}{x_{1}^{6}}$"
      ],
      "text/plain": [
       "1440*(6*g(2) - 12*g(3) + 4*g(4))/x1**6"
      ]
     },
     "execution_count": 110,
     "metadata": {},
     "output_type": "execute_result"
    }
   ],
   "source": [
    "sp.diff(a, var[0], 6).subs(var[0], 0)"
   ]
  },
  {
   "cell_type": "code",
   "execution_count": 111,
   "metadata": {},
   "outputs": [
    {
     "data": {
      "text/latex": [
       "$\\displaystyle - \\frac{25920.010368}{x_{1}^{6}}$"
      ],
      "text/plain": [
       "-25920.010368/x1**6"
      ]
     },
     "execution_count": 111,
     "metadata": {},
     "output_type": "execute_result"
    }
   ],
   "source": [
    "sp.diff(a, var[0], 6).subs(var[0], 0).subs(g(2), 1.00000000e+00).subs(g(3), 6.00000000e-07).subs(g(4), -6.00000000e+00)"
   ]
  },
  {
   "cell_type": "code",
   "execution_count": null,
   "metadata": {},
   "outputs": [],
   "source": []
  },
  {
   "cell_type": "code",
   "execution_count": null,
   "metadata": {},
   "outputs": [],
   "source": []
  },
  {
   "cell_type": "code",
   "execution_count": null,
   "metadata": {},
   "outputs": [],
   "source": []
  },
  {
   "cell_type": "code",
   "execution_count": 34,
   "metadata": {},
   "outputs": [
    {
     "data": {
      "text/plain": [
       "1.1399853691344745e-15"
      ]
     },
     "execution_count": 34,
     "metadata": {},
     "output_type": "execute_result"
    }
   ],
   "source": [
    "(30116417561.29867 -30116417561.298637)/30116417561.298637"
   ]
  },
  {
   "cell_type": "code",
   "execution_count": 13,
   "metadata": {},
   "outputs": [
    {
     "data": {
      "text/plain": [
       "-4999999999.999999"
      ]
     },
     "execution_count": 13,
     "metadata": {},
     "output_type": "execute_result"
    }
   ],
   "source": [
    "pw = 8\n",
    "x0 = 1\n",
    "x1 = 10**(-pw)\n",
    "g_1 = -5000000000.00000\n",
    "g_2 = (x0**2 - x1**2)*g_1/(x0**3 + x0*x1**2)\n",
    "g_2"
   ]
  },
  {
   "cell_type": "code",
   "execution_count": 14,
   "metadata": {},
   "outputs": [
    {
     "data": {
      "text/latex": [
       "$\\displaystyle - \\frac{114.591559026165 x_{0} \\left(\\frac{64 x_{0}^{6}}{\\left(x_{0}^{2} + x_{1}^{2}\\right)^{3}} - \\frac{112 x_{0}^{4}}{\\left(x_{0}^{2} + x_{1}^{2}\\right)^{2}} + \\frac{56 x_{0}^{2}}{x_{0}^{2} + x_{1}^{2}} - 7\\right)}{\\left(x_{0}^{2} + x_{1}^{2}\\right)^{4}}$"
      ],
      "text/plain": [
       "-114.591559026165*x0*(64*x0**6/(x0**2 + x1**2)**3 - 112*x0**4/(x0**2 + x1**2)**2 + 56*x0**2/(x0**2 + x1**2) - 7)/(x0**2 + x1**2)**4"
      ]
     },
     "execution_count": 14,
     "metadata": {},
     "output_type": "execute_result"
    }
   ],
   "source": [
    "derivs[7]"
   ]
  },
  {
   "cell_type": "code",
   "execution_count": 15,
   "metadata": {},
   "outputs": [
    {
     "data": {
      "text/latex": [
       "$\\displaystyle 0.0883487411517643$"
      ],
      "text/plain": [
       "0.0883487411517643"
      ]
     },
     "execution_count": 15,
     "metadata": {},
     "output_type": "execute_result"
    }
   ],
   "source": [
    "derivs[2].subs(var[0], 10**(-8)).subs(var[1], 10**(-8))"
   ]
  },
  {
   "cell_type": "code",
   "execution_count": 16,
   "metadata": {},
   "outputs": [
    {
     "data": {
      "text/plain": [
       "-4999999999.999999"
      ]
     },
     "execution_count": 16,
     "metadata": {},
     "output_type": "execute_result"
    }
   ],
   "source": [
    "g_2"
   ]
  },
  {
   "cell_type": "code",
   "execution_count": 17,
   "metadata": {},
   "outputs": [
    {
     "data": {
      "text/plain": [
       "'\\nx_plot = [i for i in range(len(compute_error(0)))]\\nfor i in range(1, 4):\\n    plt.semilogy(x_plot, compute_error(i), label=str(10**(-i)))\\nplt.xlabel(\"order of derivative being computed\")\\nplt.ylabel(\"absolute error\")\\nplt.title(\"recurrence error vs order for different source-locations\")\\nplt.legend(title=\\'ratio of x_{coord_src}/y_{coord_src}\\')\\nplt.show()\\n'"
      ]
     },
     "execution_count": 17,
     "metadata": {},
     "output_type": "execute_result"
    }
   ],
   "source": [
    "'''\n",
    "x_plot = [i for i in range(len(compute_error(0)))]\n",
    "for i in range(1, 4):\n",
    "    plt.semilogy(x_plot, compute_error(i), label=str(10**(-i)))\n",
    "plt.xlabel(\"order of derivative being computed\")\n",
    "plt.ylabel(\"absolute error\")\n",
    "plt.title(\"recurrence error vs order for different source-locations\")\n",
    "plt.legend(title='ratio of x_{coord_src}/y_{coord_src}')\n",
    "plt.show()\n",
    "'''"
   ]
  }
 ],
 "metadata": {
  "kernelspec": {
   "display_name": "Python 3",
   "language": "python",
   "name": "python3"
  },
  "language_info": {
   "codemirror_mode": {
    "name": "ipython",
    "version": 3
   },
   "file_extension": ".py",
   "mimetype": "text/x-python",
   "name": "python",
   "nbconvert_exporter": "python",
   "pygments_lexer": "ipython3",
   "version": "3.11.9"
  }
 },
 "nbformat": 4,
 "nbformat_minor": 2
}
