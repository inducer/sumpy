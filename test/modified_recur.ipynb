{
 "cells": [
  {
   "cell_type": "code",
   "execution_count": 2,
   "metadata": {},
   "outputs": [],
   "source": [
    "from sumpy.recurrence import _make_sympy_vec, get_processed_and_shifted_recurrence\n",
    "\n",
    "from sumpy.expansion.diff_op import (\n",
    "    laplacian,\n",
    "    make_identity_diff_op,\n",
    ")\n",
    "\n",
    "from sumpy.recurrence import get_recurrence\n",
    "\n",
    "import sympy as sp\n",
    "import numpy as np\n",
    "\n",
    "import math\n",
    "\n",
    "import matplotlib.pyplot as plt\n",
    "from matplotlib import cm, ticker"
   ]
  },
  {
   "cell_type": "code",
   "execution_count": 3,
   "metadata": {},
   "outputs": [],
   "source": [
    "w = make_identity_diff_op(2)\n",
    "laplace2d = laplacian(w)\n",
    "n_init, order, r = get_processed_and_shifted_recurrence(laplace2d)"
   ]
  },
  {
   "cell_type": "code",
   "execution_count": 4,
   "metadata": {},
   "outputs": [],
   "source": [
    "def scale_recurrence(r):\n",
    "    #We want to subsitute s(i) r^i_{ct} = g(i)\n",
    "    g = sp.Function(\"g\")\n",
    "    s = sp.Function(\"s\")\n",
    "    n = sp.symbols(\"n\")\n",
    "    rct = sp.symbols(\"r_{ct}\")\n",
    "\n",
    "    r_new = r*rct**n\n",
    "    for i in range(order):\n",
    "        r_new = r_new.subs(s(n-i),g(n-i)/(rct**(n-i)))\n",
    "\n",
    "    return r_new"
   ]
  },
  {
   "cell_type": "code",
   "execution_count": 5,
   "metadata": {},
   "outputs": [],
   "source": [
    "r_new = scale_recurrence(r)"
   ]
  },
  {
   "cell_type": "code",
   "execution_count": 6,
   "metadata": {},
   "outputs": [],
   "source": [
    "max_abs = .0000001\n",
    "var = _make_sympy_vec(\"x\", 2)\n",
    "rct = sp.symbols(\"r_{ct}\")\n",
    "g = sp.Function(\"g\")\n",
    "n = sp.symbols(\"n\")\n",
    "coord_dict = {var[0]: 1, var[1]: 1}"
   ]
  },
  {
   "cell_type": "code",
   "execution_count": 7,
   "metadata": {},
   "outputs": [
    {
     "data": {
      "text/latex": [
       "$\\displaystyle \\left(-1\\right)^{n + 1} \\left(\\frac{\\left(-1\\right)^{n - 3} \\left(n + \\left(n - 2\\right)^{3} - 2 \\left(n - 2\\right)^{2} - 2\\right) g{\\left(n - 3 \\right)}}{x_{0}^{3} + x_{0} x_{1}^{2}} + \\frac{\\left(-1\\right)^{n - 2} \\left(- n + 3 \\left(n - 2\\right)^{2} + 2\\right) g{\\left(n - 2 \\right)}}{x_{0}^{2} + x_{1}^{2}} + \\frac{\\left(-1\\right)^{n - 1} \\left(3 x_{0}^{2} \\left(n - 2\\right) + x_{0}^{2} + x_{1}^{2} \\left(n - 2\\right) - x_{1}^{2}\\right) g{\\left(n - 1 \\right)}}{x_{0}^{3} + x_{0} x_{1}^{2}}\\right)$"
      ],
      "text/plain": [
       "(-1)**(n + 1)*((-1)**(n - 3)*(n + (n - 2)**3 - 2*(n - 2)**2 - 2)*g(n - 3)/(x0**3 + x0*x1**2) + (-1)**(n - 2)*(-n + 3*(n - 2)**2 + 2)*g(n - 2)/(x0**2 + x1**2) + (-1)**(n - 1)*(3*x0**2*(n - 2) + x0**2 + x1**2*(n - 2) - x1**2)*g(n - 1)/(x0**3 + x0*x1**2))"
      ]
     },
     "execution_count": 7,
     "metadata": {},
     "output_type": "execute_result"
    }
   ],
   "source": [
    "r_new = r_new.subs(rct, 1)\n",
    "r_new"
   ]
  },
  {
   "cell_type": "code",
   "execution_count": 8,
   "metadata": {},
   "outputs": [],
   "source": [
    "r_new_shifted_1 = r_new.subs(n, n-1)\n",
    "r_new_shifted_3 = r_new.subs(n, n-3)"
   ]
  },
  {
   "cell_type": "code",
   "execution_count": 9,
   "metadata": {},
   "outputs": [
    {
     "data": {
      "text/latex": [
       "$\\displaystyle \\frac{\\left(6 n^{2} x_{0}^{4} + 3 n^{2} x_{0}^{2} x_{1}^{2} + n^{2} x_{1}^{4} - 26 n x_{0}^{4} - 21 n x_{0}^{2} x_{1}^{2} - 7 n x_{1}^{4} + 26 x_{0}^{4} + 30 x_{0}^{2} x_{1}^{2} + 12 x_{1}^{4}\\right) g{\\left(n - 2 \\right)}}{x_{0}^{6} + 2 x_{0}^{4} x_{1}^{2} + x_{0}^{2} x_{1}^{4}} + \\frac{\\left(3 n^{4} x_{0}^{2} + n^{4} x_{1}^{2} - 38 n^{3} x_{0}^{2} - 14 n^{3} x_{1}^{2} + 175 n^{2} x_{0}^{2} + 73 n^{2} x_{1}^{2} - 344 n x_{0}^{2} - 168 n x_{1}^{2} + 240 x_{0}^{2} + 144 x_{1}^{2}\\right) g{\\left(n - 4 \\right)}}{x_{0}^{6} + 2 x_{0}^{4} x_{1}^{2} + x_{0}^{2} x_{1}^{4}} + \\frac{\\left(- 8 n^{3} x_{0}^{2} - 2 n^{3} x_{1}^{2} + 64 n^{2} x_{0}^{2} + 20 n^{2} x_{1}^{2} - 164 n x_{0}^{2} - 66 n x_{1}^{2} + 132 x_{0}^{2} + 72 x_{1}^{2}\\right) g{\\left(n - 3 \\right)}}{x_{0}^{5} + 2 x_{0}^{3} x_{1}^{2} + x_{0} x_{1}^{4}}$"
      ],
      "text/plain": [
       "(6*n**2*x0**4 + 3*n**2*x0**2*x1**2 + n**2*x1**4 - 26*n*x0**4 - 21*n*x0**2*x1**2 - 7*n*x1**4 + 26*x0**4 + 30*x0**2*x1**2 + 12*x1**4)*g(n - 2)/(x0**6 + 2*x0**4*x1**2 + x0**2*x1**4) + (3*n**4*x0**2 + n**4*x1**2 - 38*n**3*x0**2 - 14*n**3*x1**2 + 175*n**2*x0**2 + 73*n**2*x1**2 - 344*n*x0**2 - 168*n*x1**2 + 240*x0**2 + 144*x1**2)*g(n - 4)/(x0**6 + 2*x0**4*x1**2 + x0**2*x1**4) + (-8*n**3*x0**2 - 2*n**3*x1**2 + 64*n**2*x0**2 + 20*n**2*x1**2 - 164*n*x0**2 - 66*n*x1**2 + 132*x0**2 + 72*x1**2)*g(n - 3)/(x0**5 + 2*x0**3*x1**2 + x0*x1**4)"
      ]
     },
     "execution_count": 9,
     "metadata": {},
     "output_type": "execute_result"
    }
   ],
   "source": [
    "poly1 = sp.poly(r_new.subs(g(n-1), r_new_shifted_1), [g(n-2), g(n-3), g(n-4)])\n",
    "new_recur = g(n-2) * poly1.coeffs()[0].subs((-1)**(2*n), 1) + g(n-3) * poly1.coeffs()[1].subs((-1)**(2*n), 1) + g(n-4) * poly1.coeffs()[2].subs((-1)**(2*n), 1)\n",
    "new_recur"
   ]
  },
  {
   "cell_type": "code",
   "execution_count": 10,
   "metadata": {},
   "outputs": [],
   "source": [
    "def compute_derivatives(p):\n",
    "    var = _make_sympy_vec(\"x\", 2)\n",
    "    var_t = _make_sympy_vec(\"t\", 2)\n",
    "    g_x_y = sp.log(sp.sqrt((var[0]-var_t[0])**2 + (var[1]-var_t[1])**2))\n",
    "    derivs = [sp.diff(g_x_y,\n",
    "                        var_t[0], i).subs(var_t[0], 0).subs(var_t[1], 0)\n",
    "                        for i in range(p)]\n",
    "    return derivs\n",
    "derivs = compute_derivatives(15)"
   ]
  },
  {
   "cell_type": "code",
   "execution_count": 11,
   "metadata": {},
   "outputs": [],
   "source": [
    "def evaluate_recurrence_lamb(coord_dict, rct_val, recur, p):\n",
    "    subs_dict = {}\n",
    "    subs_dict[g(-2)] = 0\n",
    "    subs_dict[g(-1)] = 0\n",
    "    subs_dict[g(0)] = derivs[0].subs(coord_dict).subs(rct, rct_val)\n",
    "    subs_dict[g(1)] = derivs[1].subs(coord_dict).subs(rct, rct_val) * rct_val\n",
    "    subs_dict[g(2)] = derivs[2].subs(coord_dict).subs(rct, rct_val) * rct_val**2\n",
    "    var = _make_sympy_vec(\"x\", 2)\n",
    "    for i in range(3, p):\n",
    "        exp = get_recurrence(recur.subs(rct, rct_val), i)\n",
    "        f = sp.lambdify([var[0], var[1], g(i-1), g(i-2), g(i-3), g(i-4)], exp)\n",
    "        subs_dict[g(i)] = f(coord_dict[var[0]], coord_dict[var[1]], subs_dict[g(i-1)], subs_dict[g(i-2)],\n",
    "                            subs_dict[g(i-3)], subs_dict[g(i-4)])\n",
    "    subs_dict.pop(g(-2))\n",
    "    subs_dict.pop(g(-1))\n",
    "    return np.array(list(subs_dict.values()))"
   ]
  },
  {
   "cell_type": "code",
   "execution_count": 12,
   "metadata": {},
   "outputs": [],
   "source": [
    "def evaluate_true(coord_dict, rct_val, p):\n",
    "    retMe = []\n",
    "    for i in range(p):\n",
    "        exp = (derivs[i]*rct_val**i)\n",
    "        f = sp.lambdify(var, exp)\n",
    "        retMe.append(f(coord_dict[var[0]], coord_dict[var[1]]))\n",
    "    return np.array(retMe)"
   ]
  },
  {
   "cell_type": "code",
   "execution_count": 13,
   "metadata": {},
   "outputs": [],
   "source": [
    "def compute_error(pw, recur):\n",
    "    x_coord = 10**(-pw)\n",
    "    y_coord = 1\n",
    "    var = _make_sympy_vec(\"x\", 2)\n",
    "    coord_dict = {var[0]: x_coord, var[1]: y_coord}\n",
    "\n",
    "    rct_val = 1\n",
    "    exp = evaluate_recurrence_lamb(coord_dict, rct_val, recur, 10)\n",
    "    true = evaluate_true(coord_dict, rct_val, 10)\n",
    "\n",
    "    print(true)\n",
    "\n",
    "    return np.abs(exp-true)/np.abs(true)"
   ]
  },
  {
   "cell_type": "code",
   "execution_count": 14,
   "metadata": {},
   "outputs": [],
   "source": [
    "def compute_error_coord(recur, loc, order):\n",
    "    var = _make_sympy_vec(\"x\", 2)\n",
    "    coord_dict = {var[0]: loc[0], var[1]: loc[1]}\n",
    "\n",
    "    rct_val = 1\n",
    "    exp = evaluate_recurrence_lamb(coord_dict, rct_val, recur, order+1)\n",
    "    true = evaluate_true(coord_dict, rct_val, order+1)\n",
    "\n",
    "    #print(true)\n",
    "\n",
    "    return np.abs(exp-true)[order]/np.abs(true)[order]"
   ]
  },
  {
   "cell_type": "code",
   "execution_count": 17,
   "metadata": {},
   "outputs": [
    {
     "data": {
      "image/png": "[encoded data removed]",
      "text/plain": [
       "<Figure size 640x480 with 2 Axes>"
      ]
     },
     "metadata": {},
     "output_type": "display_data"
    }
   ],
   "source": [
    "res = 10\n",
    "x_grid = [10**(pw) for pw in np.linspace(-8, 0, res)]\n",
    "y_grid = [10**(pw) for pw in np.linspace(-8, 0, res)]\n",
    "res=len(x_grid)\n",
    "order_plot = 8\n",
    "plot_me = np.empty((res, res))\n",
    "for i in range(res):\n",
    "    for j in range(res):\n",
    "        if abs(x_grid[i]) == abs(y_grid[j]):\n",
    "            plot_me[i, j] = 1e-16\n",
    "        else:\n",
    "            plot_me[i,j] = compute_error_coord(r_new, np.array([x_grid[i],y_grid[j]]), order_plot)\n",
    "            if plot_me[i,j] == 0:\n",
    "                plot_me[i, j] = 1e-16\n",
    "                \n",
    "fig, ax = plt.subplots()\n",
    "cs = ax.contourf(x_grid, y_grid, plot_me.T, locator=ticker.LogLocator(), cmap=cm.PuBu_r)\n",
    "cbar = fig.colorbar(cs)\n",
    "plt.gca().set_xscale('log')\n",
    "plt.gca().set_yscale('log')\n",
    "plt.xlabel(\"source x-coord\")\n",
    "plt.ylabel(\"source y-coord\")\n",
    "plt.title(\"recurrence error order = \"+str(order_plot))\n",
    "plt.show()"
   ]
  },
  {
   "cell_type": "markdown",
   "metadata": {},
   "source": [
    "# Avoiding Cat Cancellation: Attempt 1\n",
    "The question is can we avoid catastrophic cancellation in the recurrence when $x_0 << 1$? Where $(x_0, y_0)$ is the location of the source?\n",
    "\n",
    "If we formulate a recurrence for\n",
    "$$\n",
    "g(i, x_0, y_0) = \\frac{d^i}{dx^i}|_{x = 0} G(x, y) r_{ct}^i\n",
    "$$\n",
    "we will inevitably get catastrophic cancellation when $x_0 << y_0$. Suppose we let $r_{ct} = x_0$ (we can scale up and down later with the true $r_{ct}$) and have\n",
    "$$\n",
    "g(n, x_0, y_0) = f_1(x_0, y_0, n-1) g(n-1, x_0, y_0) + f_2(x_0, y_0, n-2) g(n-2, x_0, y_0) + f_3(x_0, y_0, n-3) g(n-3, x_0, y_0)\n",
    "$$\n",
    "we could treat $g(n-1, x_0, y_0), g(n-2, x_0, y_0), g(n-3, x_0, y_0)$ as constants and taylor expand  $f_i(x_0, y_0, j)$ when $x_0  << y_0$. So instead we get for example:\n",
    "$$\n",
    "g(2) = -g(1) + \\frac{4g(1)}{x_1^2} \\frac{x_0^2}{2!} - \\frac{48 g(1)}{x_1^4} \\frac{x_0^4}{4!} \n",
    "$$\n",
    "$$\n",
    "g(3) = -\\frac{4(g(1)-2g(2))}{x_1^2} \\frac{x_0^2}{2!} - \\frac{48 (g(1)-2g(2))}{x_1^4} \\frac{x_0^4}{4!} \n",
    "$$\n",
    "$$\n",
    "g(4) = g(3) - \\frac{4(g(1)-5g(2)+3g(3))}{x_1^2 }  \\frac{x_0^2}{2!} - \\frac{48(g(1)-5g(2)+3g(3))}{x_1^4} \\frac{x_0^4}{4!} \n",
    "$$\n",
    "$$\n",
    "g(5) = 2g(4) + \\frac{8(3g(2)-6g(3)+2g(4))}{x_1^2} \\frac{x_0^2}{2!}\n",
    "$$"
   ]
  },
  {
   "cell_type": "code",
   "execution_count": null,
   "metadata": {},
   "outputs": [],
   "source": [
    "def generate_specialized_formula(i, order):\n",
    "    a = sp.cancel(r_new.subs(rct, var[0]).subs(n, i))\n",
    "    res = 0\n",
    "    for j in range(order+1):\n",
    "        res += sp.simplify(sp.diff(a, var[0], j).subs(var[0], 0)) * var[0]**j/math.factorial(j)\n",
    "    return res"
   ]
  },
  {
   "cell_type": "code",
   "execution_count": null,
   "metadata": {},
   "outputs": [],
   "source": [
    "def evaluate_specialized_formula(coord_dict, p, rct_val, order_approx):\n",
    "    subs_dict = {}\n",
    "    subs_dict[g(-2)] = 0\n",
    "    subs_dict[g(-1)] = 0\n",
    "    subs_dict[g(0)] = derivs[0].subs(coord_dict)\n",
    "    subs_dict[g(1)] = derivs[1].subs(coord_dict) * rct_val\n",
    "    var = _make_sympy_vec(\"x\", 2)\n",
    "    for i in range(2, p):\n",
    "        exp = generate_specialized_formula(i, order_approx)\n",
    "        f = sp.lambdify([var[0], var[1], g(i-1), g(i-2), g(i-3)], exp)\n",
    "        subs_dict[g(i)] = f(coord_dict[var[0]], coord_dict[var[1]], subs_dict[g(i-1)],\n",
    "                            subs_dict[g(i-2)], subs_dict[g(i-3)])\n",
    "    subs_dict.pop(g(-2))\n",
    "    subs_dict.pop(g(-1))\n",
    "    return np.array(list(subs_dict.values()))"
   ]
  },
  {
   "cell_type": "code",
   "execution_count": null,
   "metadata": {},
   "outputs": [],
   "source": [
    "def compute_error_using_specialized_formula(pw, order_approx):\n",
    "    x_coord = 10**(-pw)\n",
    "    y_coord = 1\n",
    "    var = _make_sympy_vec(\"x\", 2)\n",
    "    coord_dict = {var[0]: x_coord, var[1]: y_coord}\n",
    "\n",
    "    rct_val = x_coord\n",
    "    exp = evaluate_specialized_formula(coord_dict, 9, rct_val, order_approx)\n",
    "    true = evaluate_true(coord_dict, rct_val, 9)\n",
    "    print(exp)\n",
    "    print(true)\n",
    "    return np.abs(exp-true)/np.abs(true)"
   ]
  },
  {
   "cell_type": "code",
   "execution_count": null,
   "metadata": {},
   "outputs": [],
   "source": [
    "compute_error_using_specialized_formula(5, 25)"
   ]
  },
  {
   "cell_type": "code",
   "execution_count": null,
   "metadata": {},
   "outputs": [],
   "source": [
    "compute_error(5)"
   ]
  },
  {
   "cell_type": "markdown",
   "metadata": {},
   "source": [
    "# Avoiding Cat Cancel 1.5"
   ]
  },
  {
   "cell_type": "markdown",
   "metadata": {},
   "source": [
    "If we have $x_0 << x_1$ then the following expressions are a good approximation\\\n",
    "to coefficients for a Taylor expansion of a Laplace kernel at the origin with\\\n",
    "source at $(x_0, x_1)$:"
   ]
  },
  {
   "cell_type": "code",
   "execution_count": 66,
   "metadata": {},
   "outputs": [
    {
     "data": {
      "text/plain": [
       "[log(sqrt(x0**2 + x1**2)),\n",
       " -x0/(x0**2 + x1**2),\n",
       " (-2*x0**2/(x0**2 + x1**2) + 1)/(x0**2 + x1**2),\n",
       " -2*x0*(4*x0**2/(x0**2 + x1**2) - 3)/(x0**2 + x1**2)**2,\n",
       " 6*(-8*x0**4/(x0**2 + x1**2)**2 + 8*x0**2/(x0**2 + x1**2) - 1)/(x0**2 + x1**2)**2,\n",
       " -24*x0*(16*x0**4/(x0**2 + x1**2)**2 - 20*x0**2/(x0**2 + x1**2) + 5)/(x0**2 + x1**2)**3,\n",
       " 120*(-32*x0**6/(x0**2 + x1**2)**3 + 48*x0**4/(x0**2 + x1**2)**2 - 18*x0**2/(x0**2 + x1**2) + 1)/(x0**2 + x1**2)**3,\n",
       " -720*x0*(64*x0**6/(x0**2 + x1**2)**3 - 112*x0**4/(x0**2 + x1**2)**2 + 56*x0**2/(x0**2 + x1**2) - 7)/(x0**2 + x1**2)**4,\n",
       " 5040*(-128*x0**8/(x0**2 + x1**2)**4 + 256*x0**6/(x0**2 + x1**2)**3 - 160*x0**4/(x0**2 + x1**2)**2 + 32*x0**2/(x0**2 + x1**2) - 1)/(x0**2 + x1**2)**4,\n",
       " -40320*x0*(256*x0**8/(x0**2 + x1**2)**4 - 576*x0**6/(x0**2 + x1**2)**3 + 432*x0**4/(x0**2 + x1**2)**2 - 120*x0**2/(x0**2 + x1**2) + 9)/(x0**2 + x1**2)**5,\n",
       " 362880*(-512*x0**10/(x0**2 + x1**2)**5 + 1280*x0**8/(x0**2 + x1**2)**4 - 1120*x0**6/(x0**2 + x1**2)**3 + 400*x0**4/(x0**2 + x1**2)**2 - 50*x0**2/(x0**2 + x1**2) + 1)/(x0**2 + x1**2)**5,\n",
       " -3628800*x0*(1024*x0**10/(x0**2 + x1**2)**5 - 2816*x0**8/(x0**2 + x1**2)**4 + 2816*x0**6/(x0**2 + x1**2)**3 - 1232*x0**4/(x0**2 + x1**2)**2 + 220*x0**2/(x0**2 + x1**2) - 11)/(x0**2 + x1**2)**6,\n",
       " 39916800*(-2048*x0**12/(x0**2 + x1**2)**6 + 6144*x0**10/(x0**2 + x1**2)**5 - 6912*x0**8/(x0**2 + x1**2)**4 + 3584*x0**6/(x0**2 + x1**2)**3 - 840*x0**4/(x0**2 + x1**2)**2 + 72*x0**2/(x0**2 + x1**2) - 1)/(x0**2 + x1**2)**6,\n",
       " -479001600*x0*(4096*x0**12/(x0**2 + x1**2)**6 - 13312*x0**10/(x0**2 + x1**2)**5 + 16640*x0**8/(x0**2 + x1**2)**4 - 9984*x0**6/(x0**2 + x1**2)**3 + 2912*x0**4/(x0**2 + x1**2)**2 - 364*x0**2/(x0**2 + x1**2) + 13)/(x0**2 + x1**2)**7,\n",
       " 6227020800*(-8192*x0**14/(x0**2 + x1**2)**7 + 28672*x0**12/(x0**2 + x1**2)**6 - 39424*x0**10/(x0**2 + x1**2)**5 + 26880*x0**8/(x0**2 + x1**2)**4 - 9408*x0**6/(x0**2 + x1**2)**3 + 1568*x0**4/(x0**2 + x1**2)**2 - 98*x0**2/(x0**2 + x1**2) + 1)/(x0**2 + x1**2)**7]"
      ]
     },
     "execution_count": 66,
     "metadata": {},
     "output_type": "execute_result"
    }
   ],
   "source": [
    "[sp.diff(derivs[i], var[0], 0) for i in range(0,15,1)]"
   ]
  },
  {
   "cell_type": "code",
   "execution_count": 67,
   "metadata": {},
   "outputs": [
    {
     "data": {
      "text/plain": [
       "[log(sqrt(x1**2)),\n",
       " 0,\n",
       " x1**(-2),\n",
       " 0,\n",
       " -6/x1**4,\n",
       " 0,\n",
       " 120/x1**6,\n",
       " 0,\n",
       " -5040/x1**8,\n",
       " 0,\n",
       " 362880/x1**10,\n",
       " 0,\n",
       " -39916800/x1**12,\n",
       " 0,\n",
       " 6227020800/x1**14]"
      ]
     },
     "execution_count": 67,
     "metadata": {},
     "output_type": "execute_result"
    }
   ],
   "source": [
    "[sp.diff(derivs[i], var[0], 0).subs(var[0], 0) for i in range(0,15,1)]"
   ]
  },
  {
   "cell_type": "code",
   "execution_count": 68,
   "metadata": {},
   "outputs": [
    {
     "data": {
      "text/plain": [
       "[x1**(-2),\n",
       " 0,\n",
       " -6/x1**4,\n",
       " 0,\n",
       " 120/x1**6,\n",
       " 0,\n",
       " -5040/x1**8,\n",
       " 0,\n",
       " 362880/x1**10,\n",
       " 0,\n",
       " -39916800/x1**12,\n",
       " 0,\n",
       " 6227020800/x1**14,\n",
       " 0,\n",
       " -1307674368000/x1**16]"
      ]
     },
     "execution_count": 68,
     "metadata": {},
     "output_type": "execute_result"
    }
   ],
   "source": [
    "[sp.diff(derivs[i], var[0], 2).subs(var[0], 0)  for i in range(0,15,1)]"
   ]
  },
  {
   "cell_type": "code",
   "execution_count": 69,
   "metadata": {},
   "outputs": [
    {
     "data": {
      "text/plain": [
       "[-6/x1**4,\n",
       " 0,\n",
       " 120/x1**6,\n",
       " 0,\n",
       " -5040/x1**8,\n",
       " 0,\n",
       " 362880/x1**10,\n",
       " 0,\n",
       " -39916800/x1**12,\n",
       " 0,\n",
       " 6227020800/x1**14,\n",
       " 0,\n",
       " -1307674368000/x1**16,\n",
       " 0,\n",
       " 355687428096000/x1**18]"
      ]
     },
     "execution_count": 69,
     "metadata": {},
     "output_type": "execute_result"
    }
   ],
   "source": [
    "[sp.diff(derivs[i], var[0], 4).subs(var[0], 0) for i in range(0,15,1)]"
   ]
  },
  {
   "cell_type": "code",
   "execution_count": 62,
   "metadata": {},
   "outputs": [
    {
     "data": {
      "text/plain": [
       "[1, 6, 120, 5040, 362880, 39916800, 6227020800]"
      ]
     },
     "execution_count": 62,
     "metadata": {},
     "output_type": "execute_result"
    }
   ],
   "source": [
    "[math.factorial(2*n_v+1) for n_v in range(7)]"
   ]
  },
  {
   "cell_type": "markdown",
   "metadata": {},
   "source": [
    "# Avoiding Cat Cancellation Attempt 2"
   ]
  },
  {
   "cell_type": "markdown",
   "metadata": {},
   "source": [
    "We have\n",
    "$$\n",
    "\\text{ Given } g(0), g(1), rct = 1\n",
    "$$\n",
    "$$\n",
    "g(1) = \\frac{1}{2\\pi} \\frac{x_0}{x_0^2 + x_1^2}\n",
    "$$\n",
    "$$\n",
    "g(2) = \\frac{x_0^2 -x_1^2}{x_0^3 +x_0 x_1^2} g(1)\n",
    "$$\n",
    "$$\n",
    "g(3) = \\frac{4x_0 g(2)}{x_0^2 +  x_1^2}  - \\frac{2 g (1)}{x_0^2 + x_1^2}\n",
    "$$\n",
    "$$\n",
    "g(4) = \\frac{(7 x_0^2 + x_1^2)g(3)}{x_0^3 + x_0x_1^2}  - \\frac{10g(2)}{x_0^2 + x_1^2} + \\frac{2g(1)}{x_0^3 + x_0 x_1^2}\n",
    "$$"
   ]
  },
  {
   "cell_type": "markdown",
   "metadata": {},
   "source": [
    "Rewriting as an odd-even recurrence we get:\n",
    "$$\n",
    "g(2) =  \\frac{1}{2\\pi} \\frac{x_0^2 -x_1^2}{(x_0^2 + x_1^2)^2}   \n",
    "$$\n",
    "$$\n",
    "g(3) =  \\frac{6x_0^2 -2x_1^2}{(x_0^2 + x_1^2)^2} g(1)\n",
    "$$\n",
    "$$\n",
    "g(4) = \\frac{(7 x_0^2 + x_1^2)}{x_0^2 + x_1^2} \\left(\\frac{4 g(2)}{x_0^2 +  x_1^2}  - \\frac{1 }{\\pi(x_0^2 + x_1^2)^2} \\right) - \\frac{10g(2)}{x_0^2 + x_1^2} + \\frac{1}{x_0^2 + x_1^2} \\frac{1}{\\pi} \\frac{1}{x_0^2 + x_1^2}\n",
    "$$\n",
    "$$\n",
    "g(4) = \\frac{18x_0^2 - 6x_1^2}{(x_0^2 + x_1^2)^2} g(2) + \\frac{-(7 x_0^2 + x_1^2) + 1}{\\pi(x_0^2 + x_1^2)^2}\n",
    "$$"
   ]
  },
  {
   "cell_type": "code",
   "execution_count": null,
   "metadata": {},
   "outputs": [],
   "source": [
    "def odd_even(i):\n",
    "    #Pseudocode\n",
    "    #Step 1 use extract_idx_terms from recurrence\n",
    "    #Use odd-even to recursively? substitute odd or even terms\n",
    "    #Should take in dictionary?\n",
    "    #The problem is when we try and replace the smallest even\n",
    "    #term, we get a smaller even term. Have we already computed\n",
    "    #Are we even only to a certain order????\n",
    "    #Yes you can assume every even/odd terms has been computed accurately\n",
    "    #Let us try with a dictionary first\n",
    "    return 0"
   ]
  },
  {
   "cell_type": "code",
   "execution_count": null,
   "metadata": {},
   "outputs": [],
   "source": [
    "'''\n",
    "x_plot = [i for i in range(len(compute_error(0)))]\n",
    "for i in range(1, 4):\n",
    "    plt.semilogy(x_plot, compute_error(i), label=str(10**(-i)))\n",
    "plt.xlabel(\"order of derivative being computed\")\n",
    "plt.ylabel(\"absolute error\")\n",
    "plt.title(\"recurrence error vs order for different source-locations\")\n",
    "plt.legend(title='ratio of x_{coord_src}/y_{coord_src}')\n",
    "plt.show()\n",
    "'''"
   ]
  }
 ],
 "metadata": {
  "kernelspec": {
   "display_name": "Python 3",
   "language": "python",
   "name": "python3"
  },
  "language_info": {
   "codemirror_mode": {
    "name": "ipython",
    "version": 3
   },
   "file_extension": ".py",
   "mimetype": "text/x-python",
   "name": "python",
   "nbconvert_exporter": "python",
   "pygments_lexer": "ipython3",
   "version": "3.11.9"
  }
 },
 "nbformat": 4,
 "nbformat_minor": 2
}
