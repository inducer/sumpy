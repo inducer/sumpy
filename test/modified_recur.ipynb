{
 "cells": [
  {
   "cell_type": "code",
   "execution_count": 1,
   "metadata": {},
   "outputs": [],
   "source": [
    "from sumpy.recurrence import _make_sympy_vec, get_processed_and_shifted_recurrence\n",
    "\n",
    "from sumpy.expansion.diff_op import (\n",
    "    laplacian,\n",
    "    make_identity_diff_op,\n",
    ")\n",
    "\n",
    "from sumpy.recurrence import get_recurrence\n",
    "\n",
    "import sympy as sp\n",
    "import numpy as np\n",
    "\n",
    "import math"
   ]
  },
  {
   "cell_type": "code",
   "execution_count": 2,
   "metadata": {},
   "outputs": [],
   "source": [
    "w = make_identity_diff_op(2)\n",
    "laplace2d = laplacian(w)\n",
    "n_init, order, r = get_processed_and_shifted_recurrence(laplace2d)"
   ]
  },
  {
   "cell_type": "code",
   "execution_count": 3,
   "metadata": {},
   "outputs": [],
   "source": [
    "def scale_recurrence(r):\n",
    "    #We want to subsitute s(i) r^i_{ct} = g(i)\n",
    "    g = sp.Function(\"g\")\n",
    "    s = sp.Function(\"s\")\n",
    "    n = sp.symbols(\"n\")\n",
    "    rct = sp.symbols(\"r_{ct}\")\n",
    "\n",
    "    r_new = r*rct**n\n",
    "    for i in range(order):\n",
    "        r_new = r_new.subs(s(n-i),g(n-i)/(rct**(n-i)))\n",
    "\n",
    "    return r_new"
   ]
  },
  {
   "cell_type": "code",
   "execution_count": 4,
   "metadata": {},
   "outputs": [],
   "source": [
    "r_new = scale_recurrence(r)"
   ]
  },
  {
   "cell_type": "code",
   "execution_count": 5,
   "metadata": {},
   "outputs": [],
   "source": [
    "max_abs = .0000001\n",
    "var = _make_sympy_vec(\"x\", 2)\n",
    "rct = sp.symbols(\"r_{ct}\")\n",
    "g = sp.Function(\"g\")\n",
    "n = sp.symbols(\"n\")\n",
    "coord_dict = {var[0]: 1, var[1]: 1}"
   ]
  },
  {
   "cell_type": "code",
   "execution_count": 6,
   "metadata": {},
   "outputs": [
    {
     "data": {
      "text/latex": [
       "$\\displaystyle \\left(-1\\right)^{n + 1} r_{ct}^{n} \\left(\\frac{\\left(-1\\right)^{n - 3} r_{ct}^{3 - n} \\left(n + \\left(n - 2\\right)^{3} - 2 \\left(n - 2\\right)^{2} - 2\\right) g{\\left(n - 3 \\right)}}{x_{0}^{3} + x_{0} x_{1}^{2}} + \\frac{\\left(-1\\right)^{n - 2} r_{ct}^{2 - n} \\left(- n + 3 \\left(n - 2\\right)^{2} + 2\\right) g{\\left(n - 2 \\right)}}{x_{0}^{2} + x_{1}^{2}} + \\frac{\\left(-1\\right)^{n - 1} r_{ct}^{1 - n} \\left(3 x_{0}^{2} \\left(n - 2\\right) + x_{0}^{2} + x_{1}^{2} \\left(n - 2\\right) - x_{1}^{2}\\right) g{\\left(n - 1 \\right)}}{x_{0}^{3} + x_{0} x_{1}^{2}}\\right)$"
      ],
      "text/plain": [
       "(-1)**(n + 1)*r_{ct}**n*((-1)**(n - 3)*r_{ct}**(3 - n)*(n + (n - 2)**3 - 2*(n - 2)**2 - 2)*g(n - 3)/(x0**3 + x0*x1**2) + (-1)**(n - 2)*r_{ct}**(2 - n)*(-n + 3*(n - 2)**2 + 2)*g(n - 2)/(x0**2 + x1**2) + (-1)**(n - 1)*r_{ct}**(1 - n)*(3*x0**2*(n - 2) + x0**2 + x1**2*(n - 2) - x1**2)*g(n - 1)/(x0**3 + x0*x1**2))"
      ]
     },
     "execution_count": 6,
     "metadata": {},
     "output_type": "execute_result"
    }
   ],
   "source": [
    "r_new"
   ]
  },
  {
   "cell_type": "code",
   "execution_count": 7,
   "metadata": {},
   "outputs": [],
   "source": [
    "def compute_derivatives(p):\n",
    "    var = _make_sympy_vec(\"x\", 2)\n",
    "    var_t = _make_sympy_vec(\"t\", 2)\n",
    "    g_x_y = sp.log(sp.sqrt((var[0]-var_t[0])**2 + (var[1]-var_t[1])**2))\n",
    "    derivs = [sp.diff(g_x_y,\n",
    "                        var_t[0], i).subs(var_t[0], 0).subs(var_t[1], 0)\n",
    "                        for i in range(p)]\n",
    "    return derivs\n",
    "derivs = compute_derivatives(10)"
   ]
  },
  {
   "cell_type": "code",
   "execution_count": 8,
   "metadata": {},
   "outputs": [],
   "source": [
    "def evaluate_recurrence(coord_dict, rct_val, recur, p):\n",
    "    subs_dict = {}\n",
    "    subs_dict[g(0)] = derivs[0].subs(coord_dict).subs(rct, rct_val)\n",
    "    subs_dict[g(1)] = derivs[1].subs(coord_dict).subs(rct, rct_val) * rct_val\n",
    "    var = _make_sympy_vec(\"x\", 2)\n",
    "    for i in range(2, p):\n",
    "        subs_dict[g(i)] = get_recurrence(recur.subs(rct, rct_val), i).subs(subs_dict).subs(coord_dict)\n",
    "        print(get_recurrence(recur.subs(rct, 1),i))\n",
    "    return np.array(list(subs_dict.values()))"
   ]
  },
  {
   "cell_type": "code",
   "execution_count": 9,
   "metadata": {},
   "outputs": [],
   "source": [
    "def evaluate_recurrence_lamb(coord_dict, rct_val, recur, p):\n",
    "    subs_dict = {}\n",
    "    subs_dict[g(-2)] = 0\n",
    "    subs_dict[g(-1)] = 0\n",
    "    subs_dict[g(0)] = derivs[0].subs(coord_dict).subs(rct, rct_val)\n",
    "    subs_dict[g(1)] = derivs[1].subs(coord_dict).subs(rct, rct_val) * rct_val\n",
    "    var = _make_sympy_vec(\"x\", 2)\n",
    "    for i in range(2, p):\n",
    "        exp = get_recurrence(recur.subs(rct, rct_val), i)\n",
    "        f = sp.lambdify([var[0], var[1], g(i-1), g(i-2), g(i-3)], exp)\n",
    "        subs_dict[g(i)] = f(coord_dict[var[0]], coord_dict[var[1]], subs_dict[g(i-1)],\n",
    "                            subs_dict[g(i-2)], subs_dict[g(i-3)])\n",
    "    subs_dict.pop(g(-2))\n",
    "    subs_dict.pop(g(-1))\n",
    "    return np.array(list(subs_dict.values()))"
   ]
  },
  {
   "cell_type": "code",
   "execution_count": 10,
   "metadata": {},
   "outputs": [],
   "source": [
    "def evaluate_true(coord_dict, rct_val, p):\n",
    "    retMe = []\n",
    "    for i in range(p):\n",
    "        exp = (derivs[i]*rct_val**i)\n",
    "        f = sp.lambdify(var, exp)\n",
    "        retMe.append(f(coord_dict[var[0]], coord_dict[var[1]]))\n",
    "    return np.array(retMe)"
   ]
  },
  {
   "cell_type": "code",
   "execution_count": 11,
   "metadata": {},
   "outputs": [],
   "source": [
    "def compute_error(pw):\n",
    "    x_coord = 10**(-pw)\n",
    "    y_coord = 1\n",
    "    var = _make_sympy_vec(\"x\", 2)\n",
    "    coord_dict = {var[0]: x_coord, var[1]: y_coord}\n",
    "\n",
    "    rct_val = 1\n",
    "    exp = evaluate_recurrence_lamb(coord_dict, rct_val, r_new, 9)\n",
    "    true = evaluate_true(coord_dict, rct_val, 9)\n",
    "\n",
    "    print(true)\n",
    "\n",
    "    return np.abs(exp-true)/np.abs(true)"
   ]
  },
  {
   "cell_type": "code",
   "execution_count": 12,
   "metadata": {},
   "outputs": [
    {
     "name": "stdout",
     "output_type": "stream",
     "text": [
      "[ 0.00e+00 -1.00e-08  1.00e+00  6.00e-08 -6.00e+00 -1.20e-06  1.20e+02\n",
      "  5.04e-05 -5.04e+03]\n"
     ]
    },
    {
     "data": {
      "text/plain": [
       "array([nan, 0, 1.11022302462516e-16, 2.20581496680807e-16, 0,\n",
       "       0.192092895507813, 0.576278686523440, 548836844308037.,\n",
       "       2.74418422154019e+15], dtype=object)"
      ]
     },
     "execution_count": 12,
     "metadata": {},
     "output_type": "execute_result"
    }
   ],
   "source": [
    "compute_error(8)"
   ]
  },
  {
   "cell_type": "markdown",
   "metadata": {},
   "source": [
    "# Avoiding Cat Cancellation: Attempt 1\n",
    "The question is can we avoid catastrophic cancellation in the recurrence when $x_0 << 1$? Where $(x_0, y_0)$ is the location of the source?\n",
    "\n",
    "If we formulate a recurrence for\n",
    "$$\n",
    "g(i, x_0, y_0) = \\frac{d^i}{dx^i}|_{x = 0} G(x, y) r_{ct}^i\n",
    "$$\n",
    "we will inevitably get catastrophic cancellation when $x_0 << y_0$. Suppose we let $r_{ct} = x_0$ (we can scale up and down later with the true $r_{ct}$) and have\n",
    "$$\n",
    "g(n, x_0, y_0) = f_1(x_0, y_0, n-1) g(n-1, x_0, y_0) + f_2(x_0, y_0, n-2) g(n-2, x_0, y_0) + f_3(x_0, y_0, n-3) g(n-3, x_0, y_0)\n",
    "$$\n",
    "we could treat $g(n-1, x_0, y_0), g(n-2, x_0, y_0), g(n-3, x_0, y_0)$ as constants and taylor expand  $f_i(x_0, y_0, j)$ when $x_0  << y_0$. So instead we get for example:\n",
    "$$\n",
    "g(2) = -g(1) + \\frac{4g(1)}{x_1^2} \\frac{x_0^2}{2!} - \\frac{48 g(1)}{x_1^4} \\frac{x_0^4}{4!} \n",
    "$$\n",
    "$$\n",
    "g(3) = -\\frac{4(g(1)-2g(2))}{x_1^2} \\frac{x_0^2}{2!} - \\frac{48 (g(1)-2g(2))}{x_1^4} \\frac{x_0^4}{4!} \n",
    "$$\n",
    "$$\n",
    "g(4) = g(3) - \\frac{4(g(1)-5g(2)+3g(3))}{x_1^2 }  \\frac{x_0^2}{2!} - \\frac{48(g(1)-5g(2)+3g(3))}{x_1^4} \\frac{x_0^4}{4!} \n",
    "$$\n",
    "$$\n",
    "g(5) = 2g(4) + \\frac{8(3g(2)-6g(3)+2g(4))}{x_1^2} \\frac{x_0^2}{2!}\n",
    "$$"
   ]
  },
  {
   "cell_type": "code",
   "execution_count": 13,
   "metadata": {},
   "outputs": [],
   "source": [
    "def generate_specialized_formula(i, order):\n",
    "    a = sp.cancel(r_new.subs(rct, var[0]).subs(n, i))\n",
    "    res = 0\n",
    "    for j in range(order+1):\n",
    "        res += sp.simplify(sp.diff(a, var[0], j).subs(var[0], 0)) * var[0]**j/math.factorial(j)\n",
    "    return res"
   ]
  },
  {
   "cell_type": "code",
   "execution_count": 14,
   "metadata": {},
   "outputs": [],
   "source": [
    "def evaluate_specialized_formula(coord_dict, p, rct_val, order_approx):\n",
    "    subs_dict = {}\n",
    "    subs_dict[g(-2)] = 0\n",
    "    subs_dict[g(-1)] = 0\n",
    "    subs_dict[g(0)] = derivs[0].subs(coord_dict)\n",
    "    subs_dict[g(1)] = derivs[1].subs(coord_dict) * rct_val\n",
    "    var = _make_sympy_vec(\"x\", 2)\n",
    "    for i in range(2, p):\n",
    "        exp = generate_specialized_formula(i, order_approx)\n",
    "        f = sp.lambdify([var[0], var[1], g(i-1), g(i-2), g(i-3)], exp)\n",
    "        subs_dict[g(i)] = f(coord_dict[var[0]], coord_dict[var[1]], subs_dict[g(i-1)],\n",
    "                            subs_dict[g(i-2)], subs_dict[g(i-3)])\n",
    "    subs_dict.pop(g(-2))\n",
    "    subs_dict.pop(g(-1))\n",
    "    return np.array(list(subs_dict.values()))"
   ]
  },
  {
   "cell_type": "code",
   "execution_count": 15,
   "metadata": {},
   "outputs": [],
   "source": [
    "def compute_error_using_specialized_formula(pw, order_approx):\n",
    "    x_coord = 10**(-pw)\n",
    "    y_coord = 1\n",
    "    var = _make_sympy_vec(\"x\", 2)\n",
    "    coord_dict = {var[0]: x_coord, var[1]: y_coord}\n",
    "\n",
    "    rct_val = x_coord\n",
    "    exp = evaluate_specialized_formula(coord_dict, 9, rct_val, order_approx)\n",
    "    true = evaluate_true(coord_dict, rct_val, 9)\n",
    "    print(exp)\n",
    "    print(true)\n",
    "    return np.abs(exp-true)/np.abs(true)"
   ]
  },
  {
   "cell_type": "code",
   "execution_count": 16,
   "metadata": {},
   "outputs": [
    {
     "name": "stdout",
     "output_type": "stream",
     "text": [
      "[5.00000041357686e-11 -9.99999999900000e-11 9.99999999700000e-11\n",
      " 5.99999999800000e-20 -5.99999999400000e-20 -1.19999928158156e-28\n",
      " 1.20000215021531e-28 8.61598124858447e-34 4.30496662438318e-33]\n",
      "[ 5.00000041e-11 -1.00000000e-10  1.00000000e-10  6.00000000e-20\n",
      " -5.99999999e-20 -1.20000000e-28  1.20000000e-28  5.03999999e-37\n",
      " -5.03999998e-37]\n"
     ]
    },
    {
     "data": {
      "text/plain": [
       "array([0, 0, 1.29246970750185e-16, 4.01235405214419e-16,\n",
       "       2.00617702740955e-16, 5.97982031121250e-7, 1.79394609774367e-6,\n",
       "       1708.52009105628, 8542.60047595449], dtype=object)"
      ]
     },
     "execution_count": 16,
     "metadata": {},
     "output_type": "execute_result"
    }
   ],
   "source": [
    "compute_error_using_specialized_formula(5, 25)"
   ]
  },
  {
   "cell_type": "code",
   "execution_count": 17,
   "metadata": {},
   "outputs": [
    {
     "name": "stdout",
     "output_type": "stream",
     "text": [
      "[ 5.00000041e-11 -1.00000000e-05  1.00000000e+00  6.00000000e-05\n",
      " -5.99999999e+00 -1.20000000e-03  1.20000000e+02  5.03999999e-02\n",
      " -5.03999998e+03]\n"
     ]
    },
    {
     "data": {
      "text/plain": [
       "array([0, 0, 1.11022302495822e-16, 0, 4.44089210294152e-16,\n",
       "       1.45828085314177e-7, 4.37484255134502e-7, 416.651671175665,\n",
       "       2083.25836091981], dtype=object)"
      ]
     },
     "execution_count": 17,
     "metadata": {},
     "output_type": "execute_result"
    }
   ],
   "source": [
    "compute_error(5)"
   ]
  },
  {
   "cell_type": "markdown",
   "metadata": {},
   "source": [
    "# Avoiding Cat Cancellation Attempt 2"
   ]
  },
  {
   "cell_type": "markdown",
   "metadata": {},
   "source": [
    "We have\n",
    "$$\n",
    "\\text{ Given } g(0), g(1), rct = 1\n",
    "$$\n",
    "$$\n",
    "g(1) = \\frac{1}{2\\pi} \\frac{x_0}{x_0^2 + x_1^2}\n",
    "$$\n",
    "$$\n",
    "g(2) = \\frac{x_0^2 -x_1^2}{x_0^3 +x_0 x_1^2} g(1)\n",
    "$$\n",
    "$$\n",
    "g(3) = \\frac{4x_0 g(2)}{x_0^2 +  x_1^2}  - \\frac{2 g (1)}{x_0^2 + x_1^2}\n",
    "$$\n",
    "$$\n",
    "g(4) = \\frac{(7 x_0^2 + x_1^2)g(3)}{x_0^3 + x_0x_1^2}  - \\frac{10g(2)}{x_0^2 + x_1^2} + \\frac{2g(1)}{x_0^3 + x_0 x_1^2}\n",
    "$$"
   ]
  },
  {
   "cell_type": "markdown",
   "metadata": {},
   "source": [
    "Rewriting as an odd-even recurrence we get:\n",
    "$$\n",
    "g(2) =  \\frac{1}{2\\pi} \\frac{x_0^2 -x_1^2}{(x_0^2 + x_1^2)^2}   \n",
    "$$\n",
    "$$\n",
    "g(3) =  \\frac{6x_0^2 -2x_1^2}{(x_0^2 + x_1^2)^2} g(1)\n",
    "$$\n",
    "$$\n",
    "g(4) = \\frac{(7 x_0^2 + x_1^2)}{x_0^2 + x_1^2} \\left(\\frac{4 g(2)}{x_0^2 +  x_1^2}  - \\frac{1 }{\\pi(x_0^2 + x_1^2)^2} \\right) - \\frac{10g(2)}{x_0^2 + x_1^2} + \\frac{1}{x_0^2 + x_1^2} \\frac{1}{\\pi} \\frac{1}{x_0^2 + x_1^2}\n",
    "$$\n",
    "$$\n",
    "g(4) = \\frac{18x_0^2 - 6x_1^2}{(x_0^2 + x_1^2)^2} g(2) + \\frac{-(7 x_0^2 + x_1^2) + 1}{\\pi(x_0^2 + x_1^2)^2}\n",
    "$$"
   ]
  },
  {
   "cell_type": "code",
   "execution_count": 19,
   "metadata": {},
   "outputs": [
    {
     "data": {
      "text/plain": [
       "'\\nx_plot = [i for i in range(len(compute_error(0)))]\\nfor i in range(1, 4):\\n    plt.semilogy(x_plot, compute_error(i), label=str(10**(-i)))\\nplt.xlabel(\"order of derivative being computed\")\\nplt.ylabel(\"absolute error\")\\nplt.title(\"recurrence error vs order for different source-locations\")\\nplt.legend(title=\\'ratio of x_{coord_src}/y_{coord_src}\\')\\nplt.show()\\n'"
      ]
     },
     "execution_count": 19,
     "metadata": {},
     "output_type": "execute_result"
    }
   ],
   "source": [
    "'''\n",
    "x_plot = [i for i in range(len(compute_error(0)))]\n",
    "for i in range(1, 4):\n",
    "    plt.semilogy(x_plot, compute_error(i), label=str(10**(-i)))\n",
    "plt.xlabel(\"order of derivative being computed\")\n",
    "plt.ylabel(\"absolute error\")\n",
    "plt.title(\"recurrence error vs order for different source-locations\")\n",
    "plt.legend(title='ratio of x_{coord_src}/y_{coord_src}')\n",
    "plt.show()\n",
    "'''"
   ]
  }
 ],
 "metadata": {
  "kernelspec": {
   "display_name": "Python 3",
   "language": "python",
   "name": "python3"
  },
  "language_info": {
   "codemirror_mode": {
    "name": "ipython",
    "version": 3
   },
   "file_extension": ".py",
   "mimetype": "text/x-python",
   "name": "python",
   "nbconvert_exporter": "python",
   "pygments_lexer": "ipython3",
   "version": "3.11.9"
  }
 },
 "nbformat": 4,
 "nbformat_minor": 2
}
