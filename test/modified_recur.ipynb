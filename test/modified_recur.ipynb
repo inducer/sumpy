{
 "cells": [
  {
   "cell_type": "code",
   "execution_count": 3,
   "metadata": {},
   "outputs": [],
   "source": [
    "from sumpy.recurrence import _make_sympy_vec, get_processed_and_shifted_recurrence\n",
    "\n",
    "from sumpy.expansion.diff_op import (\n",
    "    laplacian,\n",
    "    make_identity_diff_op,\n",
    ")\n",
    "\n",
    "from sumpy.recurrence import get_recurrence\n",
    "\n",
    "import sympy as sp\n",
    "import numpy as np"
   ]
  },
  {
   "cell_type": "code",
   "execution_count": 4,
   "metadata": {},
   "outputs": [],
   "source": [
    "w = make_identity_diff_op(2)\n",
    "laplace2d = laplacian(w)\n",
    "n_init, order, r = get_processed_and_shifted_recurrence(laplace2d)"
   ]
  },
  {
   "cell_type": "code",
   "execution_count": 5,
   "metadata": {},
   "outputs": [],
   "source": [
    "def scale_recurrence(r):\n",
    "    #We want to subsitute s(i) r^i_{ct} = g(i)\n",
    "    g = sp.Function(\"g\")\n",
    "    s = sp.Function(\"s\")\n",
    "    n = sp.symbols(\"n\")\n",
    "    rct = sp.symbols(\"r_{ct}\")\n",
    "\n",
    "    r_new = r*rct**n\n",
    "    for i in range(order):\n",
    "        r_new = r_new.subs(s(n-i),g(n-i)/(rct**(n-i)))\n",
    "\n",
    "    return r_new"
   ]
  },
  {
   "cell_type": "code",
   "execution_count": 6,
   "metadata": {},
   "outputs": [],
   "source": [
    "r_new = scale_recurrence(r)"
   ]
  },
  {
   "cell_type": "code",
   "execution_count": 7,
   "metadata": {},
   "outputs": [],
   "source": [
    "max_abs = .0000001\n",
    "var = _make_sympy_vec(\"x\", 2)\n",
    "rct = sp.symbols(\"r_{ct}\")\n",
    "g = sp.Function(\"g\")\n",
    "n = sp.symbols(\"n\")"
   ]
  },
  {
   "cell_type": "code",
   "execution_count": 8,
   "metadata": {},
   "outputs": [
    {
     "data": {
      "text/latex": [
       "$\\displaystyle \\left(-1\\right)^{n + 1} r_{ct}^{n} \\left(\\frac{\\left(-1\\right)^{n - 3} r_{ct}^{3 - n} \\left(n + \\left(n - 2\\right)^{3} - 2 \\left(n - 2\\right)^{2} - 2\\right) g{\\left(n - 3 \\right)}}{x_{0}^{3} + x_{0} x_{1}^{2}} + \\frac{\\left(-1\\right)^{n - 2} r_{ct}^{2 - n} \\left(- n + 3 \\left(n - 2\\right)^{2} + 2\\right) g{\\left(n - 2 \\right)}}{x_{0}^{2} + x_{1}^{2}} + \\frac{\\left(-1\\right)^{n - 1} r_{ct}^{1 - n} \\left(3 x_{0}^{2} \\left(n - 2\\right) + x_{0}^{2} + x_{1}^{2} \\left(n - 2\\right) - x_{1}^{2}\\right) g{\\left(n - 1 \\right)}}{x_{0}^{3} + x_{0} x_{1}^{2}}\\right)$"
      ],
      "text/plain": [
       "(-1)**(n + 1)*r_{ct}**n*((-1)**(n - 3)*r_{ct}**(3 - n)*(n + (n - 2)**3 - 2*(n - 2)**2 - 2)*g(n - 3)/(x0**3 + x0*x1**2) + (-1)**(n - 2)*r_{ct}**(2 - n)*(-n + 3*(n - 2)**2 + 2)*g(n - 2)/(x0**2 + x1**2) + (-1)**(n - 1)*r_{ct}**(1 - n)*(3*x0**2*(n - 2) + x0**2 + x1**2*(n - 2) - x1**2)*g(n - 1)/(x0**3 + x0*x1**2))"
      ]
     },
     "execution_count": 8,
     "metadata": {},
     "output_type": "execute_result"
    }
   ],
   "source": [
    "r_new"
   ]
  },
  {
   "cell_type": "code",
   "execution_count": 9,
   "metadata": {},
   "outputs": [],
   "source": [
    "def compute_derivatives(p):\n",
    "    var = _make_sympy_vec(\"x\", 2)\n",
    "    var_t = _make_sympy_vec(\"t\", 2)\n",
    "    g_x_y = sp.log(sp.sqrt((var[0]-var_t[0])**2 + (var[1]-var_t[1])**2))\n",
    "    derivs = [sp.diff(g_x_y,\n",
    "                        var_t[0], i).subs(var_t[0], 0).subs(var_t[1], 0)\n",
    "                        for i in range(p)]\n",
    "    return derivs\n",
    "derivs = compute_derivatives(15)"
   ]
  },
  {
   "cell_type": "code",
   "execution_count": 10,
   "metadata": {},
   "outputs": [],
   "source": [
    "def evaluate_recurrence(coord_dict, rct_val, recur, p):\n",
    "    subs_dict = {}\n",
    "    subs_dict[g(0)] = derivs[0].subs(coord_dict).subs(rct, rct_val)\n",
    "    subs_dict[g(1)] = derivs[1].subs(coord_dict).subs(rct, rct_val) * rct_val\n",
    "    var = _make_sympy_vec(\"x\", 2)\n",
    "    for i in range(2, p):\n",
    "        subs_dict[g(i)] = get_recurrence(recur.subs(rct, rct_val), i).subs(subs_dict).subs(coord_dict)\n",
    "        print(get_recurrence(recur.subs(rct, 1),i))\n",
    "    return np.array(list(subs_dict.values()))"
   ]
  },
  {
   "cell_type": "code",
   "execution_count": 11,
   "metadata": {},
   "outputs": [],
   "source": [
    "def evaluate_recurrence_lamb(coord_dict, rct_val, recur, p):\n",
    "    subs_dict = {}\n",
    "    subs_dict[g(-2)] = 0\n",
    "    subs_dict[g(-1)] = 0\n",
    "    subs_dict[g(0)] = derivs[0].subs(coord_dict).subs(rct, rct_val)\n",
    "    subs_dict[g(1)] = derivs[1].subs(coord_dict).subs(rct, rct_val) * rct_val\n",
    "    var = _make_sympy_vec(\"x\", 2)\n",
    "    for i in range(2, p):\n",
    "        exp = get_recurrence(recur.subs(rct, rct_val), i)\n",
    "        f = sp.lambdify([var[0], var[1], g(i-1), g(i-2), g(i-3)], exp)\n",
    "        subs_dict[g(i)] = f(coord_dict[var[0]], coord_dict[var[1]], subs_dict[g(i-1)],\n",
    "                            subs_dict[g(i-2)], subs_dict[g(i-3)])\n",
    "    subs_dict.pop(g(-2))\n",
    "    subs_dict.pop(g(-1))\n",
    "    return np.array(list(subs_dict.values()))"
   ]
  },
  {
   "cell_type": "code",
   "execution_count": 12,
   "metadata": {},
   "outputs": [],
   "source": [
    "def evaluate_true(coord_dict, rct_val, p):\n",
    "    retMe = []\n",
    "    for i in range(p):\n",
    "        exp = (derivs[i]*rct_val**i)\n",
    "        f = sp.lambdify(var, exp)\n",
    "        retMe.append(f(coord_dict[var[0]], coord_dict[var[1]]))\n",
    "    return np.array(retMe)"
   ]
  },
  {
   "cell_type": "code",
   "execution_count": 13,
   "metadata": {},
   "outputs": [],
   "source": [
    "def compute_error(pw):\n",
    "    x_coord = 0.11302666666666661\n",
    "    y_coord = 0\n",
    "    var = _make_sympy_vec(\"x\", 2)\n",
    "    coord_dict = {var[0]: x_coord, var[1]: y_coord}\n",
    "\n",
    "    rct_val = 1\n",
    "    exp = evaluate_recurrence_lamb(coord_dict, rct_val, r_new, 14)\n",
    "    true = evaluate_true(coord_dict, rct_val, 14)\n",
    "    print(exp)\n",
    "    print(true)\n",
    "    return np.abs(exp-true)/np.abs(true)"
   ]
  },
  {
   "cell_type": "code",
   "execution_count": 14,
   "metadata": {},
   "outputs": [
    {
     "name": "stdout",
     "output_type": "stream",
     "text": [
      "[-2.18013149991004 -8.84746962368763 -78.2777187420753 -1385.11947756415\n",
      " -36764.4075087807 -1301087.91466724 -57556679.0138276 -3055385815.29108\n",
      " -189227032326.038 -13393443363881.4 -1.06648274986670e+15\n",
      " -9.43567373363252e+16 -9.18300204110757e+18 -9.74955979355538e+20]\n",
      "[-2.18013150e+00 -8.84746962e+00 -7.82777187e+01 -1.38511948e+03\n",
      " -3.67644075e+04 -1.30108791e+06 -5.75566790e+07 -3.05538582e+09\n",
      " -1.89227032e+11 -1.33934434e+13 -1.06648275e+15 -9.43567373e+16\n",
      " -9.18300204e+18 -9.74955979e+20]\n"
     ]
    },
    {
     "data": {
      "text/plain": [
       "array([0, 2.00775692367946e-16, 0, 1.64154557874739e-16,\n",
       "       7.91630613108144e-16, 2.14740886634168e-15, 1.03558172216766e-15,\n",
       "       2.18490253552735e-15, 4.03187347889313e-15, 6.99969361522217e-15,\n",
       "       3.30056909072257e-13, 2.10944131408974e-13, 2.03840965255176e-13,\n",
       "       1.33202052553871e-12], dtype=object)"
      ]
     },
     "execution_count": 14,
     "metadata": {},
     "output_type": "execute_result"
    }
   ],
   "source": [
    "compute_error(7)"
   ]
  },
  {
   "cell_type": "code",
   "execution_count": 68,
   "metadata": {},
   "outputs": [
    {
     "data": {
      "text/plain": [
       "-0.0"
      ]
     },
     "execution_count": 68,
     "metadata": {},
     "output_type": "execute_result"
    }
   ],
   "source": [
    "pw = 8\n",
    "x0 = 1\n",
    "x1 = 10**(-pw)\n",
    "g_1 = -5000000000.00000\n",
    "g_2 = (x0**2 - x1**2)*g_1/(x0**3 + x0*x1**2)\n",
    "g_2"
   ]
  },
  {
   "cell_type": "code",
   "execution_count": 72,
   "metadata": {},
   "outputs": [
    {
     "data": {
      "text/latex": [
       "$\\displaystyle - \\frac{720 x_{0} \\left(\\frac{64 x_{0}^{6}}{\\left(x_{0}^{2} + x_{1}^{2}\\right)^{3}} - \\frac{112 x_{0}^{4}}{\\left(x_{0}^{2} + x_{1}^{2}\\right)^{2}} + \\frac{56 x_{0}^{2}}{x_{0}^{2} + x_{1}^{2}} - 7\\right)}{\\left(x_{0}^{2} + x_{1}^{2}\\right)^{4}}$"
      ],
      "text/plain": [
       "-720*x0*(64*x0**6/(x0**2 + x1**2)**3 - 112*x0**4/(x0**2 + x1**2)**2 + 56*x0**2/(x0**2 + x1**2) - 7)/(x0**2 + x1**2)**4"
      ]
     },
     "execution_count": 72,
     "metadata": {},
     "output_type": "execute_result"
    }
   ],
   "source": [
    "derivs[7]"
   ]
  },
  {
   "cell_type": "code",
   "execution_count": 71,
   "metadata": {},
   "outputs": [
    {
     "data": {
      "text/latex": [
       "$\\displaystyle 0.555111512312578$"
      ],
      "text/plain": [
       "0.555111512312578"
      ]
     },
     "execution_count": 71,
     "metadata": {},
     "output_type": "execute_result"
    }
   ],
   "source": [
    "derivs[2].subs(var[0], 10**(-8)).subs(var[1], 10**(-8))"
   ]
  },
  {
   "cell_type": "code",
   "execution_count": 51,
   "metadata": {},
   "outputs": [
    {
     "data": {
      "text/plain": [
       "-0.0"
      ]
     },
     "execution_count": 51,
     "metadata": {},
     "output_type": "execute_result"
    }
   ],
   "source": [
    "g_2"
   ]
  },
  {
   "cell_type": "code",
   "execution_count": 14,
   "metadata": {},
   "outputs": [
    {
     "data": {
      "text/plain": [
       "'\\nx_plot = [i for i in range(len(compute_error(0)))]\\nfor i in range(1, 4):\\n    plt.semilogy(x_plot, compute_error(i), label=str(10**(-i)))\\nplt.xlabel(\"order of derivative being computed\")\\nplt.ylabel(\"absolute error\")\\nplt.title(\"recurrence error vs order for different source-locations\")\\nplt.legend(title=\\'ratio of x_{coord_src}/y_{coord_src}\\')\\nplt.show()\\n'"
      ]
     },
     "execution_count": 14,
     "metadata": {},
     "output_type": "execute_result"
    }
   ],
   "source": [
    "'''\n",
    "x_plot = [i for i in range(len(compute_error(0)))]\n",
    "for i in range(1, 4):\n",
    "    plt.semilogy(x_plot, compute_error(i), label=str(10**(-i)))\n",
    "plt.xlabel(\"order of derivative being computed\")\n",
    "plt.ylabel(\"absolute error\")\n",
    "plt.title(\"recurrence error vs order for different source-locations\")\n",
    "plt.legend(title='ratio of x_{coord_src}/y_{coord_src}')\n",
    "plt.show()\n",
    "'''"
   ]
  }
 ],
 "metadata": {
  "kernelspec": {
   "display_name": "Python 3",
   "language": "python",
   "name": "python3"
  },
  "language_info": {
   "codemirror_mode": {
    "name": "ipython",
    "version": 3
   },
   "file_extension": ".py",
   "mimetype": "text/x-python",
   "name": "python",
   "nbconvert_exporter": "python",
   "pygments_lexer": "ipython3",
   "version": "3.11.9"
  }
 },
 "nbformat": 4,
 "nbformat_minor": 2
}
