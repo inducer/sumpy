{
 "cells": [
  {
   "cell_type": "code",
   "execution_count": 1,
   "metadata": {},
   "outputs": [],
   "source": [
    "from sumpy.recurrence import _make_sympy_vec, get_processed_and_shifted_recurrence\n",
    "\n",
    "from sumpy.expansion.diff_op import (\n",
    "    laplacian,\n",
    "    make_identity_diff_op,\n",
    ")\n",
    "\n",
    "from sumpy.recurrence import get_recurrence\n",
    "\n",
    "import sympy as sp\n",
    "from sympy import hankel1\n",
    "\n",
    "import numpy as np\n",
    "\n",
    "import math\n",
    "\n",
    "import matplotlib.pyplot as plt\n",
    "from matplotlib import cm, ticker"
   ]
  },
  {
   "cell_type": "code",
   "execution_count": 2,
   "metadata": {},
   "outputs": [],
   "source": [
    "w = make_identity_diff_op(2)\n",
    "laplace2d = laplacian(w)\n",
    "n_init_lap, order_lap, recur_laplace = get_processed_and_shifted_recurrence(laplace2d)\n",
    "\n",
    "w = make_identity_diff_op(2)\n",
    "helmholtz2d = laplacian(w) + w\n",
    "n_init_helm, order_helm, recur_helmholtz = get_processed_and_shifted_recurrence(helmholtz2d)"
   ]
  },
  {
   "cell_type": "code",
   "execution_count": 3,
   "metadata": {},
   "outputs": [],
   "source": [
    "max_abs = .0000001\n",
    "var = _make_sympy_vec(\"x\", 2)\n",
    "rct = sp.symbols(\"r_{ct}\")\n",
    "s = sp.Function(\"s\")\n",
    "n = sp.symbols(\"n\")"
   ]
  },
  {
   "cell_type": "code",
   "execution_count": 4,
   "metadata": {},
   "outputs": [],
   "source": [
    "def compute_derivatives(p):\n",
    "    var = _make_sympy_vec(\"x\", 2)\n",
    "    var_t = _make_sympy_vec(\"t\", 2)\n",
    "    g_x_y = sp.log(sp.sqrt((var[0]-var_t[0])**2 + (var[1]-var_t[1])**2))\n",
    "    derivs = [sp.diff(g_x_y,\n",
    "                        var_t[0], i).subs(var_t[0], 0).subs(var_t[1], 0)\n",
    "                        for i in range(p)]\n",
    "    return derivs\n",
    "l_max = 20\n",
    "derivs_laplace = compute_derivatives(l_max)"
   ]
  },
  {
   "cell_type": "code",
   "execution_count": 5,
   "metadata": {},
   "outputs": [],
   "source": [
    "def compute_derivatives_h2d(p):\n",
    "    k = 1\n",
    "    var = _make_sympy_vec(\"x\", 2)\n",
    "    var_t = _make_sympy_vec(\"t\", 2)\n",
    "    abs_dist = sp.sqrt((var[0]-var_t[0])**2 +\n",
    "                        (var[1]-var_t[1])**2)\n",
    "    g_x_y = (1j/4) * hankel1(0, k * abs_dist)\n",
    "    derivs_helmholtz = [sp.diff(g_x_y,\n",
    "                        var_t[0], i).subs(var_t[0], 0).subs(var_t[1], 0)\n",
    "                                                for i in range(p)]\n",
    "    return derivs_helmholtz\n",
    "h_max = 8\n",
    "#derivs_helmholtz = compute_derivatives_h2d(h_max)"
   ]
  },
  {
   "cell_type": "code",
   "execution_count": 5,
   "metadata": {},
   "outputs": [],
   "source": [
    "def evaluate_recurrence_lamb(coord_dict, recur, p, derivs_list, n_initial, n_order):\n",
    "    subs_dict = {}\n",
    "    for i in range(n_initial-n_order, 0):\n",
    "        subs_dict[s(i)] = 0\n",
    "    for i in range(n_initial):\n",
    "        subs_dict[s(i)] = derivs_list[i].subs(coord_dict)\n",
    "    var = _make_sympy_vec(\"x\", 2)\n",
    "    for i in range(n_initial, p):\n",
    "        exp = get_recurrence(recur, i)\n",
    "        f = sp.lambdify([var[0], var[1]] + [s(i-(1+k)) for k in range(n_order-1)], exp)\n",
    "        subs_dict[s(i)] = f(*([coord_dict[var[0]], coord_dict[var[1]]] + [subs_dict[s(i-(1+k))] for k in range(n_order-1)]))\n",
    "    for i in range(n_initial-n_order, 0):\n",
    "        subs_dict.pop(s(i))\n",
    "    return np.array(list(subs_dict.values()))"
   ]
  },
  {
   "cell_type": "code",
   "execution_count": 6,
   "metadata": {},
   "outputs": [],
   "source": [
    "def evaluate_true(coord_dict, p, derivs_list):\n",
    "    retMe = []\n",
    "    for i in range(p):\n",
    "        exp = derivs_list[i]\n",
    "        f = sp.lambdify(var, exp)\n",
    "        retMe.append(f(coord_dict[var[0]], coord_dict[var[1]]))\n",
    "    return np.array(retMe)"
   ]
  },
  {
   "cell_type": "code",
   "execution_count": 7,
   "metadata": {},
   "outputs": [],
   "source": [
    "def compute_error_coord(recur, loc, order, derivs_list, n_initial, n_order):\n",
    "    var = _make_sympy_vec(\"x\", 2)\n",
    "    coord_dict = {var[0]: loc[0], var[1]: loc[1]}\n",
    "\n",
    "    exp = evaluate_recurrence_lamb(coord_dict, recur, order+1, derivs_list, n_initial, n_order)[order].evalf()\n",
    "    \n",
    "    true = derivs_list[order].subs(coord_dict).evalf()\n",
    "\n",
    "    \n",
    "\n",
    "    return (np.abs(exp-true)/np.abs(true))"
   ]
  },
  {
   "cell_type": "code",
   "execution_count": 8,
   "metadata": {},
   "outputs": [],
   "source": [
    "def generate_error_grid(res, order_plot, recur, derivs, n_initial, n_order):\n",
    "    x_grid = [10**(pw) for pw in np.linspace(-8, 0, res)]\n",
    "    y_grid = [10**(pw) for pw in np.linspace(-8, 0, res)]\n",
    "    res=len(x_grid)\n",
    "    plot_me = np.empty((res, res))\n",
    "    for i in range(res):\n",
    "        for j in range(res):\n",
    "            if abs(x_grid[i]) == abs(y_grid[j]):\n",
    "                plot_me[i, j] = 1e-16\n",
    "            else:\n",
    "                plot_me[i,j] = compute_error_coord(recur, np.array([x_grid[i],y_grid[j]]), order_plot, derivs, n_initial, n_order)\n",
    "                if plot_me[i,j] == 0:\n",
    "                    plot_me[i, j] = 1e-16\n",
    "    return x_grid, y_grid, plot_me"
   ]
  },
  {
   "cell_type": "code",
   "execution_count": 9,
   "metadata": {},
   "outputs": [
    {
     "ename": "NameError",
     "evalue": "name 'derivs_helmholtz' is not defined",
     "output_type": "error",
     "traceback": [
      "\u001b[0;31m---------------------------------------------------------------------------\u001b[0m",
      "\u001b[0;31mNameError\u001b[0m                                 Traceback (most recent call last)",
      "Cell \u001b[0;32mIn[9], line 2\u001b[0m\n\u001b[1;32m      1\u001b[0m order_plot \u001b[38;5;241m=\u001b[39m \u001b[38;5;241m5\u001b[39m\n\u001b[0;32m----> 2\u001b[0m x_grid, y_grid, plot_me_hem \u001b[38;5;241m=\u001b[39m generate_error_grid(res\u001b[38;5;241m=\u001b[39m\u001b[38;5;241m5\u001b[39m, order_plot\u001b[38;5;241m=\u001b[39morder_plot, recur\u001b[38;5;241m=\u001b[39mrecur_helmholtz, derivs\u001b[38;5;241m=\u001b[39m\u001b[43mderivs_helmholtz\u001b[49m, n_initial\u001b[38;5;241m=\u001b[39mn_init_helm, n_order\u001b[38;5;241m=\u001b[39morder_helm)\n\u001b[1;32m      3\u001b[0m x_grid, y_grid, plot_me_lap  \u001b[38;5;241m=\u001b[39m generate_error_grid(res\u001b[38;5;241m=\u001b[39m\u001b[38;5;241m5\u001b[39m, order_plot\u001b[38;5;241m=\u001b[39morder_plot, recur\u001b[38;5;241m=\u001b[39mrecur_laplace, derivs\u001b[38;5;241m=\u001b[39mderivs_laplace, n_initial\u001b[38;5;241m=\u001b[39mn_init_lap, n_order\u001b[38;5;241m=\u001b[39morder_lap)\n\u001b[1;32m      5\u001b[0m fig, (ax1, ax2) \u001b[38;5;241m=\u001b[39m plt\u001b[38;5;241m.\u001b[39msubplots(\u001b[38;5;241m1\u001b[39m, \u001b[38;5;241m2\u001b[39m, figsize\u001b[38;5;241m=\u001b[39m(\u001b[38;5;241m15\u001b[39m, \u001b[38;5;241m8\u001b[39m))\n",
      "\u001b[0;31mNameError\u001b[0m: name 'derivs_helmholtz' is not defined"
     ]
    }
   ],
   "source": [
    "order_plot = 5\n",
    "x_grid, y_grid, plot_me_hem = generate_error_grid(res=5, order_plot=order_plot, recur=recur_helmholtz, derivs=derivs_helmholtz, n_initial=n_init_helm, n_order=order_helm)\n",
    "x_grid, y_grid, plot_me_lap  = generate_error_grid(res=5, order_plot=order_plot, recur=recur_laplace, derivs=derivs_laplace, n_initial=n_init_lap, n_order=order_lap)\n",
    "                \n",
    "fig, (ax1, ax2) = plt.subplots(1, 2, figsize=(15, 8))\n",
    "cs = ax1.contourf(x_grid, y_grid, plot_me_hem.T, locator=ticker.LogLocator(), cmap=cm.PuBu_r)\n",
    "cbar = fig.colorbar(cs)\n",
    "\n",
    "cs = ax2.contourf(x_grid, y_grid, plot_me_lap.T, locator=ticker.LogLocator(), cmap=cm.PuBu_r)\n",
    "cbar = fig.colorbar(cs)\n",
    "ax1.set_xscale('log')\n",
    "ax1.set_yscale('log')\n",
    "ax1.set_xlabel(\"source x-coord\")\n",
    "ax1.set_ylabel(\"source y-coord\")\n",
    "\n",
    "\n",
    "ax2.set_xscale('log')\n",
    "ax2.set_yscale('log')\n",
    "ax2.set_xlabel(\"source x-coord\")\n",
    "ax2.set_ylabel(\"source y-coord\")\n",
    "\n",
    "ax1.set_title(\"Helmholtz recurrence relative error for order = \"+str(order_plot))\n",
    "ax2.set_title(\"Laplace recurrence relative error for order = \"+str(order_plot))\n",
    "\n",
    "fig.savefig('order'+str(order_plot))\n",
    "plt.show()"
   ]
  },
  {
   "cell_type": "code",
   "execution_count": 32,
   "metadata": {},
   "outputs": [
    {
     "name": "stderr",
     "output_type": "stream",
     "text": [
      "/var/folders/8s/7hlc6ky15zzflj9wcf92cdxh0000gn/T/ipykernel_47734/1801212714.py:8: UserWarning: Log scale: values of z <= 0 have been masked\n",
      "  cs1 = ax1.contourf(x_grid, y_grid, plot_me_hem.T < cutoff, locator=ticker.LogLocator(), cmap=cm.PuBu_r)\n",
      "/var/folders/8s/7hlc6ky15zzflj9wcf92cdxh0000gn/T/ipykernel_47734/1801212714.py:9: UserWarning: Log scale: values of z <= 0 have been masked\n",
      "  cs2 = ax2.contourf(x_grid, y_grid, plot_me_lap.T < cutoff, locator=ticker.LogLocator(), cmap=cm.PuBu_r)\n"
     ]
    },
    {
     "data": {
      "image/png": "[encoded data removed]",
      "text/plain": [
       "<Figure size 1500x800 with 3 Axes>"
      ]
     },
     "metadata": {},
     "output_type": "display_data"
    }
   ],
   "source": [
    "order1 = 7\n",
    "order2 = 19\n",
    "cutoff = 1e-9\n",
    "x_grid, y_grid, plot_me_hem = generate_error_grid(res=5, order_plot=order1, recur=recur_laplace, derivs=derivs_laplace, n_initial=n_init_lap, n_order=order_lap)\n",
    "x_grid, y_grid, plot_me_lap  = generate_error_grid(res=5, order_plot=order2, recur=recur_laplace, derivs=derivs_laplace, n_initial=n_init_lap, n_order=order_lap)\n",
    "                \n",
    "fig, (ax1, ax2) = plt.subplots(1, 2, figsize=(15, 8))\n",
    "cs1 = ax1.contourf(x_grid, y_grid, plot_me_hem.T < cutoff, locator=ticker.LogLocator(), cmap=cm.PuBu_r)\n",
    "cs2 = ax2.contourf(x_grid, y_grid, plot_me_lap.T < cutoff, locator=ticker.LogLocator(), cmap=cm.PuBu_r)\n",
    "\n",
    "fig.subplots_adjust(right=0.8)\n",
    "cbar_ax = fig.add_axes([0.85, 0.15, 0.05, 0.7])\n",
    "#fig.colorbar(cs1, cax=cbar_ax)\n",
    "\n",
    "ax1.set_xscale('log')\n",
    "ax1.set_yscale('log')\n",
    "ax1.set_xlabel(\"source x-coord\")\n",
    "ax1.set_ylabel(\"source y-coord\")\n",
    "\n",
    "ax2.set_xscale('log')\n",
    "ax2.set_yscale('log')\n",
    "ax2.set_xlabel(\"source x-coord\")\n",
    "ax2.set_ylabel(\"source y-coord\")\n",
    "\n",
    "ax1.set_title('Standard Recurrence Order '+str(order1)+', Laplace (blue=err<'+str(cutoff)+')')\n",
    "ax2.set_title('Standard Recurrence Order '+str(order2)+', Laplace (blue=err<'+str(cutoff)+')')\n",
    "\n",
    "plt.show()"
   ]
  },
  {
   "cell_type": "markdown",
   "metadata": {},
   "source": []
  },
  {
   "cell_type": "markdown",
   "metadata": {},
   "source": []
  },
  {
   "cell_type": "markdown",
   "metadata": {},
   "source": []
  },
  {
   "cell_type": "markdown",
   "metadata": {},
   "source": []
  },
  {
   "cell_type": "markdown",
   "metadata": {},
   "source": []
  },
  {
   "cell_type": "markdown",
   "metadata": {},
   "source": []
  },
  {
   "cell_type": "code",
   "execution_count": null,
   "metadata": {},
   "outputs": [],
   "source": [
    "recur_laplace"
   ]
  },
  {
   "cell_type": "code",
   "execution_count": null,
   "metadata": {},
   "outputs": [],
   "source": [
    "orders_odd = [i for i in range(6, l_max, 2)]\n",
    "err1 = []\n",
    "err2 = []\n",
    "for o in orders_odd:\n",
    "    err1.append(compute_error_coord(recur_laplace, np.array([1e-4, 1]), o, derivs_laplace, n_init_lap, order_lap))\n",
    "    err2.append(compute_error_coord(recur_laplace, np.array([1e-8, 1]), o, derivs_laplace, n_init_lap, order_lap))\n",
    "\n",
    "orders_odd = np.array(orders_odd)\n",
    "err1 = np.array(err1, dtype=float)\n",
    "err2 = np.array(err2, dtype=float)\n",
    "\n",
    "coefficients1 = np.polyfit(np.log10(orders_odd), np.log10(err1), 1)\n",
    "coefficients2 = np.polyfit(np.log10(orders_odd), np.log10(err2), 1)\n",
    "polynomial1 = np.poly1d(coefficients1)\n",
    "log10_y_fit1 = polynomial1(np.log10(orders_odd))\n",
    "plt.plot(orders_odd, 10**log10_y_fit1, '*-')\n",
    "plt.scatter(orders_odd, err1, label='1e-4')\n",
    "\n",
    "polynomial2 = np.poly1d(coefficients2)\n",
    "log10_y_fit2 = polynomial2(np.log10(orders_odd))\n",
    "plt.plot(orders_odd, 10**log10_y_fit2, '*-')\n",
    "plt.scatter(orders_odd, err2, label='1e-8')\n",
    "plt.xscale('log')\n",
    "plt.yscale('log')\n",
    "plt.title(\"Rel Error vs Order Laplace 2D (Even Derivatives Only)\")\n",
    "plt.legend()"
   ]
  },
  {
   "cell_type": "code",
   "execution_count": null,
   "metadata": {},
   "outputs": [],
   "source": [
    "err1 = []\n",
    "err2 = []\n",
    "orders_odd = [i for i in range(5, l_max, 2)]\n",
    "\n",
    "for o in orders_odd:\n",
    "    err1.append(compute_error_coord(recur_laplace, np.array([1e-4, 1]), o, derivs_laplace, n_init_lap, order_lap))\n",
    "    err2.append(compute_error_coord(recur_laplace, np.array([1e-8, 1]), o, derivs_laplace, n_init_lap, order_lap))\n",
    "\n",
    "orders_even = np.array(orders_odd)\n",
    "err1 = np.array(err1, dtype=float)\n",
    "err2 = np.array(err2, dtype=float)\n",
    "\n",
    "coefficients1 = np.polyfit(np.log10(orders_even), np.log10(err1), 1)\n",
    "coefficients2 = np.polyfit(np.log10(orders_even), np.log10(err2), 1)\n",
    "polynomial1 = np.poly1d(coefficients1)\n",
    "log10_y_fit1 = polynomial1(np.log10(orders_even))\n",
    "plt.plot(orders_even, 10**log10_y_fit1, '*-')\n",
    "plt.scatter(orders_even, err1, label='1e-4')\n",
    "\n",
    "polynomial2 = np.poly1d(coefficients2)\n",
    "log10_y_fit2 = polynomial2(np.log10(orders_even))\n",
    "plt.plot(orders_even, 10**log10_y_fit2, '*-')\n",
    "plt.scatter(orders_even, err2, label='1e-8')\n",
    "plt.xscale('log')\n",
    "plt.yscale('log')\n",
    "plt.title(\"Rel. Error vs Order Laplace 2D (Odd Derivatives Only)\")\n",
    "plt.legend()"
   ]
  },
  {
   "cell_type": "code",
   "execution_count": 14,
   "metadata": {},
   "outputs": [],
   "source": [
    "def get_slope(loc, orders):\n",
    "    err = []\n",
    "    for o in orders:\n",
    "        err.append(compute_error_coord(recur_laplace, loc, o, derivs_laplace, n_init_lap, order_lap))\n",
    "    \n",
    "    err = np.array(err, dtype=float)\n",
    "    coefficients = np.polyfit(np.log10(orders), np.log10(err), 1)\n",
    "\n",
    "    return coefficients[0]"
   ]
  },
  {
   "cell_type": "code",
   "execution_count": 15,
   "metadata": {},
   "outputs": [],
   "source": [
    "ratios = np.array([1e-8,1e-7,1e-6,1e-5,1e-4,1e-3,1e-2,1e-1])\n",
    "slopes = []\n",
    "for r in ratios:\n",
    "    slopes.append(get_slope(np.array([r, 1]), np.array([i for i in range(6, l_max, 2)])))"
   ]
  },
  {
   "cell_type": "code",
   "execution_count": null,
   "metadata": {},
   "outputs": [],
   "source": [
    "plt.scatter(ratios, slopes)\n",
    "plt.xscale('log')\n",
    "plt.title(\"Slope of Best Fit vs ratio of y0/x0 for even derivatives\")"
   ]
  },
  {
   "cell_type": "code",
   "execution_count": 17,
   "metadata": {},
   "outputs": [],
   "source": [
    "coefficients_new = np.polyfit(np.log10(ratios), slopes, 1)"
   ]
  },
  {
   "cell_type": "code",
   "execution_count": null,
   "metadata": {},
   "outputs": [],
   "source": [
    "coefficients_new"
   ]
  },
  {
   "cell_type": "code",
   "execution_count": null,
   "metadata": {},
   "outputs": [],
   "source": []
  }
 ],
 "metadata": {
  "kernelspec": {
   "display_name": "inteq",
   "language": "python",
   "name": "python3"
  },
  "language_info": {
   "codemirror_mode": {
    "name": "ipython",
    "version": 3
   },
   "file_extension": ".py",
   "mimetype": "text/x-python",
   "name": "python",
   "nbconvert_exporter": "python",
   "pygments_lexer": "ipython3",
   "version": "3.11.9"
  }
 },
 "nbformat": 4,
 "nbformat_minor": 2
}
